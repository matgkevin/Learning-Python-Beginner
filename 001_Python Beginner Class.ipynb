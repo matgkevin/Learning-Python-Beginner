{
 "cells": [
  {
   "cell_type": "markdown",
   "id": "b224c4ab",
   "metadata": {},
   "source": [
    "# Learning Python From Scratch!\n",
    "With Chweya Matagaro"
   ]
  },
  {
   "cell_type": "markdown",
   "id": "4c3afd15",
   "metadata": {},
   "source": [
    "## Check the Python Version\n",
    "<p><code>sys</code> is a built-in Python module that contains many system-specific parameters and functions, including the Python version in use.<ul>\n",
    "</ul>Before using it, we must explictly import it.<ul>\n",
    "</ul>Check the code below<p>"
   ]
  },
  {
   "cell_type": "code",
   "execution_count": 1,
   "id": "72d182db",
   "metadata": {},
   "outputs": [
    {
     "name": "stdout",
     "output_type": "stream",
     "text": [
      "3.7.1 (default, Oct 28 2018, 08:39:03) [MSC v.1912 64 bit (AMD64)]\n"
     ]
    }
   ],
   "source": [
    "import sys\n",
    "print(sys.version)"
   ]
  },
  {
   "cell_type": "markdown",
   "id": "15e49076",
   "metadata": {},
   "source": [
    "## Types of Cells\n",
    "<p>Code cells: Allow you to enter programming commands<ul>\n",
    "</ul>Markdown: Allows you to enter comments</p>"
   ]
  },
  {
   "cell_type": "markdown",
   "id": "a104c953",
   "metadata": {},
   "source": [
    "## Hashtags & HTML Formatting\n",
    "<p>\n",
    "    Use <code>#</code> Hashtags in code cells to make comments and guide users.<ul>\n",
    "        </ul>For multi-line comments in code cells, you can use three quotes<ul>\n",
    "</ul>HTML formatting in Markdown cells makes it easier to read comments</p>"
   ]
  },
  {
   "cell_type": "code",
   "execution_count": 2,
   "id": "003ce20f",
   "metadata": {},
   "outputs": [],
   "source": [
    "#This is a comment, zero output but great for guidance"
   ]
  },
  {
   "cell_type": "code",
   "execution_count": 3,
   "id": "c3d8ac6a",
   "metadata": {},
   "outputs": [
    {
     "name": "stdout",
     "output_type": "stream",
     "text": [
      "See, the comments don't appear\n"
     ]
    }
   ],
   "source": [
    "'''Sometimes your comments,\n",
    "just need to dive a few lines down,\n",
    "you feel me?'''\n",
    "\n",
    "print(\"See, the comments don't appear\")"
   ]
  },
  {
   "cell_type": "markdown",
   "id": "dc0680e8",
   "metadata": {},
   "source": [
    "## Hello World!\n",
    "<p>Printing this string is the most common innitiation into programming.<ul>\n",
    "    </ul>Create a code cell and type:\n",
    "    <ul>\n",
    "    <li><code>print('Hello World!')</code></li>\n",
    "    <li><code>print(\"Hello World\")</code></li>\n",
    "</ul></p>"
   ]
  },
  {
   "cell_type": "code",
   "execution_count": 4,
   "id": "9e2edf21",
   "metadata": {},
   "outputs": [
    {
     "name": "stdout",
     "output_type": "stream",
     "text": [
      "Hello World!\n",
      "Hello World\n"
     ]
    }
   ],
   "source": [
    "print(\"Hello World!\")\n",
    "print('Hello World')"
   ]
  },
  {
   "cell_type": "markdown",
   "id": "c8b07a5b",
   "metadata": {},
   "source": [
    "<p>Straightfoward right? Unless of course you got an error.<ul>\n",
    "    </ul>Take note of capitalisation of <code>print</code> otherwise you will get a name error since python does not know what particular function you are calling<ul>\n",
    "</ul><code>Hello world</code> is a string hence has to be put in either double or single quotation marks.<ul>\n",
    "</ul>The openning quotation marks have to match the closing quotation marks otherwise a Synatax error</p>"
   ]
  },
  {
   "cell_type": "markdown",
   "id": "d3c2c638",
   "metadata": {},
   "source": [
    "## Errors in Python\n",
    "<p><b>TypeError</b>: combining strings with digits<ul>\n",
    "</ul><b>SyntaxError</b>: Not putting matching quotes,assigning a variable name that starts with a number, not closing a bracket<ul>\n",
    "</ul><b>NameError</b>: Calling a variable that has not been defined, calling a function that does not exist in library e.g.capitalising a function code e.g. Print(....)<p>"
   ]
  },
  {
   "cell_type": "markdown",
   "id": "f6a0d1b9",
   "metadata": {},
   "source": [
    "## Getting Help on Python\n",
    "<p>There are many options including:<ul>\n",
    "   </ul>\n",
    "   <li>Use the '<code>help()</code>' or '<code>?</code>' to access the documentation of a function</li>\n",
    "   <li>To show attributes of an object, type the name of the object followed by a period '<code>.</code>' character then press Shift and Tab key</li>\n",
    "   <li>Use the help menu to access online documentation</li>\n",
    "   <li>Google errors</li>\n",
    "   </ul><p>"
   ]
  },
  {
   "cell_type": "code",
   "execution_count": 5,
   "id": "84abb6fb",
   "metadata": {},
   "outputs": [
    {
     "name": "stdout",
     "output_type": "stream",
     "text": [
      "Help on built-in function len in module builtins:\n",
      "\n",
      "len(obj, /)\n",
      "    Return the number of items in a container.\n",
      "\n"
     ]
    }
   ],
   "source": [
    "help(len)"
   ]
  },
  {
   "cell_type": "code",
   "execution_count": 6,
   "id": "0396ca61",
   "metadata": {},
   "outputs": [],
   "source": [
    "#Note it generates a pop-up rather than printed output\n",
    "len?"
   ]
  },
  {
   "cell_type": "code",
   "execution_count": 7,
   "id": "3ae9c3a1",
   "metadata": {
    "scrolled": true
   },
   "outputs": [
    {
     "ename": "SyntaxError",
     "evalue": "invalid syntax (2276191670.py, line 3)",
     "output_type": "error",
     "traceback": [
      "\u001b[1;36m  File \u001b[1;32m\"C:\\Users\\user\\AppData\\Local\\Temp\\ipykernel_6580\\2276191670.py\"\u001b[1;36m, line \u001b[1;32m3\u001b[0m\n\u001b[1;33m    len.\u001b[0m\n\u001b[1;37m        ^\u001b[0m\n\u001b[1;31mSyntaxError\u001b[0m\u001b[1;31m:\u001b[0m invalid syntax\n"
     ]
    }
   ],
   "source": [
    "#Place a period infornt of function or object and press Shift and Tab\n",
    "#Note it generates a pop-up rather than printed output\n",
    "len."
   ]
  },
  {
   "cell_type": "markdown",
   "id": "f557ce23",
   "metadata": {},
   "source": [
    "# Variable Names\n",
    "If you want to give a name to a variable, you must follow some strict rules:\n",
    "\n",
    "The name of the variable must be composed of upper-case or lower-case letters, digits, and the character _ (underscore)\n",
    "\n",
    "The name of the variable must begin with a letter;\n",
    "\n",
    "The underscore character is a letter;\n",
    "\n",
    "Upper- and lower-case letters are treated as different (a little differently than in the real world – Alice and ALICE are the same first names, but in Python they are two different variable names, and consequently, two different variables);\n",
    "\n",
    "The name of the variable must not be any of Python's reserved words: <code> ['False', 'None', 'True', 'and', 'as', 'assert', 'break', 'class', 'continue', 'def', 'del', 'elif', 'else', 'except', 'finally', 'for', 'from', 'global', 'if', 'import', 'in', 'is', 'lambda', 'nonlocal', 'not', 'or', 'pass', 'raise', 'return', 'try', 'while', 'with', 'yield']</code>\n",
    "\n"
   ]
  },
  {
   "cell_type": "markdown",
   "id": "0acce1ef",
   "metadata": {},
   "source": [
    "## Assignment Operator\n",
    "<p>\n",
    "<code>=</code>: Assigns value<ul>\n",
    "</ul><code>+=</code>: Increases the value of the variable by the value on the RHS<ul>\n",
    "</ul><code>-=</code>: Deacreases the value of the variable by the value on the RHS<ul>\n",
    "</ul><code>*=</code>: Multiplies the value of the variable by the value on the RHS<ul>\n",
    "</ul><code>/=</code>: Divides the value of the variable by the value on the RHS\n",
    "</p>"
   ]
  },
  {
   "cell_type": "code",
   "execution_count": null,
   "id": "3f847dc9",
   "metadata": {},
   "outputs": [],
   "source": [
    "x = 5\n",
    "print(\"x = \", x)\n",
    "x += 5\n",
    "print(\"(x += 5)=\", x)\n",
    "x -=2\n",
    "print(\"(x -=2)= \", x)\n",
    "x *= 2\n",
    "print(\"(x *= 2)=\", x)\n",
    "x /= 4\n",
    "print('(x /= 4)=', x)"
   ]
  },
  {
   "cell_type": "markdown",
   "id": "3a2a260c",
   "metadata": {},
   "source": [
    "<em>i+=1 is the same as i=i+1, whereas i=+1 just means i=(+1)</em>"
   ]
  },
  {
   "cell_type": "code",
   "execution_count": null,
   "id": "f325e14f",
   "metadata": {},
   "outputs": [],
   "source": [
    "#We can assign value to variables as shown below and perform operations on it\n",
    "x=3\n",
    "y=8\n",
    "z=2*x+y+6\n",
    "z"
   ]
  },
  {
   "cell_type": "code",
   "execution_count": null,
   "id": "438af9ec",
   "metadata": {},
   "outputs": [],
   "source": [
    "#You can also assign values to several variables at once:\n",
    "x,y,z,xz=4,15,2*x+y+6,\"This is nifty\"\n",
    "print(x)\n",
    "print(y)\n",
    "print(z)\n",
    "print(xz)\n",
    "\n",
    "#This string will in many instances generate a name error if variables x and y had not been declared earlier.\n",
    "#It will also generate a computationally incorrect answer since it recalls earlier declared variable values for x and y\n",
    "#Therefore for variables that are dependent on each other are best done on separate code lines like this:\n",
    "x,y,xz=4,15,\"This is nifty\"\n",
    "z=2*x+y+6\n",
    "print(x)\n",
    "print(y)\n",
    "print(z)\n",
    "print(xz)\n",
    "print(x,y,z,xz)"
   ]
  },
  {
   "cell_type": "markdown",
   "id": "14993e10",
   "metadata": {},
   "source": [
    "## Arthimetic Operators\n",
    "<p><ul>\n",
    "    </ul><code>+</code>: Addittion<ul>\n",
    "    </ul><code>-</code>: Subtraction <ul>\n",
    "    </ul><code>*</code>: Multiplication<ul>\n",
    "    </ul><code>/</code>: Division<ul>\n",
    "    </ul><code>%</code>: Remainder, allows us to generate the remainder part of a division<ul>\n",
    "    </ul><code>//</code>: Quotient, allows us to generate the interger part of a division i.e. the quotient<ul>\n",
    "    </ul><code>**</code>: To the power<ul>\n",
    "    </ul></p>"
   ]
  },
  {
   "cell_type": "code",
   "execution_count": null,
   "id": "7ed11ee2",
   "metadata": {},
   "outputs": [],
   "source": [
    "a = 4\n",
    "b = 3\n",
    "print('a + b =',a+b)   \n",
    "print('a - b =',a-b) \n",
    "print('a * b =',a*b) \n",
    "print('a % b =',a%b)\n",
    "print('a / b =',a/b)  \n",
    "print('a // b =',a//b) \n",
    "print('a ** b =',a**b)"
   ]
  },
  {
   "cell_type": "markdown",
   "id": "07fcc42d",
   "metadata": {},
   "source": [
    "## Boolean States\n",
    "<p>Boolean states are either True or False (take note of capitalisation)<ul>\n",
    "    </ul><b>True</b> and <b>False</b> can be represented as intergers as either 1 or 0 or their corresponding floats<ul>\n",
    "    </ul>Type casting of boolean states is possible. (We introduce type casting a few lines below)\n",
    "    <p>"
   ]
  },
  {
   "cell_type": "code",
   "execution_count": null,
   "id": "d832c4da",
   "metadata": {},
   "outputs": [],
   "source": [
    "print(bool(1))\n",
    "print(bool(0))\n",
    "print(int(True))\n",
    "print(int(False))\n",
    "print(float(True))\n",
    "print(float(False))"
   ]
  },
  {
   "cell_type": "markdown",
   "id": "adc6e1e9",
   "metadata": {},
   "source": [
    "## Comparison Operators\n",
    "<p><ul>\n",
    "    </ul>equal: <code>==</code><ul>\n",
    "    </ul>not equal: <code>!=</code><ul>\n",
    "    </ul>greater than: <code>></code><ul>\n",
    "    </ul>less than: <code> <</code><ul>\n",
    "    </ul>greater than or equal to: <code>>=</code><ul>\n",
    "    </ul>less than or equal to: <code><=</code><ul>\n",
    "    </ul></p>"
   ]
  },
  {
   "cell_type": "code",
   "execution_count": null,
   "id": "36b355f5",
   "metadata": {},
   "outputs": [],
   "source": [
    "a = 10\n",
    "b = 20\n",
    "\n",
    "print('a > b  is',a>b)\n",
    "print('a < b  is',a<b)\n",
    "print('a == b  is',a==b)\n",
    "print('a != b  is',a!=b)\n",
    "print('a >= b  is',a>=b)\n",
    "print('a <= b  is',a<=b)"
   ]
  },
  {
   "cell_type": "markdown",
   "id": "a410636e",
   "metadata": {},
   "source": [
    "Inequality operation is also used to compare the letters/words/symbols according to the ASCII value of letters. The decimal value shown in the following table represents the order of the character:\n",
    "\n",
    "For example, the ASCII code for ! is 21, while the ASCII code for + is 43. Therefore + is larger than ! as 43 is greater than 21.\n",
    "\n",
    "Similarly, the value for A is 101, and the value for B is 102 therefore:\n",
    "\n",
    "When there are multiple letters, the first letter takes precedence in ordering:\n",
    "lower case \"a\" is greater than upper case \"A\""
   ]
  },
  {
   "cell_type": "code",
   "execution_count": null,
   "id": "db588a96",
   "metadata": {},
   "outputs": [],
   "source": [
    "print(\"'B' > 'A'\\t is\\t\",'B' > 'A')\n",
    "print(\"'BA' > 'AB'\\t is\\t\", 'BA' > 'AB')"
   ]
  },
  {
   "cell_type": "markdown",
   "id": "55a9108a",
   "metadata": {},
   "source": [
    "## Logical Operators\n",
    "<p> They act as conjunctions thus combining two arguments to form a single argument whose boolean state we can now infer.<ul>\n",
    "    </ul>There are 3 logical operators in Python:<ul>\n",
    "    <li><code>and</code>: To be true it needs both arguments to be true. To be false at least one arguments has to be false </li>\n",
    "    <li><code>or</code>: To be true it needs at least one argument to be true. To be false both arguments must be false</li>\n",
    "    <li><code>not</code>: If a statement is true, it returns a false, if false it returns a true. Mostly used in loops where a loop runs as long as a conditon is satisfied and breaks when it stops being satisfied and vice versa</li>\n",
    "</ul>\n"
   ]
  },
  {
   "cell_type": "code",
   "execution_count": null,
   "id": "e4241f12",
   "metadata": {},
   "outputs": [],
   "source": [
    "#Use of 'and'\n",
    "x = 11\n",
    "a = x>10 and x<20\n",
    "print(a)\n",
    "\n",
    "a = x<10 and x<20\n",
    "print(a)\n",
    "\n",
    "a = x>10 and x>20\n",
    "print(a)\n",
    "\n",
    "a = x<10 and x>20\n",
    "print(a)"
   ]
  },
  {
   "cell_type": "code",
   "execution_count": null,
   "id": "370b51ca",
   "metadata": {},
   "outputs": [],
   "source": [
    "#Use of 'or'\n",
    "x = 11\n",
    "a = x>10 or x<20\n",
    "print(a)\n",
    "\n",
    "a = x<10 or x<20\n",
    "print(a)\n",
    "\n",
    "a = x>10 or x>20\n",
    "print(a)\n",
    "\n",
    "a = x<10 or x>20\n",
    "print(a)"
   ]
  },
  {
   "cell_type": "code",
   "execution_count": null,
   "id": "a8558f56",
   "metadata": {},
   "outputs": [],
   "source": [
    "#Use of 'not'\n",
    "x = 11\n",
    "a =not x>10\n",
    "print(a)\n",
    "\n",
    "x = 11\n",
    "a = not x<10\n",
    "print(a)\n",
    "\n",
    "a = not x==10\n",
    "print(a)"
   ]
  },
  {
   "cell_type": "markdown",
   "id": "7219f44e",
   "metadata": {},
   "source": [
    "## Bitwise operators\n",
    "<p>\n",
    "<code>&</code> requires exactly two 1s to provide 1 as the result;<ul>\n",
    "</ul><code>|</code> requires at least one 1 to provide 1 as the result;<ul>\n",
    "</ul><code>^</code> requires exactly one 1 to provide 1 as the result.<ul>\n",
    "</ul>The arguments of these operators must be integers; we must not use floats here.\n",
    "</p>"
   ]
  },
  {
   "cell_type": "markdown",
   "id": "c5129cce",
   "metadata": {},
   "source": [
    "## Boolean String test\n",
    "<p>\n",
    "    They only work on strings:<ul>\n",
    "        <li>isalpha()</li>\n",
    "        <li>isalnum()</li>\n",
    "        <li>isdigit()</li>\n",
    "        <li>islower()</li>\n",
    "        <li>isupper()</li>\n",
    "        <li>istitle()</li>\n",
    "        <li>startswith('')</li>\n",
    "        <li>endswith('')</li></ul>\n",
    "        </p>"
   ]
  },
  {
   "cell_type": "code",
   "execution_count": null,
   "id": "7c0dbd0b",
   "metadata": {},
   "outputs": [],
   "source": [
    "#Is string Alphabetical characters?\n",
    "print(\"Python\".isalpha())"
   ]
  },
  {
   "cell_type": "code",
   "execution_count": null,
   "id": "589d92d6",
   "metadata": {},
   "outputs": [],
   "source": [
    "#is string alphanumeric?\n",
    "print(\"Python\".isalnum())\n",
    "print(\"3\".isalnum())\n",
    "print(\"3rd\".isalnum())"
   ]
  },
  {
   "cell_type": "code",
   "execution_count": null,
   "id": "a5f96e77",
   "metadata": {},
   "outputs": [],
   "source": [
    "#is string digits?\n",
    "print(\"Python\".isdigit())\n",
    "print(\"3\".isdigit())\n",
    "print(\"3rd\".isdigit())"
   ]
  },
  {
   "cell_type": "code",
   "execution_count": null,
   "id": "8598d711",
   "metadata": {},
   "outputs": [],
   "source": [
    "#Is string in lower case?\n",
    "print(\"Python\".islower())\n",
    "print(\"python\".islower())"
   ]
  },
  {
   "cell_type": "code",
   "execution_count": null,
   "id": "3e1a961d",
   "metadata": {},
   "outputs": [],
   "source": [
    "#Is string in upper case?\n",
    "print(\"Python\".isupper())\n",
    "print(\"python\".isupper())\n",
    "print(\"PYTHON\".isupper())"
   ]
  },
  {
   "cell_type": "code",
   "execution_count": null,
   "id": "ec582c87",
   "metadata": {},
   "outputs": [],
   "source": [
    "# Is 1st letter of words in string in upper case?\n",
    "print(\"Python 3.0.0 is Great\".istitle())\n",
    "print(\"Python 3.0.0 Is Great\".istitle())"
   ]
  },
  {
   "cell_type": "code",
   "execution_count": null,
   "id": "78f60173",
   "metadata": {},
   "outputs": [],
   "source": [
    "#Starts with (note this is case sensitive)\n",
    "print(\"Python\".startswith(\"p\"))\n",
    "print(\"Python\".startswith(\"P\"))\n",
    "print(\"Python\".startswith(\"Pyt\"))\n",
    "print(\"Python\".startswith(\"Pyo\"))"
   ]
  },
  {
   "cell_type": "code",
   "execution_count": null,
   "id": "e7bb066a",
   "metadata": {},
   "outputs": [],
   "source": [
    "#Ends with (note this is case sensitive)\n",
    "print(\"Python\".endswith(\"n\"))\n",
    "print(\"Python\".endswith(\"N\"))\n",
    "print(\"Python\".endswith(\"hon\"))\n",
    "print(\"Python\".endswith(\"HON\"))"
   ]
  },
  {
   "cell_type": "markdown",
   "id": "181d4204",
   "metadata": {},
   "source": [
    "## Indexing\n",
    "<p>Indexing allows Python to specify the positioning of individual elements or subsections of a variable or a string.<ul>\n",
    "</ul>Python has two ways of indexing:<ul>\n",
    "    <li>Positive Indexing:</li>\n",
    "    <li>Negative Indexing:</li>\n",
    "    </ul>\n",
    "</p>\n",
    "\n",
    "### Positive Indexing\n",
    "<p>Lets examine a variable 'A':<ul>\n",
    "    <li>The first character has an index 0</li>\n",
    "    <li>The second character has an index 1</li>\n",
    "    <li>:</li>\n",
    "    <li>:</li>\n",
    "    <li>The 'n'th character has an index 'n-1'</li>\n",
    "    </ul>\n",
    "\n",
    "### Negative Indexing\n",
    "<p>Lets examine a variable 'A' with 'n' characters:<ul>\n",
    "    <li>The last character has an index -1</li>\n",
    "    <li>The second last character has an index -2</li>\n",
    "    <li>:</li>\n",
    "    <li>:</li>\n",
    "    <li>The first character has an index '-n'</li>\n",
    "    </ul>\n",
    "\n",
    "### <code>len()</code> \n",
    "Function allows us to know the number of elements in a variable or string\n",
    "\n",
    "\n",
    "### <code>A[i]</code>\n",
    "This code allows us to determine the element or variable occupying the 'i'th index of avariable 'A'"
   ]
  },
  {
   "cell_type": "code",
   "execution_count": null,
   "id": "e19c3f0d",
   "metadata": {},
   "outputs": [],
   "source": [
    "car=\"Fiat-SE\"\n",
    "print(car,'\\n')  #\\n is an escape sequence that adds an empty line\n",
    "\n",
    "#len() Generates the number of characters in a variable (thats string in nature)\n",
    "print(len(car),'\\n')\n",
    "\n",
    "#We can use positive indexing to access the variable occupying a particular index\n",
    "print(car[0])\n",
    "print(car[1])\n",
    "print(car[2])\n",
    "print(car[3])\n",
    "print(car[4])\n",
    "print(car[5])\n",
    "print(car[6])"
   ]
  },
  {
   "cell_type": "code",
   "execution_count": null,
   "id": "466d2b5c",
   "metadata": {},
   "outputs": [],
   "source": [
    "#We can also use negative indexing to access the variable occupying a particular index\n",
    "print(car[-7])\n",
    "print(car[-6])\n",
    "print(car[-5])\n",
    "print(car[-4])\n",
    "print(car[-3])\n",
    "print(car[-2])\n",
    "print(car[-1])"
   ]
  },
  {
   "cell_type": "markdown",
   "id": "dfe1b2b8",
   "metadata": {},
   "source": [
    "Later on we will learn about loop functions allowing us to run the previous two lines of code with less hassle"
   ]
  },
  {
   "cell_type": "code",
   "execution_count": null,
   "id": "d659e24c",
   "metadata": {},
   "outputs": [],
   "source": [
    "#The function below uses a loop function to print the index and corresponding element\n",
    "car=\"Fiat-SE\"\n",
    "for i in range(len(car)):\n",
    "    print(i,car[i])"
   ]
  },
  {
   "cell_type": "code",
   "execution_count": null,
   "id": "2a79fd1b",
   "metadata": {},
   "outputs": [],
   "source": [
    "#The function below uses a loop function to print the index and corresponding element\n",
    "car=\"Fiat-SE\"\n",
    "for i in range(len(car)):\n",
    "    print(-len(car)+i,car[-len(car)+i])"
   ]
  },
  {
   "cell_type": "markdown",
   "id": "7fb3a585",
   "metadata": {},
   "source": [
    "## <code>A.count('x')</code>\n",
    "<p>\n",
    "<code>A.count('x')</code> function counts the number of times the substring <code>'x'</code> appears in variable <code>A</code>\n",
    "</p>"
   ]
  },
  {
   "cell_type": "code",
   "execution_count": null,
   "id": "f45ada88",
   "metadata": {},
   "outputs": [],
   "source": [
    "car=\"Mercedes Benz\"\n",
    "print(car.count('e'))\n",
    "print(car.count('a'))"
   ]
  },
  {
   "cell_type": "markdown",
   "id": "fd3cc9e1",
   "metadata": {},
   "source": [
    "###  <code>A.find('x')</code>, <code>A.index('x')</code> and <code>in</code>\n",
    "<p>\n",
    "    This two codes generate the index the substring <code>'x'</code> first appears in variable <code>A</code><ul>\n",
    "        <li><code>A.find('x')</code></li>\n",
    "        <li><code>A.index('x')</code></li>\n",
    "        </ul><code>in</code> is a boolean test that checks if an element (on the LHS) is contained in the object on the RHS </p>"
   ]
  },
  {
   "cell_type": "code",
   "execution_count": null,
   "id": "b21840af",
   "metadata": {},
   "outputs": [],
   "source": [
    "car=\"Fiat SE\"\n",
    "print(len(car))\n",
    "print(car.find(\"Fiat\"))\n",
    "print(car.find(\"t\"))"
   ]
  },
  {
   "cell_type": "code",
   "execution_count": null,
   "id": "1b35df78",
   "metadata": {},
   "outputs": [],
   "source": [
    "car=\"Fiat SE\"\n",
    "print(len(car))\n",
    "print(car.index(\"Fiat\"))\n",
    "print(car.index(\"t\"))"
   ]
  },
  {
   "cell_type": "code",
   "execution_count": null,
   "id": "12e04e4f",
   "metadata": {},
   "outputs": [],
   "source": [
    "car=\"Fiat SE\"\n",
    "'E' in car"
   ]
  },
  {
   "cell_type": "markdown",
   "id": "d876aa00",
   "metadata": {},
   "source": [
    "### <code>A.replace(x,y)</code>\n",
    "<p>\n",
    "<code>A.replace(x,y)</code> function searches for <code>x</code> in variable <code>A</code>, if it find it it replaces it with <code>y</code> otherwise it leaves <code>A</code> unaffected.<ul>\n",
    "</ul>Sensitive to capitalisation and use quotation marks if substring or variable is undefined\n",
    "</p>"
   ]
  },
  {
   "cell_type": "code",
   "execution_count": null,
   "id": "eb19c9c7",
   "metadata": {},
   "outputs": [],
   "source": [
    "car=\"Fiat SE Fiat SE\"\n",
    "print(len(car))\n",
    "print(car.replace(\"cab\", \"Truck\"))\n",
    "print(car.replace(\"SE\", \"Truck\"))\n",
    "print(car.replace(car[9:13], \"Boat\"))"
   ]
  },
  {
   "cell_type": "markdown",
   "id": "ed16c089",
   "metadata": {},
   "source": [
    "## Using Indexing to 'Slice' an Object"
   ]
  },
  {
   "cell_type": "code",
   "execution_count": null,
   "id": "c22a46b3",
   "metadata": {
    "scrolled": true
   },
   "outputs": [],
   "source": [
    "#The function below uses a for loop function to print the index and corresponding element\n",
    "#We will learn how to use the loop function later\n",
    "car=\"Fiat SE\"\n",
    "for i in range(len(car)):\n",
    "    print(i,car[i])"
   ]
  },
  {
   "cell_type": "code",
   "execution_count": null,
   "id": "31f50d8e",
   "metadata": {},
   "outputs": [],
   "source": [
    "car=\"Fiat-SE\"\n",
    "print (range(len(car)))\n",
    "\n",
    "for i in range(len(car)):\n",
    "    print(-i-1,car[-i-1])\n"
   ]
  },
  {
   "cell_type": "markdown",
   "id": "da1f445f",
   "metadata": {},
   "source": [
    "### <code>car[::]</code>\n",
    "<p>\n",
    "    Generates the entire string\n",
    "    <p/>"
   ]
  },
  {
   "cell_type": "code",
   "execution_count": null,
   "id": "eb96b5a8",
   "metadata": {},
   "outputs": [],
   "source": [
    "car=\"Fiat-SE\"\n",
    "print(car[:])"
   ]
  },
  {
   "cell_type": "markdown",
   "id": "9e5421b1",
   "metadata": {},
   "source": [
    "### <code>car[a:]</code>\n",
    "<p>\n",
    "    Generates the substring of a varaiable:<ul>\n",
    "        <li>starting with the 'a+1'st character ('a'th index)</li>\n",
    "        <li>to the last character(-1th index)</li>\n",
    "        </ul>\n",
    "    <p/>"
   ]
  },
  {
   "cell_type": "code",
   "execution_count": null,
   "id": "f397b499",
   "metadata": {},
   "outputs": [],
   "source": [
    "car=\"Fiat-SE\"\n",
    "for i in range(len(car)):\n",
    "    print(i,car[i])\n",
    "\n",
    "print('\\n')\n",
    "\n",
    "car=\"Fiat SE\"\n",
    "print('car[2:]= ',car[2:])\n",
    "print('car[3:]=',car[3:])\n",
    "print('car[4:]=',car[4:])\n",
    "print('car[5:]=',car[5:])"
   ]
  },
  {
   "cell_type": "markdown",
   "id": "2abd0baf",
   "metadata": {},
   "source": [
    "### <code>car[:b]</code>\n",
    "<p>\n",
    "    Generates the substring of a varaiable:<ul>\n",
    "        <li>starting with the 1st character ('0'th index)</li>\n",
    "        <li>to the 'b'the character ('b-1'th index)</li>\n",
    "        </ul>\n",
    "    </p>"
   ]
  },
  {
   "cell_type": "code",
   "execution_count": null,
   "id": "f5f5bc5b",
   "metadata": {},
   "outputs": [],
   "source": [
    "car=\"Fiat-SE\"\n",
    "for i in range(len(car)):\n",
    "    print(i,car[i])\n",
    "\n",
    "print('\\n')\n",
    "\n",
    "print('car[:2]=',car[:2])\n",
    "print('car[:3]=',car[:3])\n",
    "print('car[:4]=',car[:4])\n",
    "print('car[:5]=',car[:5])\n",
    "print('car[:6]=',car[:6])\n",
    "print('car[:7]=',car[:7])"
   ]
  },
  {
   "cell_type": "markdown",
   "id": "c6ce0942",
   "metadata": {},
   "source": [
    "### <code>car[a:b]</code>\n",
    "<p>\n",
    "    Generates the substring of a varaiable:<ul>\n",
    "        <li>starting with the 'a+1'st character ('a'th index)</li>\n",
    "        <li>to the 'b'the character ('b-1'th index)</li>\n",
    "        </ul>\n",
    "    <p/>"
   ]
  },
  {
   "cell_type": "code",
   "execution_count": null,
   "id": "2071f0af",
   "metadata": {},
   "outputs": [],
   "source": [
    "car=\"Fiat-SE\"\n",
    "for i in range(len(car)):\n",
    "    print(i,car[i])\n",
    "\n",
    "print('\\n')\n",
    "\n",
    "print('car[1:3]: ',car[1:3])\n",
    "print('car[2:4]: ',car[2:4])\n",
    "print('car[2:5]: ',car[2:5])\n",
    "print('car[2:6]: ',car[2:6])\n",
    "print('car[2:7]: ',car[2:7])"
   ]
  },
  {
   "cell_type": "markdown",
   "id": "6fc1ac07",
   "metadata": {},
   "source": [
    "### <code>car[::k]</code>\n",
    "<p>\n",
    "    The function generates characters from the substring car[::]. It calls every 'k'th index, i.e.:<ul>\n",
    "        <li>The '1'st character ('0'th index)</li>\n",
    "        <li>The '1+k'st character ('k'th index)</li>\n",
    "        <li>The '1+2k'st character ('2k'th index)</li>\n",
    "        <li>The '1+3k'st character ('3k'th index)</li>\n",
    "        <li>.</li>\n",
    "        <li>.</li>\n",
    "        <li>.</li>\n",
    "        <li></li></ul>\n",
    "        The last output cannot have an index higher than the last index\n",
    "</p>"
   ]
  },
  {
   "cell_type": "code",
   "execution_count": null,
   "id": "94a79d9a",
   "metadata": {},
   "outputs": [],
   "source": [
    "car=\"Fiat-SE\"\n",
    "for i in range(len(car)):\n",
    "    print(i,car[i])\n",
    "\n",
    "print('\\n')\n",
    "\n",
    "car=\"Fiat SE\"\n",
    "print('car[::1]=',car[::1])\n",
    "print('car[::2]=',car[::2])\n",
    "print('car[::3]=',car[::3])"
   ]
  },
  {
   "cell_type": "code",
   "execution_count": null,
   "id": "9357c938",
   "metadata": {},
   "outputs": [],
   "source": [
    "car=\"Fiat-SE\"\n",
    "for i in range(len(car)):\n",
    "    print(-len(car)+i,car[-len(car)+i])\n",
    "\n",
    "print('\\n')\n",
    "\n",
    "print(car[::-1])\n",
    "print(car[::-2])\n",
    "print(car[::-3])"
   ]
  },
  {
   "cell_type": "markdown",
   "id": "269bf7bc",
   "metadata": {},
   "source": [
    "### <code>car[a::k]</code>\n",
    "<p>\n",
    "    The function generates characters from the substring car[a:] in the following sequence:<ul>\n",
    "        <li>The 'a+1'st character ('a'th index)</li>\n",
    "        <li>The 'a+1+k'st character ('a+k'th index)</li>\n",
    "        <li>The 'a+1+2k'st character ('a+2k'th index)</li>\n",
    "        <li>The 'a+1+3k'st character ('a+3k'th index)</li>\n",
    "        <li>.</li>\n",
    "        <li>.</li>\n",
    "        <li>.</li>\n",
    "        <li>The last output cannot have an index higher than the last character</li>\n",
    "        </ul>\n",
    "    </p>"
   ]
  },
  {
   "cell_type": "code",
   "execution_count": null,
   "id": "1186e360",
   "metadata": {},
   "outputs": [],
   "source": [
    "car=\"Fiat-SE\"\n",
    "for i in range(len(car)):\n",
    "    print(-len(car)+i,car[-len(car)+i])\n",
    "\n",
    "print('\\n')\n",
    "\n",
    "print(car[2::1])\n",
    "print(car[2::2])\n",
    "print(car[2::3])"
   ]
  },
  {
   "cell_type": "code",
   "execution_count": null,
   "id": "21a368e5",
   "metadata": {},
   "outputs": [],
   "source": [
    "car=\"Fiat-SE\"\n",
    "for i in range(len(car)):\n",
    "    print(-i-1,car[-i-1])\n",
    "\n",
    "print('\\n')\n",
    "\n",
    "print(car[2::-1])\n",
    "print(car[2::-2])\n",
    "print(car[2::-3])"
   ]
  },
  {
   "cell_type": "markdown",
   "id": "f77c5a71",
   "metadata": {},
   "source": [
    "### <code>car[:b:k]</code>\n",
    "<p>\n",
    "    The function generates characters from the substring car[a:b] in the following sequence:<ul>\n",
    "        <li>The '1'st character ('0'th index)</li>\n",
    "        <li>The '1+k'st character ('k'th index)</li>\n",
    "        <li>The '1+2k'st character ('2k'th index)</li>\n",
    "        <li>The '1+3k'st character ('3k'th index)</li>\n",
    "        <li>.</li>\n",
    "        <li>.</li>\n",
    "        <li>.</li>\n",
    "        <li>The last output cannot have an index higher than'b-1'th index</li>\n",
    "        </ul>\n",
    "    </p>"
   ]
  },
  {
   "cell_type": "code",
   "execution_count": null,
   "id": "63689d54",
   "metadata": {},
   "outputs": [],
   "source": [
    "car=\"Fiat-SE\"\n",
    "for i in range(len(car)):\n",
    "    print(i,car[i])\n",
    "\n",
    "print('\\n')\n",
    "\n",
    "\n",
    "print(car[:6:1])\n",
    "print(car[:6:2])\n",
    "print(car[:6:3])"
   ]
  },
  {
   "cell_type": "code",
   "execution_count": null,
   "id": "573081b4",
   "metadata": {},
   "outputs": [],
   "source": [
    "car=\"Fiat-SE\"\n",
    "for i in range(len(car)):\n",
    "    print(-len(car)+i,car[-len(car)+i])\n",
    "\n",
    "print('\\n')\n",
    "\n",
    "print(car[:-7:-1])\n",
    "print(car[:-6:-2])"
   ]
  },
  {
   "cell_type": "markdown",
   "id": "821a46a8",
   "metadata": {},
   "source": [
    "### <code>car[a:b:k]</code>\n",
    "<p>\n",
    "    The function generates characters from the substring car[a:b] in a sequence that skips k characters, i.e:<ul>\n",
    "        <li>The 'a+1'st character ('a'th index)</li>\n",
    "        <li>The 'a+1+k'st character ('a+k'th index)</li>\n",
    "        <li>The 'a+1+2k'st character ('a+2k'th index)</li>\n",
    "        <li>The 'a+1+3k'st character ('a+3k'th index)</li>\n",
    "        <li>.</li>\n",
    "        <li>.</li>\n",
    "        <li>.</li>\n",
    "        <li>The last output cannot have an index higher than'b-1'th index</li>\n",
    "        </ul>\n",
    "    </p>"
   ]
  },
  {
   "cell_type": "code",
   "execution_count": null,
   "id": "b27f7b33",
   "metadata": {},
   "outputs": [],
   "source": [
    "car=\"Fiat-SE\"\n",
    "print(car[1:6:1])\n",
    "print(car[1:6:2])\n",
    "print(car[1:6:3])"
   ]
  },
  {
   "cell_type": "code",
   "execution_count": null,
   "id": "601ee308",
   "metadata": {},
   "outputs": [],
   "source": [
    "car=\"Fiat-SE\"\n",
    "for i in range(len(car)):\n",
    "    print(-len(car)+i,car[-len(car)+i])\n",
    "\n",
    "print('\\n')\n",
    "print(car[-2:-7:-1])\n",
    "print(car[-2:-7:-1])\n",
    "print(car[-2:-7:-2])\n",
    "print(car[-2:-7:-3])"
   ]
  },
  {
   "cell_type": "markdown",
   "id": "63e5dab2",
   "metadata": {},
   "source": [
    "## Escape Sequence\n",
    "<p>Back slashes represent the beginning of escape sequences.<ul>\n",
    "        <li><code>\\n</code>: makes the words after it skip to the next line</li>\n",
    "        <li><code>\\t</code>: introduces a tab</li>\n",
    "        <li><code>\\\\\\</code>: introduces a single backslash</li>\n",
    "        <li><code>\\'</code>: allows us to use quotes in a sentence without it delimiting parts of a string</li>\n",
    "        <li><code>\\\"</code>: allows us to use quotes in a sentence without it delimiting parts of a string</li>\n",
    "</ul></p>"
   ]
  },
  {
   "cell_type": "code",
   "execution_count": null,
   "id": "1cbf573e",
   "metadata": {
    "scrolled": true
   },
   "outputs": [],
   "source": [
    "print(\"England\\nSouth Africa\\nIndia\")"
   ]
  },
  {
   "cell_type": "code",
   "execution_count": null,
   "id": "50451605",
   "metadata": {},
   "outputs": [],
   "source": [
    "print(\"England\\n South Africa\\n India\")"
   ]
  },
  {
   "cell_type": "code",
   "execution_count": null,
   "id": "19835b62",
   "metadata": {},
   "outputs": [],
   "source": [
    "#\\n makes the words after it skip to the next line\n",
    "print(\"Michael Jackson \\n is the best\")\n",
    "\n",
    "#\\t introduces a tab\n",
    "print(\"Michael Jackson \\t is the best\")\n",
    "\n",
    "#\\\\ introduces a single backslash\n",
    "print(\"Michael Jackson \\\\ is the best\")"
   ]
  },
  {
   "cell_type": "code",
   "execution_count": null,
   "id": "5e7c3e82",
   "metadata": {},
   "outputs": [],
   "source": [
    "#\\' allows us to use quotes in a sentence without it delimiting parts of a string\n",
    "print('Michael Jackson\\'s best album is Thriller')\n",
    "print('\\\"What\\'s that?\\\", isn\\'t a specific question')\n",
    "\n",
    "#\\\" allows us to use quotes in a sentence without it delimiting parts of a string\n",
    "print('The presenter said, \\\"Thriller is thee best album ever!\\\"')"
   ]
  },
  {
   "cell_type": "code",
   "execution_count": null,
   "id": "6d333133",
   "metadata": {},
   "outputs": [],
   "source": [
    "#r at the begining allows us to use the backslash without introducing an escape sqequence\n",
    "print(r\"Michael Jackson \\n is the best\")\n",
    "print(r\"Michael Jackson \\t is the best\")\n",
    "print(r\"Michael Jackson \\ is the best\")\n",
    "print(r\"Michael Jackson \\\\ is the best\")\n",
    "print(r'Michael Jackson\\'s best album is Thriller')\n",
    "print(r'The presenter said, \\\"Thriller is thee best album ever!\\\"')"
   ]
  },
  {
   "cell_type": "code",
   "execution_count": null,
   "id": "979ba302",
   "metadata": {},
   "outputs": [],
   "source": [
    "#Double tabs can introduce headers\n",
    "print('Name\\t\\tAge')\n",
    "print('Kamau Ochieng','\\t',20)"
   ]
  },
  {
   "cell_type": "markdown",
   "id": "b46daa70",
   "metadata": {},
   "source": [
    "### end=\" \"\n",
    "<p><code>end=\" \"</code> Allows for printing an output without necessarily going to a new line</p>"
   ]
  },
  {
   "cell_type": "code",
   "execution_count": null,
   "id": "54ff2935",
   "metadata": {},
   "outputs": [],
   "source": [
    "#The end function allows for printing an output without necessarily going to a new line\n",
    "print(\"Hello\",end=\" \")\n",
    "print(\"mike\")\n",
    "\n",
    "print(\"Hello\",end=\"*\")\n",
    "print(\"mike\")\n",
    "\n",
    "print(\"Hello\",end=\" \\n\")\n",
    "print(\"mike\")"
   ]
  },
  {
   "cell_type": "markdown",
   "id": "a3e98b27",
   "metadata": {},
   "source": [
    "### sep=\" \"\n",
    "<p><code>sep=\" \"</code> When concatonating strings, the space in between them is replaced by the separator indicated in <code>sep=\" \"</code> </p>"
   ]
  },
  {
   "cell_type": "code",
   "execution_count": null,
   "id": "9f47d721",
   "metadata": {},
   "outputs": [],
   "source": [
    "print(\"Hello Mike\", \"hey Trudy\", sep=\"^\")"
   ]
  },
  {
   "cell_type": "markdown",
   "id": "f9f879a8",
   "metadata": {},
   "source": [
    "## Combining Strings\n",
    "<p>You can combine stings with either commas or the plus sign<ul>\n",
    "    <li><code>,</code>: Commas allow us to combine strings with numbers without a type error arising and you don't have to leave spaces between words.</li>\n",
    "    <li><code>+</code>: Plus sign allow us to combine strings but not strings with numbers. Unlike the comma sign, the plus sign does not intoduces spaces in between the combined strings</li>\n",
    "    <li><code>*k</code>: Multiplication sign allow us to repeat strings k timeswithout leaving a space</li></ul>\n",
    "    </p>\n",
    "    \n",
    "    "
   ]
  },
  {
   "cell_type": "code",
   "execution_count": null,
   "id": "feb5b703",
   "metadata": {},
   "outputs": [],
   "source": [
    "student_name=\"Florence and Gale\"\n",
    "sentence1='Happy birthday to '+student_name+' who are both turning 20 years old.'\n",
    "print(sentence1)\n",
    "print(\"Happy birthday to\",student_name,\"who are both turning 20 years old.\")\n",
    "print(\"Hip hip! HURRAY!\"*3)\n",
    "print(\"Hip hip! HURRAY! \"*3)"
   ]
  },
  {
   "cell_type": "markdown",
   "id": "a9406848",
   "metadata": {},
   "source": [
    "## Adjusting Parts of a String\n",
    "<p><ul>\n",
    "    <li><code>replace()</code>: <code>replace('x', 'y')</code> replaces all x with y when printing, it however does not alter the object itself, to alter the object we need to use an assignment operator.</li>\n",
    "    <li><code>input()</code>: Allows us to insert a string into a string. Note, it always converts all variables inserted in it into strings</li>\n",
    "    <li><code>{}.format{}</code>: Print formatting/String interpolation allows as to insert characters or variables into a string. We insert curly brackets where we want our data inserted and insert the data in the parenthesis</li>"
   ]
  },
  {
   "cell_type": "code",
   "execution_count": null,
   "id": "b72ae21d",
   "metadata": {},
   "outputs": [],
   "source": [
    "#Using replace() function\n",
    "student_name=\"Florence and Gale\"\n",
    "print(student_name)\n",
    "print(student_name.replace(\"Gale\", \"Stephanie\"))\n",
    "print(student_name)\n",
    "\n",
    "#To enforce the change, use an assignement operator\n",
    "student_name=student_name.replace(\"Gale\", \"Stephanie\")\n",
    "print(student_name)"
   ]
  },
  {
   "cell_type": "code",
   "execution_count": null,
   "id": "9922f563",
   "metadata": {},
   "outputs": [],
   "source": [
    "#Using input() function\n",
    "print(\"enter small int\")\n",
    "small_int=input()\n",
    "\n",
    "#Lets see the variable type of the input() function\n",
    "print(small_int)\n",
    "print(type(small_int))\n",
    "\n",
    "#We can however type cast the value, for example:\n",
    "small_int=int(small_int)\n",
    "print(small_int)\n",
    "print(type(small_int))"
   ]
  },
  {
   "cell_type": "code",
   "execution_count": null,
   "id": "c3f9e939",
   "metadata": {},
   "outputs": [],
   "source": [
    "#Using {}.format() function\n",
    "employee_name=\"Bosire\"\n",
    "employee_code=\"001\"\n",
    "\n",
    "print(\"Hi my name is {}\".format(employee_name))\n",
    "\n",
    "#Using {}.format() function with multiple insertions\n",
    "print(\"Hi my name is {} and my employee number is {}\".format(employee_name,employee_code))\n",
    "\n",
    "\n",
    "#For multiple insertions we can assign variables in the curly brackets\n",
    "print(\"Hi my name is {x} and my employee number is {y}\".format(x=employee_name,y=employee_code))\n",
    "\n",
    "#By assignning variables in the curly brackets the order does not matter\n",
    "print(\"Hi my name is {x} and my employee number is {y}\".format(y=employee_code,x=employee_name))"
   ]
  },
  {
   "cell_type": "markdown",
   "id": "9d68c0c4",
   "metadata": {},
   "source": [
    "## Changing Case of a String\n",
    "<p><ul>\n",
    "    <li><code>upper()</code>: Capitalises the whole string</li>\n",
    "    <li><code>lower()</code>: Lower cases the whole string</li>\n",
    "    <li><code>title()</code>: Capitalises the 1st letter of every word and lowering the rest</li>\n",
    "    <li><code>swapcase()</code>: Swaps the case across the entire string </li>\n",
    "    <li><code>capitalize()</code>: Capitalises the 1st letter of the string and lowers the rest</li>\n",
    "</ul></p>"
   ]
  },
  {
   "cell_type": "code",
   "execution_count": null,
   "id": "0e290d66",
   "metadata": {},
   "outputs": [],
   "source": [
    "#Change case of a string\n",
    "student_name=\"Florence and Gale\"\n",
    "sentence=student_name+\" are both 20 years old\"\n",
    "print(sentence)\n",
    "print('upper():\\t\\t\\t',sentence.upper())\n",
    "print('lower():\\t\\t\\t',sentence.lower())\n",
    "print('title():\\t\\t\\t',sentence.title(),'\\n')\n",
    "print('swapcase():\\t\\t\\t',sentence.swapcase())\n",
    "print('capitalize():\\t\\t\\t',sentence.capitalize(),'\\n')\n",
    "print('replace Gale with Stephanie:\\t',sentence.replace(\"Gale\", \"Stephanie\"))"
   ]
  },
  {
   "cell_type": "markdown",
   "id": "85f1eb89",
   "metadata": {},
   "source": [
    "## Types of Variables\n",
    "<p><ul>\n",
    "    <li><b>Integers</b>: These are positive and negative whole numbers with no deciaml places</li>\n",
    "    <li><b>Floats</b>: These are any positive or negative real numbers with at least one decimal place</li>\n",
    "    <li><b>Long</b>: Tlong integers, they can also be represented in octal and hexadecimal</li>\n",
    "    <li><b>Complex</b>: These are any numbers that include sqrt of -1</li>\n",
    "    <li><b>Boolean</b>: These are two states variables:<ul>\n",
    "        <li><b>True</b>: Can also take up a value of 1 as an interger or a float</li>\n",
    "        <li><b>False</b>: Can also take up a value of 0 as an interger or a float</li></ul></li>\n",
    "    <li><b>Strings</b>: They are delimitted by quotation marks</li>\n",
    "    <li><b>Lists</b>:Elements are ordered (i.e., indexed) and changable</li>\n",
    "    <li><b>Tuples</b>: Elements are ordered (i.e., indexed) and UNCHANGABLE</li>\n",
    "    <li><b>Sets</b>:Elements are unordered and unindexed. It is changable</li>\n",
    "    <li><b>Dictionaries</b>: Elements are paired with a key, the key acts as an index. It is changable</li>\n",
    "    <li><b>Ranges</b>:These is an ordered set of numbers starting from the lower bound and increases with  equally spaced interger amounts until it reaches to atmost upper bound.</li></ul>\n",
    "    <ul>\n",
    "    </ul>Primarily, three types of brackets used in Python:<ul>\n",
    "    <li> <code>()</code> parenthesis is used to define tuples, order of operations and function calls.</li>\n",
    "    <li> <code>[]</code> square bracket is used to define mutable data types - lists, list comprehensions and for indexing/lookup/slicing.</li>\n",
    "    <li><code>{}</code> curly brackets are used for dictionaries and sets.</li></ul>\n",
    "   </p>"
   ]
  },
  {
   "cell_type": "markdown",
   "id": "8130513f",
   "metadata": {},
   "source": [
    "### <code>type()</code>\n",
    "<p><code>type()</code> lets us know the type of object contained in the parenthesis</p>"
   ]
  },
  {
   "cell_type": "code",
   "execution_count": null,
   "id": "08b8e462",
   "metadata": {},
   "outputs": [],
   "source": [
    "print(type(2017))\n",
    "print(type(2_017))\n",
    "print(type(-2017))\n",
    "j=(-1)**0.5\n",
    "print(type(2017+j))\n",
    "print(type(20.17))"
   ]
  },
  {
   "cell_type": "code",
   "execution_count": null,
   "id": "2a49c165",
   "metadata": {},
   "outputs": [],
   "source": [
    "#2017 can also be written as 2_017.\n",
    "#This is like writing 2,017 in accounting format, however, commas in python have many other uses, we instead use the underscore\n",
    "2_017-2017"
   ]
  },
  {
   "cell_type": "code",
   "execution_count": null,
   "id": "beec65ff",
   "metadata": {},
   "outputs": [],
   "source": [
    "print(5e3)\n",
    "print(5E3)\n",
    "print(5e-3)\n",
    "print(5E-3)\n",
    "print(6.62607E-34)"
   ]
  },
  {
   "cell_type": "code",
   "execution_count": null,
   "id": "d7038edd",
   "metadata": {},
   "outputs": [],
   "source": [
    "print (bin(11))"
   ]
  },
  {
   "cell_type": "code",
   "execution_count": null,
   "id": "48c78424",
   "metadata": {},
   "outputs": [],
   "source": [
    "print(type(True))\n",
    "print(type(False))"
   ]
  },
  {
   "cell_type": "code",
   "execution_count": null,
   "id": "99be6330",
   "metadata": {},
   "outputs": [],
   "source": [
    "print(type(\"2017\"))\n",
    "print(type(\"2017A\"))\n",
    "print(type(\"2017+j\"))\n",
    "print(type(\"Lap\"))"
   ]
  },
  {
   "cell_type": "code",
   "execution_count": null,
   "id": "5804f3a5",
   "metadata": {},
   "outputs": [],
   "source": [
    "print(type(['a','b','c']))\n",
    "print(type(('a','b','c')))\n",
    "print(type({'a','b','c'}))\n",
    "print(type({'a':1,'b':2,'c':3}))\n",
    "print(type(range(2010,2017)))"
   ]
  },
  {
   "cell_type": "markdown",
   "id": "d51425c9",
   "metadata": {},
   "source": [
    "## Type Casting\n",
    "<p>Type casting allows conversion of character types<ul>\n",
    "    </ul>We can alter the variable type by equating it to its typecast self </p>"
   ]
  },
  {
   "cell_type": "code",
   "execution_count": null,
   "id": "d5e55abd",
   "metadata": {},
   "outputs": [],
   "source": [
    "#int(2.5) converts the number 2.5 to an intereger and so on and so forth\n",
    "print(int(2.5))\n",
    "print(float(120))\n",
    "print(int('2'))\n",
    "print(str(1))\n",
    "print(str(2))\n",
    "print(str(range(2010,2017)))"
   ]
  },
  {
   "cell_type": "code",
   "execution_count": null,
   "id": "140dfe33",
   "metadata": {},
   "outputs": [],
   "source": [
    "#Altering a variable's type\n",
    "x=2\n",
    "print(type(x))\n",
    "complex(x)\n",
    "print(type(x))\n",
    "\n",
    "#As you can see, we need to use an assignment operator\n",
    "x=float(x)\n",
    "print(type(x))\n",
    "\n",
    "x=complex(x)\n",
    "print(type(x))\n"
   ]
  },
  {
   "cell_type": "code",
   "execution_count": null,
   "id": "3f43d33e",
   "metadata": {},
   "outputs": [],
   "source": [
    "x=range(2010,2017)\n",
    "print(type(x))\n",
    "\n",
    "x=list(x)\n",
    "print(type(x), x)\n",
    "\n",
    "x=tuple(x)\n",
    "print(type(x), x)\n",
    "\n",
    "x=set(x)\n",
    "print(type(x), x)"
   ]
  },
  {
   "cell_type": "markdown",
   "id": "668de820",
   "metadata": {},
   "source": [
    "## Tuples\n",
    "<p>Tuple are closed by parenthesis e.g. (a,b,c,d)<ul>\n",
    "    </ul>Tuple can conatain strings, floats and/or intergers.<ul>\n",
    "    </ul>Other objects such as lists, tuples, sets & dictionaries can be nestled in it.<ul>\n",
    "    </ul>Tuples are immutable i.e. unchangable. This means you cannot use indexing to change values of a variable occupying an index </p>"
   ]
  },
  {
   "cell_type": "code",
   "execution_count": null,
   "id": "fe33a38d",
   "metadata": {},
   "outputs": [],
   "source": [
    "alp=('a','b','a','c',['f','d','g'],('c','e','a'))\n",
    "\n",
    "#We can access specific indexes of a tuple including nestled objects and even slice them\n",
    "print('alp[1]\\t\\t=',alp[1],)\n",
    "print('alp[3:5]\\t=',alp[3:5],'\\n')\n",
    "\n",
    "#We can access specific indexes of nestled objects\n",
    "print('alp[4]\\t\\t=',alp[4])\n",
    "print('alp[4][0]\\t=',alp[4][0])\n",
    "print('alp[4][1]\\t=',alp[4][1])\n",
    "print('alp[4][2]\\t=',alp[4][2],'\\n')\n",
    "\n",
    "print('alp[5]\\t\\t=',alp[5])\n",
    "print('alp[5][0]\\t=',alp[5][0])\n",
    "print('alp[5][1]\\t=',alp[5][1])\n",
    "print('alp[5][2]\\t=',alp[5][2],'\\n')\n",
    "\n",
    "#We can call the first instance of an element using indexes\n",
    "print('alp.index(2)\\t=',alp[2])\n",
    "print('alp.index(4)\\t=',alp[4],'\\n')"
   ]
  },
  {
   "cell_type": "code",
   "execution_count": null,
   "id": "38c5ce45",
   "metadata": {},
   "outputs": [],
   "source": [
    "#Tuples are immutable, i.e. cannot be changed\n",
    "#They may reference the same data but changing one tuple does not affect other tuples referencing the exact same data\n",
    "alp=('a','b','c','d')\n",
    "alp_1=alp\n",
    "\n",
    "print(alp)\n",
    "print(alp_1)\n",
    "print(\"\\n\")\n",
    "\n",
    "alp=('g','z','j','k')\n",
    "print(alp)\n",
    "print(alp_1)"
   ]
  },
  {
   "cell_type": "code",
   "execution_count": null,
   "id": "0873895f",
   "metadata": {},
   "outputs": [],
   "source": [
    "#Tuples are immutable, you cannot use their index to alter the variable occupying that index\n",
    "#Try and run the code below to see an error\n",
    "'''alp=('a','b','c','d') \n",
    "alp[0]='z'\n",
    "print(alp) '''"
   ]
  },
  {
   "cell_type": "code",
   "execution_count": null,
   "id": "f31d33c6",
   "metadata": {},
   "outputs": [],
   "source": [
    "#A list nestled inside a tuple can have its contents ultered by calling the index\n",
    "alp=('a','b','a','c',['f','d','g'],('c','e','a'))\n",
    "print(alp[4])\n",
    "\n",
    "alp[4][:]=['a','b','x']\n",
    "print(alp[4])\n",
    "\n",
    "alp[4][1]='z'\n",
    "print(alp[4])"
   ]
  },
  {
   "cell_type": "markdown",
   "id": "51cb9ef7",
   "metadata": {},
   "source": [
    "### Sorting Tuples\n",
    "<p>\n",
    "    <code>sorted()</code>: Creates a new list that is in ascending order. Take note, the new object is a list not a tuple. You may therefore have to type cast.<ul>\n",
    "        </ul><code>sorted(,reverse=True)</code> creates a new list that is ordered in descending order<ul>\n",
    "    </ul>We can also use a key to determine the sorting order<ul>\n",
    "    </ul></p>\n",
    "</p>\n"
   ]
  },
  {
   "cell_type": "code",
   "execution_count": null,
   "id": "95438e0e",
   "metadata": {
    "scrolled": true
   },
   "outputs": [],
   "source": [
    "alp=('a','b','a','c','f','d','g','c','e','a')\n",
    "print(alp)\n",
    "\n",
    "alp_sorted=sorted(alp)\n",
    "\n",
    "print(alp)\n",
    "print(alp_sorted)\n",
    "\n",
    "alp_sorted=tuple(alp_sorted)\n",
    "print(alp_sorted)"
   ]
  },
  {
   "cell_type": "code",
   "execution_count": null,
   "id": "a3ac6ea8",
   "metadata": {},
   "outputs": [],
   "source": [
    "alp=('a','b','a','c','f','d')\n",
    "print(alp)\n",
    "\n",
    "alp_sorted=sorted(alp,reverse=True)\n",
    "\n",
    "print(alp)\n",
    "print(alp_sorted)\n",
    "\n",
    "alp_sorted=tuple(alp_sorted)\n",
    "print(alp_sorted)"
   ]
  },
  {
   "cell_type": "code",
   "execution_count": null,
   "id": "5a1a2f29",
   "metadata": {},
   "outputs": [],
   "source": [
    "alp=('a','b','a','c','f','d',)\n",
    "print('instances of a:',alp.count('a'))\n",
    "print('instances of c:',alp.count('c'))\n"
   ]
  },
  {
   "cell_type": "markdown",
   "id": "04a25ab7",
   "metadata": {},
   "source": [
    "## Lists\n",
    "<p>\n",
    "    Lists are enclosed by square brackets [a,b,c,d]<ul>\n",
    "    </ul>List like tuples can conatain strings, floats and intergers<ul>\n",
    "    </ul>We can access specific indexes of a List<ul>\n",
    "    </ul>List can also be empty\n",
    "    </p>"
   ]
  },
  {
   "cell_type": "code",
   "execution_count": null,
   "id": "ed6e84b7",
   "metadata": {},
   "outputs": [],
   "source": [
    "#Example of an empty list:\n",
    "alp=[]\n",
    "print(alp)"
   ]
  },
  {
   "cell_type": "code",
   "execution_count": null,
   "id": "8ac35757",
   "metadata": {},
   "outputs": [],
   "source": [
    "#We can nestle tuples and lists within a list for example index 2 and 3\n",
    "alp=['a','b',['c','d'],('e','f'),'g']\n",
    "\n",
    "print(alp,'\\n')\n",
    "\n",
    "print(alp[2])\n",
    "print(alp[3],'\\n')\n",
    "\n",
    "#We can use indexing to access objects in a list including nestled objects\n",
    "print(alp[1],'\\n')\n",
    "\n",
    "print(alp[2][0])\n",
    "print(alp[2][1],'\\n')\n",
    "\n",
    "print(alp[3][0])\n",
    "print(alp[3][1],'\\n')"
   ]
  },
  {
   "cell_type": "code",
   "execution_count": null,
   "id": "3750959f",
   "metadata": {},
   "outputs": [],
   "source": [
    "#We can use alter an objects in a list including nestled objects\n",
    "alp=['a','b',['c','d'],('e','f'),'g']\n",
    "print('alp=',alp)\n",
    "alp[0]='z'\n",
    "print('alp=',alp)"
   ]
  },
  {
   "cell_type": "markdown",
   "id": "75e2f45e",
   "metadata": {},
   "source": [
    "### Aliasing Lists\n",
    "<p>Aliasing: When we set a list <code>B=A</code>, then both <code>A</code> & <code>B</code> are referrencing the same list.\n",
    "When there is aliasing, changing an element in A will affect list B as well and vice versa"
   ]
  },
  {
   "cell_type": "code",
   "execution_count": null,
   "id": "282d6b6f",
   "metadata": {},
   "outputs": [],
   "source": [
    "A=['English', 'P.E', 'Science', 'Mathematics']\n",
    "B=A\n",
    "print('A:',A)\n",
    "print('B:',B)\n",
    "\n",
    "print('\\n Lets change P.E. to Kung FU in A:')\n",
    "A[2]='Kung FU'\n",
    "print('A:',A)\n",
    "print('B:',B)\n",
    "\n",
    "print('\\n Lets change Kung FU to Taekwondo in B:')\n",
    "B[2]='Taekwondo'\n",
    "print('A:',A)\n",
    "print('B:',B)"
   ]
  },
  {
   "cell_type": "markdown",
   "id": "7dba83e7",
   "metadata": {},
   "source": [
    "### Cloning Lists\n",
    "<p>Cloning: When we set a list B=A[:], B will create a separate list that is exactly the same with list A<ul>\n",
    "    </ul>Variable A & B are now referecing separate lists. We can therfore change an element in A withiut affecting B and vice versa.</p>"
   ]
  },
  {
   "cell_type": "code",
   "execution_count": null,
   "id": "5f20dc1c",
   "metadata": {},
   "outputs": [],
   "source": [
    "A=['English', 'P.E', 'Science', 'Mathematics']\n",
    "B=A[:]\n",
    "print('A:',A)\n",
    "print('B:',B)\n",
    "\n",
    "print('\\n Lets change P.E. to Kung FU in A:')\n",
    "A[2]='Kung FU'\n",
    "print('A:',A)\n",
    "print('B:',B)\n",
    "\n",
    "print('\\n Lets change Kung FU to Taekwondo in B:')\n",
    "B[2]='Taekwondo'\n",
    "print('A:',A)\n",
    "print('B:',B)"
   ]
  },
  {
   "cell_type": "markdown",
   "id": "9b20b85e",
   "metadata": {},
   "source": [
    "### Adding elements to a list \n",
    "<p>\n",
    "    Using the:<ul>\n",
    "        <li><code>+</code> concatenate</li>\n",
    "        <li><code>*k</code> repeats the list k times</li>\n",
    "        <li><code>.extend(e,f,g)</code></li>\n",
    "        <li><code>.append(e,f,g)</code></li>\n",
    "        <li><code>.insert(i,x)(e,f,g)</code></li>\n",
    "        </ul>Use <code>+</code> when you want to add individual elements of a list to the list. However, it cannot be used to add a tuple to a list<ul>\n",
    "    </ul>Use <code>*k</code> when you want to output elements of a list or a tuple k times. It however does not affect the list itself.<ul>\n",
    "    </ul>Use <code>.extend()</code> when you want to add individual elements of a list or a tuple to the list.<ul>\n",
    "    </ul>Use <code>.append()</code> to add lists or tuples as a nestled element.<ul>\n",
    "    </ul>Use <code>.insert(i,'x')</code> inserts a single string 'x' into a list such that it has index i and pushes elements occupying higher indexes an index down.<ul>\n",
    "    </ul></p>"
   ]
  },
  {
   "cell_type": "code",
   "execution_count": null,
   "id": "47da2f64",
   "metadata": {},
   "outputs": [],
   "source": [
    "alp=['a','b','d','f']\n",
    "print(alp)\n",
    "print(len(alp))\n",
    "      \n",
    "alp = alp+ ['g','h']+ ['i','j']\n",
    "print(\"+\\t\\t\",alp)\n",
    "\n",
    "\n",
    "alp=['a','b','d','f']\n",
    "alp.extend(['g','h'])\n",
    "alp.extend(('i','j'))\n",
    "print(\".extend()\\t\",alp)\n",
    "\n",
    "\n",
    "alp=['a','b','d','f']\n",
    "alp.append(['g','h'])\n",
    "alp.append(('i','j'))\n",
    "print(\".append()\\t\",alp)\n",
    "\n",
    "\n",
    "alp=['a','b','d','f']\n",
    "alp.insert(5,['g','h'])\n",
    "alp.insert(6,('i','j'))\n",
    "print(\".insert(6,'')\\t\",alp)\n",
    "\n",
    "\n",
    "alp=['a','b','d','f']\n",
    "alp.insert(2,['g','h'])\n",
    "alp.insert(3,('i','j'))\n",
    "print(\".insert(2,'')\\t\",alp)"
   ]
  },
  {
   "cell_type": "code",
   "execution_count": null,
   "id": "e80f2672",
   "metadata": {},
   "outputs": [],
   "source": [
    "alp=['a','b','d','f']\n",
    "print(\"alp\\t\\t=\\t\\t\\t\",alp)\n",
    "print(\"alp*2\\t\\t=\\t\\t\\t\",alp*2)\n",
    "print(\"alp\\t\\t=\\t\\t\\t\",alp)\n",
    "\n",
    "alp=alp*2\n",
    "print(\"alp=alp*2\\t:\\t\\t\\t\",alp)\n"
   ]
  },
  {
   "cell_type": "markdown",
   "id": "84ffec9d",
   "metadata": {},
   "source": [
    "### Removing elements from a list \n",
    "<p>\n",
    "    Using the:<ul>\n",
    "        <li><code>my_list.pop()</code>:Calls the last element of a list and deletes it</li>\n",
    "        <li><code>my_list.pop(i)</code>: Calls the <code>i</code>th index of a list and deletes it</li>\n",
    "        <li><code>del(my_list[i])</code>: Deletes the <code>i</code>th index of a list</li>      \n",
    "        <li><code>my_list.remove(\"x\")</code>: Searches for the first instance of string 'x' and delets its.</li></ul>\n",
    "        </p>"
   ]
  },
  {
   "cell_type": "code",
   "execution_count": null,
   "id": "7eebff9d",
   "metadata": {},
   "outputs": [],
   "source": [
    "alp=['a','b','c','d']\n",
    "n=len(alp)\n",
    "print('alp\\t\\t\\t\\t=',alp)\n",
    "\n",
    "\n",
    "for i in range(n):\n",
    "    print('alp.pop()\\t\\t\\t=',alp.pop())\n",
    "    print('for pop number',i+1,', alp\\t\\t=',alp )"
   ]
  },
  {
   "cell_type": "markdown",
   "id": "2f96fae8",
   "metadata": {},
   "source": [
    "An empty list evaluates as a false hence can be used to terminate a loop"
   ]
  },
  {
   "cell_type": "code",
   "execution_count": null,
   "id": "9b06fa33",
   "metadata": {},
   "outputs": [],
   "source": [
    "alp=['a','b','c','d']\n",
    "n=len(alp)\n",
    "print('alp\\t\\t\\t=',alp)\n",
    "\n",
    "\n",
    "for i in range(n):\n",
    "    alp.pop()\n",
    "\n",
    "print('after 4 pops, alp\\t=',alp)\n",
    "print('bool(alp)\\t\\t=',bool(alp))\n",
    "print('int(bool(alp))\\t\\t=',int(bool(alp)))"
   ]
  },
  {
   "cell_type": "code",
   "execution_count": null,
   "id": "de2df76c",
   "metadata": {},
   "outputs": [],
   "source": [
    "alp=['a','b','c','d']\n",
    "print('alp\\t\\t=',alp,'\\n')\n",
    "\n",
    "\n",
    "print('alp.pop(1)\\t=',alp.pop(1))\n",
    "print('alp\\t\\t=',alp,'\\n')\n",
    "\n",
    "print('alp.pop(1)\\t=',alp.pop(1))\n",
    "print('alp\\t\\t=',alp,'\\n')"
   ]
  },
  {
   "cell_type": "code",
   "execution_count": null,
   "id": "88e12979",
   "metadata": {},
   "outputs": [],
   "source": [
    "alp=['a','b','c','d']\n",
    "print('alp\\t\\t\\t=',alp)\n",
    "\n",
    "del(alp[2])\n",
    "print('After del(alp[2]), alp\\t=',alp)\n",
    "\n",
    "\n",
    "del(alp[2])\n",
    "print('After del(alp[2]), alp\\t=',alp)"
   ]
  },
  {
   "cell_type": "code",
   "execution_count": null,
   "id": "f33a20ba",
   "metadata": {},
   "outputs": [],
   "source": [
    "dogs = [\"Lab Poodle\", \"Pug\", \"Poodle\", \"Poodle\", \"Pug\", \"Poodle\"]\n",
    "print(dogs)\n",
    "\n",
    "\n",
    "\n",
    "while \"Poodle\" in dogs:          #'while' is a loop function that we will get to learn later.\n",
    "    dogs.remove(\"Poodle\")\n",
    "    print(dogs)"
   ]
  },
  {
   "cell_type": "markdown",
   "id": "361598e7",
   "metadata": {},
   "source": [
    "## Converting a list into a string: <code>x.join(A)</code>\n",
    "<p><code>x.join(A)</code> uses variable <code>x</code> to join elements in list <code>A</code></p>"
   ]
  },
  {
   "cell_type": "code",
   "execution_count": null,
   "id": "dab687e1",
   "metadata": {
    "scrolled": true
   },
   "outputs": [],
   "source": [
    "alphabet=['a','b','c','d']\n",
    "print(alphabet,'\\n')\n",
    "\n",
    "\n",
    "x=\"\"\n",
    "print(x.join(alphabet))\n",
    "print(alphabet,'\\n')\n",
    "\n",
    "\n",
    "x=\" \"\n",
    "print(x.join(alphabet))\n",
    "print(alphabet,'\\n')\n",
    "\n",
    "\n",
    "x=\"8\"\n",
    "print(x.join(alphabet))\n",
    "print(alphabet,'\\n')\n",
    "\n",
    "\n",
    "x=\"-\"\n",
    "print(x.join(alphabet))\n",
    "print(alphabet)"
   ]
  },
  {
   "cell_type": "markdown",
   "id": "90b955c8",
   "metadata": {},
   "source": [
    "## <code>.split()</code>\n",
    "<p>\n",
    "    We can convert a string into a list by using a the .split() function<ul>\n",
    "        </ul>The split function searches for the delimeter we have specified in the parentheisies and breaks every element of the string  in between the delimeters into memebrs of a list.\n",
    "    </p>"
   ]
  },
  {
   "cell_type": "code",
   "execution_count": null,
   "id": "e60fb859",
   "metadata": {},
   "outputs": [],
   "source": [
    "#The split function below uses the comma as a delimeter\n",
    "\"A,B,C,D\".split(\",\")"
   ]
  },
  {
   "cell_type": "code",
   "execution_count": null,
   "id": "0e8fc94c",
   "metadata": {},
   "outputs": [],
   "source": [
    "\"A,B,C,D\".split(\"B\")"
   ]
  },
  {
   "cell_type": "code",
   "execution_count": null,
   "id": "7256881d",
   "metadata": {},
   "outputs": [],
   "source": [
    "\"ABCD\".split(\"B\")"
   ]
  },
  {
   "cell_type": "markdown",
   "id": "5a4b59f0",
   "metadata": {},
   "source": [
    "###  <code>.index('x')</code> and <code>in</code>\n",
    "<p>\n",
    "    <code>.index('x')</code> generates the index the substring <code>'x'</code> first appears in the LHS object <code>A</code><ul>\n",
    "</ul><code>in</code> is a boolean test that checks if an element (on the LHS) is contained in the object on the RHS </p>"
   ]
  },
  {
   "cell_type": "code",
   "execution_count": null,
   "id": "d1387881",
   "metadata": {},
   "outputs": [],
   "source": [
    "dogs = [\"Lab Poodle\", \"Pug\", \"Poodle\", \"Poodle\", \"Pug\", \"Poodle\"]\n",
    "\n",
    "\n",
    "print(dogs.index(\"Pug\"))\n",
    "print(dogs.index(\"Poodle\"))"
   ]
  },
  {
   "cell_type": "code",
   "execution_count": null,
   "id": "e8ed66ab",
   "metadata": {},
   "outputs": [],
   "source": [
    "dogs = [\"Lab Poodle\", \"Pug\", \"Poodle\", \"Poodle\", \"Pug\", \"Poodle\"]\n",
    "print('e' in dogs)\n",
    "print('Pug' in dogs)\n",
    "print('Poodle' in dogs)"
   ]
  },
  {
   "cell_type": "markdown",
   "id": "1cc6987c",
   "metadata": {},
   "source": [
    "### Sorting Lists\n",
    "<p>\n",
    "    <code>sorted()</code>: Creates a new list that is in ascending order<ul>\n",
    "        </ul><code>sorted(,reverse=True)</code> creates a new list that is ordered in descending order<ul>\n",
    "    </ul>We can also use a key to determine the sorting order<ul>\n",
    "    </ul></p>\n",
    "<p>\n",
    "    <code>sort()</code> rearranges the elements of the existing list in ascending order<ul>\n",
    "        </ul><code>sort(reverse=True)</code> rearranges the elements of the existing list in descending order.</p>\n"
   ]
  },
  {
   "cell_type": "markdown",
   "id": "4f1b5023",
   "metadata": {},
   "source": [
    "#### <code>sorted()</code>"
   ]
  },
  {
   "cell_type": "code",
   "execution_count": null,
   "id": "bc225cc5",
   "metadata": {},
   "outputs": [],
   "source": [
    "Exam_Marks=[80,85,55,60,25,75]\n",
    "ascending_exam_marks=sorted(Exam_Marks)\n",
    "descending_exam_marks=sorted(Exam_Marks,reverse=True)\n",
    "\n",
    "print('ascending:',ascending_exam_marks)\n",
    "print('descending:',descending_exam_marks)\n",
    "print('unordered:',Exam_Marks)"
   ]
  },
  {
   "cell_type": "code",
   "execution_count": null,
   "id": "8d4dd98b",
   "metadata": {},
   "outputs": [],
   "source": [
    "#After learning functions using \"def\" and \"lambda\" you may want to revisit this code\n",
    "#Key is the basis of sorting the items in the list\n",
    "my_list=[2,1,0,-1,-2]\n",
    "my_list1=sorted(my_list,key=lambda item: item**2)\n",
    "print(my_list1)\n",
    "my_list2=sorted(my_list,key=lambda item: item**2,reverse=True)\n",
    "print(my_list2)"
   ]
  },
  {
   "cell_type": "markdown",
   "id": "6ddfcbb9",
   "metadata": {},
   "source": [
    "#### <code>sort()</code>"
   ]
  },
  {
   "cell_type": "code",
   "execution_count": null,
   "id": "1d443906",
   "metadata": {},
   "outputs": [],
   "source": [
    "Exam_marks=[80,85,55,60,25,75]\n",
    "\n",
    "Exam_marks.sort()\n",
    "print('Ascending:',Exam_marks)"
   ]
  },
  {
   "cell_type": "code",
   "execution_count": null,
   "id": "6e20053e",
   "metadata": {},
   "outputs": [],
   "source": [
    "Exam_marks=[80,85,55,60,25,75]\n",
    "\n",
    "Exam_marks.sort(reverse=True)\n",
    "print('Descending:',Exam_marks)"
   ]
  },
  {
   "cell_type": "code",
   "execution_count": null,
   "id": "b07b1fe3",
   "metadata": {},
   "outputs": [],
   "source": [
    "#After learning functions using \"def\" and \"lambda\" you may want to revisit this code\n",
    "#Key is the basis of sorting the items in the list\n",
    "my_list3=[2,1,0,-1,-2]\n",
    "my_list3.sort(key=lambda item: item**2)\n",
    "print(my_list3)\n",
    "\n",
    "my_list3.sort(key=lambda item: item**2,reverse=True)\n",
    "print(my_list3)"
   ]
  },
  {
   "cell_type": "markdown",
   "id": "63d09118",
   "metadata": {},
   "source": [
    "## Reversing Order of Lists: <code>A.reverse()</code>\n",
    "<code>A.reverse()</code> Reorders the elements of the existing list from last to first and so on"
   ]
  },
  {
   "cell_type": "code",
   "execution_count": null,
   "id": "912853f6",
   "metadata": {},
   "outputs": [],
   "source": [
    "alphabet=['a','b','c','d']\n",
    "\n",
    "print(alphabet)\n",
    "alphabet.reverse()\n",
    "print(alphabet)"
   ]
  },
  {
   "cell_type": "code",
   "execution_count": null,
   "id": "11543100",
   "metadata": {},
   "outputs": [],
   "source": [
    "alphabet=['a','b','c','d']\n",
    "\n",
    "print(alphabet)\n",
    "print(alphabet[::-1])\n",
    "print(alphabet)"
   ]
  },
  {
   "cell_type": "code",
   "execution_count": null,
   "id": "85720dda",
   "metadata": {},
   "outputs": [],
   "source": [
    "name='Kevin'\n",
    "\n",
    "print(name[::-1])\n",
    "print(name[::-2])"
   ]
  },
  {
   "cell_type": "code",
   "execution_count": null,
   "id": "c0b6db87",
   "metadata": {},
   "outputs": [],
   "source": [
    "Exam_marks=[80,85,55,60,25,75]\n",
    "Exam_marks.reverse()\n",
    "\n",
    "print('reverse order of elements:',Exam_marks)"
   ]
  },
  {
   "cell_type": "markdown",
   "id": "d7580fee",
   "metadata": {},
   "source": [
    "### Summming Elements of a list"
   ]
  },
  {
   "cell_type": "code",
   "execution_count": null,
   "id": "b416bf2c",
   "metadata": {},
   "outputs": [],
   "source": [
    "Exam_marks=[80,85,55,60,25,75]\n",
    "sum(Exam_marks)"
   ]
  },
  {
   "cell_type": "markdown",
   "id": "80c33a64",
   "metadata": {},
   "source": [
    "## Dictionaries\n",
    "<p>They contain entries encolsed in curly brackets <code>{}</code>, with each entry separated by commas <code>,</code><ul>\n",
    "    </ul>Each entry comes as a pair: A key and a value, separated by a collon <code>:</code>.<ul>\n",
    "    </ul>Keys are unique, and immutable. They behave like indexes in lists and tuples hence we can access a value based on its key<ul>\n",
    "    </ul>Values are mutable and are not necessarily unique</p>"
   ]
  },
  {
   "cell_type": "code",
   "execution_count": null,
   "id": "580852e0",
   "metadata": {},
   "outputs": [],
   "source": [
    "topic_marks={'kis':85,'eng':80, 'math':95, 'sci':87}\n",
    "print(topic_marks)\n",
    "print(len(topic_marks))"
   ]
  },
  {
   "cell_type": "code",
   "execution_count": null,
   "id": "8399bd4c",
   "metadata": {},
   "outputs": [],
   "source": [
    "#Using the keys as indexes\n",
    "topic_marks={'kis':85,'eng':80, 'math':95, 'sci':87}\n",
    "print(topic_marks)\n",
    "print('english score is ', topic_marks['eng'])"
   ]
  },
  {
   "cell_type": "code",
   "execution_count": null,
   "id": "43ac3bf9",
   "metadata": {},
   "outputs": [],
   "source": [
    "#Using the keys as indexes and the get function\n",
    "topic_marks={'kis':85,'eng':80, 'math':95, 'sci':87}\n",
    "print(topic_marks)\n",
    "print('english score is ', topic_marks.get('eng'))"
   ]
  },
  {
   "cell_type": "code",
   "execution_count": null,
   "id": "3731e3a4",
   "metadata": {},
   "outputs": [],
   "source": [
    "#Checking for existence of keys (cannot be used to search values)\n",
    "topic_marks={'kis':85,'eng':80, 'math':95, 'sci':87}\n",
    "print(topic_marks)\n",
    "print('geog'in topic_marks)\n",
    "print('math'in topic_marks)\n",
    "print(80 in topic_marks)"
   ]
  },
  {
   "cell_type": "code",
   "execution_count": null,
   "id": "5a635c43",
   "metadata": {},
   "outputs": [],
   "source": [
    "#Generating a list of all keys in a dictionary\n",
    "topic_marks={'kis':85,'eng':80, 'math':95, 'sci':87}\n",
    "print(topic_marks)\n",
    "print(topic_marks.keys())"
   ]
  },
  {
   "cell_type": "code",
   "execution_count": null,
   "id": "9eddb7db",
   "metadata": {},
   "outputs": [],
   "source": [
    "#Generating a list of all values in a dictionary(values can be searched)\n",
    "topic_marks={'kis':85,'eng':80, 'math':95, 'sci':87}\n",
    "print(topic_marks)\n",
    "print(topic_marks.values())"
   ]
  },
  {
   "cell_type": "code",
   "execution_count": null,
   "id": "bee0662d",
   "metadata": {},
   "outputs": [],
   "source": [
    "#Generating a list of all key-value pairs in a dictionary, in tuples nestled in a list\n",
    "topic_marks={'kis':85,'eng':80, 'math':95, 'sci':87}\n",
    "print(topic_marks)\n",
    "print(topic_marks.items())"
   ]
  },
  {
   "cell_type": "code",
   "execution_count": null,
   "id": "aa328735",
   "metadata": {},
   "outputs": [],
   "source": [
    "#Deleting entries in a Dictionary\n",
    "#del function\n",
    "topic_marks={'kis':85,'eng':80, 'math':95, 'sci':87}\n",
    "del(topic_marks['eng'])\n",
    "print(topic_marks)\n",
    "\n",
    "#pop funciton with a key\n",
    "topic_marks={'kis':85,'eng':80, 'math':95, 'sci':87}\n",
    "print(topic_marks.pop('kis'))\n",
    "print(topic_marks)\n",
    "\n",
    "#Emptying a dictionary using the clear() function\n",
    "topic_marks.clear()\n",
    "print(topic_marks)"
   ]
  },
  {
   "cell_type": "code",
   "execution_count": null,
   "id": "30a3a428",
   "metadata": {},
   "outputs": [],
   "source": [
    "#Adding entries into Dictionaries\n",
    "topic_marks={'kis':85,'eng':80, 'math':95, 'sci':87}\n",
    "topic_marks['agric']=75\n",
    "print(topic_marks)\n",
    "print('\\n')  #Skip a line\n",
    "\n",
    "#update() function\n",
    "#Adding entries into Dictionaries using the update() function\n",
    "topic_marks.update({'Geog':65})\n",
    "print(topic_marks)\n",
    "\n",
    "#Modifying an entries into Dictionaries using the update() function\n",
    "topic_marks.update({'Geog':85})\n",
    "print(topic_marks)\n",
    "print('\\n')  #Skip a line\n",
    "\n",
    "#Deleting last entry into a Dictionary using thepopitem() function\n",
    "topic_marks.popitem()\n",
    "print(topic_marks)"
   ]
  },
  {
   "cell_type": "markdown",
   "id": "241e9800",
   "metadata": {},
   "source": [
    "#### <code>copy()</code>\n",
    "<p>\n",
    "You cannot copy a dictionary simply by typing dict2 = dict1, because dict2 will only be a reference to dict1, and changes made in dict1 will automatically also be made in dict2.\n",
    "You can use the <code>copy()</code> method to make a copy of the dictionary.</p>"
   ]
  },
  {
   "cell_type": "code",
   "execution_count": null,
   "id": "4feef84e",
   "metadata": {},
   "outputs": [],
   "source": [
    "# Create a dictionary\n",
    "year_sales= {\n",
    "  2015: 34500,\n",
    "  2016: 34300,\n",
    "  2017: 40000\n",
    "}\n",
    "\n",
    "# Make a copy of dictionary\n",
    "year_sales_copy= year_sales.copy()\n",
    "print(year_sales_copy)"
   ]
  },
  {
   "cell_type": "markdown",
   "id": "c8e49f5b",
   "metadata": {},
   "source": [
    "## Sets\n",
    "<p>\n",
    "    Sets are created by enclosing elements in curly brackets <code>{}</code><ul>\n",
    "</ul>They only contain unique elelments hence they automatically remove duplicates.<ul>\n",
    "</ul>Unlike tuples & lists, they are unordered i.e. elements are not indexed.<ul>\n",
    "</ul>We can convert a list into a set by typecasting: <code>set(list)</code>.\n",
    "</p>"
   ]
  },
  {
   "cell_type": "code",
   "execution_count": null,
   "id": "30335587",
   "metadata": {},
   "outputs": [],
   "source": [
    "cartoons_list=['Tom & Jerry', \"Penguins\", 'Dora', 'Tom & Jerry']\n",
    "\n",
    "#We can convert the above list into a set by using type casting\n",
    "cartoons_set=set(cartoons_list)\n",
    "print(cartoons_set)\n",
    "print(type(cartoons_set))"
   ]
  },
  {
   "cell_type": "markdown",
   "id": "f4c720b3",
   "metadata": {},
   "source": [
    "### Comparing Sets\n",
    "<p>\n",
    "    The following codes help us to compare data in two or more sets. We are interested in:<ul>\n",
    "        <li>Intersection:<code>set_A & Set_B</code></li>\n",
    "        <li>Union:<code>set_A.union(Set_B)</code></li>\n",
    "        <li>Check if Set_A is a subset of Set_B:<code>set_A.issubset(Set_B)</code></li>\n",
    "        <li>Check if Set_A is a superset to Set_B:<code>set_A.issuperset(Set_B)</code></li>\n",
    "        <li>Generates all elements of a set outside of intersection <code>set_A & set_B</code>:<code>set_A.difference(set_B)</code></li>\n",
    "        </ul>\n",
    "        </p>\n"
   ]
  },
  {
   "cell_type": "code",
   "execution_count": null,
   "id": "e6d6959f",
   "metadata": {},
   "outputs": [],
   "source": [
    "#Intersection of 2 sets can be obtained by using '&'\n",
    "cartoons_A={'Tom & Jerry', \"Penguins\", 'Dora', 'Spider Man'}\n",
    "cartoons_B={'Tom & Jerry', \"Penguins\", 'Batman', 'Flash'}\n",
    "cartoons_universe=cartoons_A.union(cartoons_B)\n",
    "cartoons_C=cartoons_A&cartoons_B\n",
    "\n",
    "print('cartoons_A\\t\\t\\t\\t\\t=\\t',cartoons_A)\n",
    "print('cartoons_B\\t\\t\\t\\t\\t=\\t',cartoons_B,'\\n')\n",
    "\n",
    "print('cartoons_A&cartoons_B\\t\\t\\t\\t=\\t',cartoons_C)\n",
    "print('cartoons_A.union(cartoons_B)\\t\\t\\t=\\t',cartoons_universe,'\\n') #Union of 2 sets can be obtained by using '.union'\n",
    "\n",
    "print('cartoons_universe.issubset(cartoons_A)\\t\\t=\\t', cartoons_universe.issubset(cartoons_A))\n",
    "print('cartoons_A.issubset(cartoons_universe)\\t\\t=\\t', cartoons_A.issubset(cartoons_universe),'\\n')\n",
    "\n",
    "print('cartoons_universe.issuperset(cartoons_A)\\t=\\t', cartoons_universe.issuperset(cartoons_A))\n",
    "print('cartoons_A.issuperset(cartoons_universe)\\t=\\t', cartoons_A.issuperset(cartoons_universe),'\\n')\n",
    "\n",
    "print('cartoons_A.difference(cartoons_B)\\t\\t=\\t', cartoons_A.difference(cartoons_B))\n",
    "print('cartoons_A.difference(cartoons_universe)\\t=\\t', cartoons_A.difference(cartoons_universe))"
   ]
  },
  {
   "cell_type": "markdown",
   "id": "daad91fa",
   "metadata": {},
   "source": [
    "### Set Operations\n",
    "<p>\n",
    "   <code>'' in </code>:Check whether the objects enclosed in the parenthesis is in the set<ul>\n",
    "</ul><code>.add()</code>:Adds to the set the objects enclosed in the parenthesis<ul>\n",
    "</ul><code>remove()</code>:Removes from the set the objects enclosed in the parenthesis<ul>\n",
    " </ul><code>pop()</code>:Calls and deletes the first item in a set\n",
    " </p>\n",
    "\n"
   ]
  },
  {
   "cell_type": "code",
   "execution_count": null,
   "id": "484dd330",
   "metadata": {},
   "outputs": [],
   "source": [
    "#Check if an object is a member of a set\n",
    "cartoons_set={'Tom & Jerry', 'Penguins', 'Dora', 'Tom & Jerry'}\n",
    "print(cartoons_set)\n",
    "print('Dora'in cartoons_set)\n",
    "print('Batman'in cartoons_set)"
   ]
  },
  {
   "cell_type": "code",
   "execution_count": null,
   "id": "d0e18800",
   "metadata": {},
   "outputs": [],
   "source": [
    "#Add an object into a set\n",
    "cartoons_set={'Tom & Jerry', 'Penguins', 'Dora', 'Tom & Jerry'}\n",
    "print(cartoons_set)\n",
    "\n",
    "cartoons_set.add('Batman')\n",
    "print(cartoons_set)\n",
    "\n",
    "cartoons_set.add('Dora') #Since Dora is already in the set, the set remains unchanged\n",
    "print(cartoons_set)"
   ]
  },
  {
   "cell_type": "code",
   "execution_count": null,
   "id": "78a0d436",
   "metadata": {},
   "outputs": [],
   "source": [
    "#Delete elements of a set\n",
    "cartoons_set={'Tom & Jerry', 'Penguins', 'Dora', 'Tom & Jerry','Batman'}\n",
    "print(cartoons_set)\n",
    "\n",
    "cartoons_set.remove('Dora')\n",
    "print(cartoons_set)"
   ]
  },
  {
   "cell_type": "code",
   "execution_count": null,
   "id": "9485e1d6",
   "metadata": {},
   "outputs": [],
   "source": [
    "cartoons_set={'Tom & Jerry', 'Penguins', 'Dora', 'Tom & Jerry','Batman'}\n",
    "print(cartoons_set.pop())\n",
    "print(cartoons_set)\n",
    "\n",
    "print(cartoons_set.pop())\n",
    "print(cartoons_set)\n",
    "\n",
    "print(cartoons_set.pop())\n",
    "print(cartoons_set)\n",
    "\n",
    "print(cartoons_set.pop())\n",
    "print(cartoons_set)"
   ]
  },
  {
   "cell_type": "markdown",
   "id": "5f2dcb24",
   "metadata": {},
   "source": [
    "# Range\n",
    "<p>These is an ordered set of numbers starting from the lower bound and increases with equally spaced interger amounts until it reaches to atmost upper bound. Can take in one, two or three arguments:<ul>\n",
    "    <li><code>range(n)</code>: generates n numbers staring from zero, increasing by 1 upto and including n-1</li>\n",
    "    <li><code>range(k,k+n)</code>: generates n numbers staring from k, increasing by 1 upto and including k+n-1</li>\n",
    "    <li><code>range(k,k+n,i)</code>: generates quotient of n/i numbers staring from k, increasing by i upto utmost k+n-1</li></ul>Take note, k,n and i must be intergers. If i is negative then n needs to be negative as well so as not to generate an error.\n",
    "    </p>"
   ]
  },
  {
   "cell_type": "code",
   "execution_count": null,
   "id": "ab506731",
   "metadata": {},
   "outputs": [],
   "source": [
    "#range(n) if n is a +ve interger the function outputs a list containig n intergers starting from zero upto interger n-1\n",
    "numbers=range(5)\n",
    "print(numbers)\n",
    "print(list(numbers))\n",
    "print(numbers[0], numbers[1], numbers[2], numbers[3], numbers[4])"
   ]
  },
  {
   "cell_type": "code",
   "execution_count": null,
   "id": "f9066add",
   "metadata": {},
   "outputs": [],
   "source": [
    "#range(a,b) if a & b are intergers and a<b, the function outputs a list containig b-a intergers starting from a upto b-1\n",
    "numbers=range(10,15)\n",
    "print(numbers)\n",
    "print(list(numbers))\n",
    "print(numbers[0], numbers[1], numbers[2], numbers[3], numbers[4])"
   ]
  },
  {
   "cell_type": "code",
   "execution_count": null,
   "id": "df8fc2df",
   "metadata": {},
   "outputs": [],
   "source": [
    "#range(a,b,c) if a<b, the code outputs a list of intergers between a and b that are of the form a+kc with k being an interger\n",
    "numbers=range(-10,11,2)\n",
    "print(numbers)\n",
    "print(list(numbers))\n",
    "print(numbers[0], numbers[1], numbers[2], numbers[3], numbers[4])"
   ]
  },
  {
   "cell_type": "code",
   "execution_count": null,
   "id": "e2125bc7",
   "metadata": {},
   "outputs": [],
   "source": [
    "#range(a,b,c) if a<b, the code outputs a list of intergers between a and b that are of the form a+kc with k being an interger\n",
    "numbers=range(11,-10,-2)\n",
    "print(numbers)\n",
    "print(list(numbers))\n",
    "print(numbers[0], numbers[1], numbers[2], numbers[3], numbers[4])"
   ]
  },
  {
   "cell_type": "markdown",
   "id": "15005c48",
   "metadata": {},
   "source": [
    "# If, Else, Elif, Pass\n",
    "<p> It checks the boolean state of the '<code>if</code>' statement. If it is <code>True</code>, it runs it, if not it will go to the next statement. If there is no succedding statement to an <code>if</code> statement, then there is no output in relation to the <code>if</code> statement with a '<code>false</code>' statement.<ul>\n",
    "    </ul>The next statement can be either an <code>elif</code> or an <code>else</code> statement.<ul>\n",
    "    <li>An <code>elif</code> statement is similar to an <code>if</code> statement. If it is <code>True</code>, it runs it, if not it will go to the next statement which again can be either an an <code>elif</code> or an <code>else</code> statement</li>\n",
    "    <li>An <code>else</code> statement runs if all the previous statements (<code>if</code> & <code>elif</code>s) are <code>False</code>. </li></ul><ul>\n",
    "    </ul>The <code>pass</code> statement allows you to close the <code>if</code>, <code>elif</code> or <code>else</code> functions without returning an output.<code></code>\n",
    "    </p>"
   ]
  },
  {
   "cell_type": "code",
   "execution_count": null,
   "id": "f617bf4a",
   "metadata": {},
   "outputs": [],
   "source": [
    "release_year=2017\n",
    "\n",
    "if release_year<1980:\n",
    "    print(\"Released in\", release_year, \", way before the 80's.\" )\n",
    "elif release_year>=1980 and release_year<1990:\n",
    "    print(\"Released in\", release_year, \", the 80's was the golden era of music.\")\n",
    "elif release_year>=1990 and release_year<2000:\n",
    "    print(\"Released in\", release_year, \"the 90's is when black music truly matured\")\n",
    "else:\n",
    "    pass"
   ]
  },
  {
   "cell_type": "code",
   "execution_count": null,
   "id": "4ea6769d",
   "metadata": {},
   "outputs": [],
   "source": [
    "#You can nestle an if statement within an existing loop\n",
    "release_year=1995\n",
    "\n",
    "if release_year>=1980 and release_year<2000:\n",
    "    if release_year>=1980 and release_year<1990:\n",
    "        print(\"Released in\", release_year, \", the 80's was the golden era of music.\")\n",
    "    else:\n",
    "        print(\"Released in\", release_year, \"the 90's is when black music truly matured\")\n",
    "elif release_year<1980:\n",
    "     print(\"Released in\", release_year, \", way before the 80's.\" )\n",
    "else:\n",
    "    pass"
   ]
  },
  {
   "cell_type": "code",
   "execution_count": null,
   "id": "9d261a62",
   "metadata": {},
   "outputs": [],
   "source": [
    "answer=\"\"\n",
    "answer=input(\"Motor cycles have 2 wheels, True or False? \")\n",
    "answer=answer.title()\n",
    "\n",
    "while not(answer=='True'or answer=='False'):\n",
    "    answer=input(\"Try and again, input either 'True' or 'False'\")\n",
    "    answer=answer.title()\n",
    "\n",
    "print(answer,type(answer))  \n",
    "\n",
    "if answer=='True':\n",
    "    print(\"You are Correct\")\n",
    "else:\n",
    "    print(\"You are Wrong\")"
   ]
  },
  {
   "cell_type": "code",
   "execution_count": null,
   "id": "9904a704",
   "metadata": {},
   "outputs": [],
   "source": [
    "x = 2\n",
    "y = \"6\" \n",
    "\n",
    "# get_diff takes an int and a str\n",
    "def get_diff(xint, ystr):\n",
    "    return int(ystr)-xint\n",
    "    \n",
    "\n",
    "if y.isdigit() == False:\n",
    "    print('\"y\" is not an integer string')\n",
    "elif get_diff(x,y) == 0:\n",
    "    print('x equal to y')\n",
    "else:\n",
    "    print('x is NOT equal to y')\n"
   ]
  },
  {
   "cell_type": "code",
   "execution_count": null,
   "id": "41744799",
   "metadata": {},
   "outputs": [],
   "source": [
    "price_per_kg=20.0\n",
    "purchase=input('Enter weight of desired purchase in kgs ')\n",
    "\n",
    "if type(float(purchase))!=float:\n",
    "    print(\"Enter weight of desired purchase in digits only\")\n",
    "elif float(purchase)<1:\n",
    "    print('Sorry, your desired purchase of', purchase, 'kgs of cheese is below our minimum order of 1kg.\\nWould you like to change your order to more than 1kg?')\n",
    "elif float(purchase)>100:\n",
    "    print('Sorry, your desired purchase of', purchase, 'kgs of cheese is more than our current stock of 100kgs.\\nWould you like to change your order to 100kgs?')\n",
    "else:\n",
    "    print('The cost of',purchase,'kgs of cheese is $', float(purchase)*price_per_kg)"
   ]
  },
  {
   "cell_type": "code",
   "execution_count": null,
   "id": "10446ce1",
   "metadata": {},
   "outputs": [],
   "source": [
    "price_per_kg=20.0\n",
    "purchase=input('You can make an order for cheese between 1kg and 100kgs, How many kgs do you want? Enter in digits:')\n",
    "    \n",
    "while not(purchase.isdigit() and float(purchase)>=1 and float(purchase)<=100):\n",
    "    if not purchase.isdigit():\n",
    "        print('Kindly input your weight in digits')\n",
    "        purchase=input()\n",
    "    else:\n",
    "        print('Kindly make an order between 1kg and 100kgs')\n",
    "        purchase=input()\n",
    "\n",
    "purchase=float(purchase)\n",
    "print('The cost of',purchase,'kgs of cheese is $', float(purchase)*price_per_kg)"
   ]
  },
  {
   "cell_type": "code",
   "execution_count": null,
   "id": "2a2a7d62",
   "metadata": {},
   "outputs": [],
   "source": [
    "price_per_kg=20.0\n",
    "purchase=input('Enter weight of desired purchase in kgs in digits only ')\n",
    "\n",
    "if float(purchase)<1:\n",
    "    print('Sorry, your desired purchase of', purchase, 'kgs of cheese is below our minimum order of 1kg.\\nWould you like to change your order tom more than 1kg?')\n",
    "elif float(purchase)>100:\n",
    "          print('Sorry, your desired purchase of', purchase, 'kgs of cheese is more than our current stock of 100kgs.\\nWould you like to change your order to 100kgs?')\n",
    "elif float(purchase)>1 and float(purchase)<100:\n",
    "    print('The cost of',purchase,'kgs of cheese is $', float(purchase)*price_per_kg)\n",
    "else:\n",
    "    print(\"Enter weight of desired purchase in digits only\")"
   ]
  },
  {
   "cell_type": "markdown",
   "id": "29d8b35c",
   "metadata": {},
   "source": [
    "# For Loops\n",
    "<p>They run a sequence of operations a set number of times, i.e. '<b>for</b> x times run an operation<ul>\n",
    "    </ul><code>enumerate</code> allows you to generate an index and corresponding element\n",
    "    </p>"
   ]
  },
  {
   "cell_type": "code",
   "execution_count": null,
   "id": "f631ac8e",
   "metadata": {},
   "outputs": [],
   "source": [
    "#Prints elements in the list\n",
    "#Uses range function to determine number of iterations needed to accomplish\n",
    "A=['a','b','c','d','e']\n",
    "for i in range(len(A)):\n",
    "    print(i, A[i])"
   ]
  },
  {
   "cell_type": "code",
   "execution_count": null,
   "id": "db300ff5",
   "metadata": {},
   "outputs": [],
   "source": [
    "#Prints elements in the list\n",
    "A=['a','b','c','d','e']\n",
    "for a in A:\n",
    "    print(a)"
   ]
  },
  {
   "cell_type": "code",
   "execution_count": null,
   "id": "6e5d998d",
   "metadata": {},
   "outputs": [],
   "source": [
    "#Prints index & elements in the list as tuples\n",
    "A=['a','b','c','d','e']\n",
    "for a in enumerate(A):\n",
    "    print(type(a),a)"
   ]
  },
  {
   "cell_type": "code",
   "execution_count": null,
   "id": "1938784f",
   "metadata": {},
   "outputs": [],
   "source": [
    "A=['a','b','c','d','e']\n",
    "for a in enumerate(A):\n",
    "    print(a)"
   ]
  },
  {
   "cell_type": "code",
   "execution_count": null,
   "id": "0e706b1b",
   "metadata": {},
   "outputs": [],
   "source": [
    "#Prints elements in a list\n",
    "A=['a','b','c','d','e']\n",
    "for i, a in enumerate(A):\n",
    "    print(a)"
   ]
  },
  {
   "cell_type": "code",
   "execution_count": null,
   "id": "f920148a",
   "metadata": {},
   "outputs": [],
   "source": [
    "#Prints index and corresponding element\n",
    "A=[1,2,3,4,5]\n",
    "for i, a in enumerate(A):\n",
    "    print(i, a)"
   ]
  },
  {
   "cell_type": "code",
   "execution_count": null,
   "id": "fa0e2e06",
   "metadata": {},
   "outputs": [],
   "source": [
    "#Prints index and corresponding element in tuples\n",
    "A=[1,2,3,4,5]\n",
    "for i in enumerate(A):\n",
    "    print(i)"
   ]
  },
  {
   "cell_type": "markdown",
   "id": "f21fda9c",
   "metadata": {},
   "source": [
    "## List Comprehension vs For Loops\n",
    "<p>\n",
    "    Since we apply for loops on list very often, Python has a shortcut called list comprehension</p>"
   ]
  },
  {
   "cell_type": "code",
   "execution_count": null,
   "id": "da872001",
   "metadata": {},
   "outputs": [],
   "source": [
    "#For Loops\n",
    "x = [1,2,3,4]\n",
    "\n",
    "out = []\n",
    "for item in x:\n",
    "    out.append(item**2)\n",
    "print(out)"
   ]
  },
  {
   "cell_type": "code",
   "execution_count": null,
   "id": "15f9352d",
   "metadata": {},
   "outputs": [],
   "source": [
    "#List Comprehension\n",
    "x = [1,2,3,4]\n",
    "\n",
    "[item**2 for item in x]"
   ]
  },
  {
   "cell_type": "code",
   "execution_count": null,
   "id": "99a74bee",
   "metadata": {},
   "outputs": [],
   "source": [
    "#For loops\n",
    "#We have a pool of cars and the list below indicates the tank levels\n",
    "\n",
    "old_car_fuel_level=[0.00,0.50,0.75,0.25,0.10,0.20]\n",
    "\n",
    "#We are refuelling all vehicles to a level of 1\n",
    "#We first create two empty lists for new fuel levels and refuelling requirement\n",
    "\n",
    "new_car_fuel_level=[]\n",
    "car_refuelling_requirement=[]\n",
    "\n",
    "#We then use the extend() function to add elements to our empty lists\n",
    "for i in range(len(old_car_fuel_level)):\n",
    "    new_car_fuel_level.extend([1.0])\n",
    "    car_refuelling_requirement.extend([new_car_fuel_level[i]-old_car_fuel_level[i]])\n",
    "\n",
    "\n",
    "print('Initial fuel levels:\\t',old_car_fuel_level)\n",
    "print('Re-fueling requirement:\\t',car_refuelling_requirement)\n",
    "print('New fuel levels:\\t',new_car_fuel_level)"
   ]
  },
  {
   "cell_type": "code",
   "execution_count": null,
   "id": "91aa8790",
   "metadata": {},
   "outputs": [],
   "source": [
    "#List Comprhension\n",
    "#We have a pool of cars and the list below indicates the tank levels\n",
    "\n",
    "old_car_fuel_level=[0.00,0.50,0.75,0.25,0.10,0.20]\n",
    "\n",
    "#We are refuelling all vehicles to a level of 1\n",
    "new_car_fuel_level=[1 for level in old_car_fuel_level]\n",
    "car_refuelling_Level=[new_car_fuel_level[i]-old_car_fuel_level[i] for i in range(len(new_car_fuel_level))]\n",
    "\n",
    "print('Initial fuel levels:\\t',old_car_fuel_level)\n",
    "print('Re-fueling requirement:\\t',car_refuelling_Level)\n",
    "print('New fuel levels:\\t',new_car_fuel_level)"
   ]
  },
  {
   "cell_type": "markdown",
   "id": "790e3417",
   "metadata": {},
   "source": [
    "# While Loops\n",
    "The loop runs as long us a condition is met. Because of this they are capable of running for perpetuity.\n",
    "Such a loop can only be broken by the condition not being met or by including a <code>break</code> function in the code.\n",
    "\n",
    "You can also include an <code>else</code> statement for when the while becomes false."
   ]
  },
  {
   "cell_type": "code",
   "execution_count": null,
   "id": "de876a39",
   "metadata": {},
   "outputs": [],
   "source": [
    "squares=['orange', 'orange', 'purple', 'blue ', 'orange']\n",
    "new_squares=[]\n",
    "\n",
    "i=0\n",
    "while (squares[i]=='orange'):\n",
    "    new_squares.extend([squares[i]])\n",
    "    i+=1\n",
    "\n",
    "print(new_squares)"
   ]
  },
  {
   "cell_type": "code",
   "execution_count": null,
   "id": "9a317fda",
   "metadata": {},
   "outputs": [],
   "source": [
    "while True:\n",
    "    print('write forever, unless there is a \"break\"')\n",
    "    break"
   ]
  },
  {
   "cell_type": "code",
   "execution_count": null,
   "id": "778b1754",
   "metadata": {},
   "outputs": [],
   "source": [
    "#While loops\n",
    "car_fuel_level=[0.0,0.5,0.75,4,0.05,0.2,0.3]\n",
    "car_fuel_level.sort()\n",
    "\n",
    "print(sum(car_fuel_level),car_fuel_level)\n",
    "\n",
    "total_car_fuel_level=sum(car_fuel_level)\n",
    "fuel_reserves=3.0\n",
    "number_of_cars=len(car_fuel_level)\n",
    "\n",
    "desired_car_fuel_level=(total_car_fuel_level+fuel_reserves)/number_of_cars\n",
    "\n",
    "\n",
    "fueling_requirement=[]\n",
    "\n",
    "for i in range(len(car_fuel_level)):\n",
    "    fueling_requirement.extend([max(desired_car_fuel_level-car_fuel_level[i],0)])\n",
    "\n",
    "\n",
    "print('fueling_requirement:',sum(fueling_requirement),':',fueling_requirement)\n",
    "\n",
    "\n",
    "while fuel_reserves>0:\n",
    "    for i in range(len(car_fuel_level)):\n",
    "        if fueling_requirement[i]>=fuel_reserves or i==len(car_fuel_level)-1:\n",
    "            car_fuel_level[i]+=fuel_reserves\n",
    "            fuel_reserves=0 \n",
    "        else:\n",
    "            car_fuel_level[i]+=fueling_requirement[i]\n",
    "            fuel_reserves-=fueling_requirement[i]\n",
    "\n",
    "print(sum(car_fuel_level),car_fuel_level)"
   ]
  },
  {
   "cell_type": "code",
   "execution_count": null,
   "id": "e03bb442",
   "metadata": {},
   "outputs": [],
   "source": [
    "#While loops\n",
    "car_fuel_level=[0.0,0.5,0.75,4,0.05,0.2,0.3]\n",
    "car_fuel_level.sort()\n",
    "\n",
    "print(sum(car_fuel_level),car_fuel_level)\n",
    "\n",
    "total_car_fuel_level=sum(car_fuel_level)\n",
    "fuel_reserves=3.0\n",
    "number_of_cars=len(car_fuel_level)\n",
    "\n",
    "desired_car_fuel_level=(total_car_fuel_level+fuel_reserves)/number_of_cars\n",
    "\n",
    "\n",
    "fueling_requirement=[max(desired_car_fuel_level-car_fuel_level[i],0) for i in range(len(car_fuel_level))]\n",
    "\n",
    "print('fueling_requirement:',sum(fueling_requirement),':',fueling_requirement)\n",
    "\n",
    "\n",
    "while fuel_reserves>0:\n",
    "    for i in range(len(car_fuel_level)):\n",
    "        if fueling_requirement[i]>=fuel_reserves or i==len(car_fuel_level)-1:\n",
    "            car_fuel_level[i]+=fuel_reserves\n",
    "            fuel_reserves=0 \n",
    "        else:\n",
    "            car_fuel_level[i]+=fueling_requirement[i]\n",
    "            fuel_reserves-=fueling_requirement[i]\n",
    "\n",
    "print(sum(car_fuel_level),car_fuel_level)"
   ]
  },
  {
   "cell_type": "markdown",
   "id": "1d589b9f",
   "metadata": {},
   "source": [
    "# Creating Functions\n",
    "<p>\n",
    "    We use 'def' to create functions. Once we have created a function. We set the inputs of the function.<ul>\n",
    "</ul>The function cannot start with a number<ul>\n",
    "</ul>You can document/add comments to a function by using tripple quotes<ul>\n",
    "</ul>To display function documentation use the help() function\n",
    "</p>"
   ]
  },
  {
   "cell_type": "code",
   "execution_count": null,
   "id": "ea6d1bb4",
   "metadata": {},
   "outputs": [],
   "source": [
    "#Lets create a function with y as the output and x as the input. f(x) is the function\n",
    "# y=f(x)=x+5\n",
    "\n",
    "def f(x):\n",
    "    \"\"\"y=f(x)=x+5\"\"\"\n",
    "    y=x+5\n",
    "    print('x=',x,',y=x+5=',y)\n",
    "    return y\n",
    "\n",
    "y_1=f(5)\n",
    "y_2=f(10)\n",
    "y_3=f(15)\n",
    "\n",
    "help(f)"
   ]
  },
  {
   "cell_type": "code",
   "execution_count": null,
   "id": "3e07ecc2",
   "metadata": {},
   "outputs": [],
   "source": [
    "f"
   ]
  },
  {
   "cell_type": "code",
   "execution_count": null,
   "id": "f9a0f285",
   "metadata": {},
   "outputs": [],
   "source": [
    "#The functions can take up multiple inputs\n",
    "# z=f(x,y)=a+b*x+c*y\n",
    "\n",
    "def f(x,y):\n",
    "    \"\"\"\"z=f(x,y)=a+bx+cy\"\"\"\n",
    "    z=5+3*x+2.5*y\n",
    "    print('x=',x,',y=',y,',z=5+3x+2.5y=',z)\n",
    "    return z\n",
    "\n",
    "z_0=f(0,0)\n",
    "z_1=f(1,0)\n",
    "z_2=f(0,1)\n",
    "z_2=f(3,5)\n",
    "\n",
    "help(f)"
   ]
  },
  {
   "cell_type": "code",
   "execution_count": null,
   "id": "3deea305",
   "metadata": {},
   "outputs": [],
   "source": [
    "#The function below does not take in any input, hence does not require the 'return' function\n",
    "menu=\"fish, ugali, prawns and sukuma wiki\"\n",
    "def birthday_diet():\n",
    "    print('Happy birthday to Florence and Gale, the birthday menu includes: '+menu+'.')\n",
    "birthday_diet()"
   ]
  },
  {
   "cell_type": "code",
   "execution_count": null,
   "id": "e65148db",
   "metadata": {},
   "outputs": [],
   "source": [
    "#The input is provided within the function thus return function is not needed\n",
    "def add_num(x = 11):\n",
    "    print(x + x)\n",
    "add_num()"
   ]
  },
  {
   "cell_type": "code",
   "execution_count": null,
   "id": "871c732e",
   "metadata": {},
   "outputs": [],
   "source": [
    "def add_num(x = 10):\n",
    "    print(x, x)\n",
    "    \n",
    "add_num()"
   ]
  },
  {
   "cell_type": "code",
   "execution_count": null,
   "id": "27c5a335",
   "metadata": {},
   "outputs": [],
   "source": [
    "def amplify(message):\n",
    "    tripple=3*message \n",
    "    return tripple\n",
    "\n",
    "full_instruction=amplify('Run!')\n",
    "print(full_instruction)"
   ]
  },
  {
   "cell_type": "code",
   "execution_count": null,
   "id": "85519007",
   "metadata": {},
   "outputs": [],
   "source": [
    "def half_value(value):\n",
    "    half=value/2\n",
    "    print('half of',value, 'is', half)\n",
    "    return half\n",
    "\n",
    "half_1=half_value(42.0)\n",
    "print(half_1)"
   ]
  },
  {
   "cell_type": "code",
   "execution_count": null,
   "id": "69cdafed",
   "metadata": {},
   "outputs": [],
   "source": [
    "def make_schedule(period1, period2):\n",
    "    schedule = (\"[1st] \" + period1.title() + \", [2nd] \" + period2.title())\n",
    "    return schedule\n",
    "\n",
    "schedule_1= make_schedule(\"mathematics\", \"history\")\n",
    "print(\"SCHEDULE:\", schedule_1)"
   ]
  },
  {
   "cell_type": "code",
   "execution_count": 8,
   "id": "5c1574bd",
   "metadata": {},
   "outputs": [
    {
     "name": "stdout",
     "output_type": "stream",
     "text": [
      "Enter fish name tuna\n",
      "The price of tuna is $80\n",
      "False\n"
     ]
    }
   ],
   "source": [
    "def fish_store(fish):\n",
    "    price=price_list[fish.lower()]\n",
    "    return price\n",
    "\n",
    "price_list={'tuna':80, 'nile perch':10, 'sardine':50}\n",
    "fish=input('Enter fish name ')\n",
    "fish_price=fish_store(fish.lower())\n",
    "print('The price of '+ fish.lower()+ ' is $'+str(fish_price))\n",
    "\n",
    "print('nile' in price_list.keys())"
   ]
  },
  {
   "cell_type": "code",
   "execution_count": 9,
   "id": "a174b946",
   "metadata": {},
   "outputs": [
    {
     "name": "stdout",
     "output_type": "stream",
     "text": [
      "enter purchase25\n",
      "enter purchase30\n",
      "enter purchasequit\n",
      "[25, 30]\n",
      "55\n"
     ]
    }
   ],
   "source": [
    "report=[]\n",
    "\n",
    "def add_report(report):\n",
    "    if sales.lower()=='quit':\n",
    "        total=sum(report)\n",
    "        return total\n",
    "    else:\n",
    "        pass\n",
    "\n",
    "while True:\n",
    "    sales=input('enter purchase')\n",
    "    \n",
    "    if sales.isdigit()==True:\n",
    "        report+=[int(sales)]\n",
    "    \n",
    "    elif sales.lower()=='quit':\n",
    "        client_total=add_report(report)\n",
    "        print(report)\n",
    "        print(client_total)\n",
    "        break\n",
    "    \n",
    "    else:\n",
    "        pass"
   ]
  },
  {
   "cell_type": "code",
   "execution_count": 10,
   "id": "08b04536",
   "metadata": {},
   "outputs": [
    {
     "name": "stdout",
     "output_type": "stream",
     "text": [
      "enter purchase25\n",
      "enter purchase32\n",
      "enter purchasequit\n",
      "Enter either 'All' or 'Total'all\n",
      "Items\n",
      "25\n",
      "32\n",
      "Total Purchase:  57\n"
     ]
    }
   ],
   "source": [
    "report=[]\n",
    "\n",
    "def add_report(report):\n",
    "    if sales.lower()=='quit':\n",
    "        total=sum(report)\n",
    "        return total\n",
    "    else:\n",
    "        pass\n",
    "\n",
    "while True:\n",
    "    sales=input('enter purchase')\n",
    "    \n",
    "    if sales.isdigit()==True:\n",
    "        report+=[int(sales)]\n",
    "    \n",
    "    elif sales.lower()=='quit':\n",
    "        while True:\n",
    "            invoice_type=input('Enter either \\'All\\' or \\'Total\\'' )\n",
    "            if invoice_type.lower()=='all':\n",
    "                print(\"Items\")\n",
    "                for i in report:\n",
    "                    print(i)\n",
    "                break\n",
    "            elif invoice_type.lower()=='total':\n",
    "                break\n",
    "            else:\n",
    "                pass\n",
    "                \n",
    "        client_total=add_report(report)\n",
    "        print('Total Purchase: ',client_total)\n",
    "        break\n",
    "    \n",
    "    else:\n",
    "        pass"
   ]
  },
  {
   "cell_type": "code",
   "execution_count": 11,
   "id": "2707b859",
   "metadata": {},
   "outputs": [
    {
     "name": "stdout",
     "output_type": "stream",
     "text": [
      "Enter either a word or an interger: jk\n",
      "Your input is all alphabetical\n"
     ]
    }
   ],
   "source": [
    "def str_analysis(str):\n",
    "    if str.isalnum()==False:\n",
    "        print('You have inputed','multiple character types')\n",
    "    elif str.isalpha()==True:\n",
    "        print('Your input', 'is all alphabetical')\n",
    "    elif str.isdigit()==True:\n",
    "        str=int(str)\n",
    "        if str>100:\n",
    "            print('Your input is a', 'big number')\n",
    "        else:\n",
    "            print('Your input is a', 'small number')\n",
    "    else:\n",
    "        pass\n",
    "\n",
    "while True:\n",
    "    str=input('Enter either a word or an interger: ')\n",
    "    if str==\"\":\n",
    "        str=input('Enter either a word or an interger: ')\n",
    "    else:\n",
    "        str_1=str_analysis(str)\n",
    "        break"
   ]
  },
  {
   "cell_type": "code",
   "execution_count": 12,
   "id": "d4c57f98",
   "metadata": {},
   "outputs": [
    {
     "name": "stdout",
     "output_type": "stream",
     "text": [
      "11\n"
     ]
    }
   ],
   "source": [
    "a=1\n",
    "\n",
    "def add(b):\n",
    "    return a+b\n",
    "\n",
    "c=add(10)\n",
    "print(c)"
   ]
  },
  {
   "cell_type": "code",
   "execution_count": 13,
   "id": "3162d20c",
   "metadata": {},
   "outputs": [
    {
     "name": "stdout",
     "output_type": "stream",
     "text": [
      "Michael Jackson Thriller 1980\n",
      "Oldie\n"
     ]
    }
   ],
   "source": [
    "# Function example\n",
    "\n",
    "def type_of_album(artist, album, year_released):\n",
    "    \n",
    "    print(artist, album, year_released)\n",
    "    if year_released > 1980:\n",
    "        return \"Modern\"\n",
    "    else:\n",
    "        return \"Oldie\"\n",
    "    \n",
    "x = type_of_album(\"Michael Jackson\", \"Thriller\", 1980)\n",
    "print(x)"
   ]
  },
  {
   "cell_type": "code",
   "execution_count": 14,
   "id": "a856d2d5",
   "metadata": {},
   "outputs": [
    {
     "name": "stdout",
     "output_type": "stream",
     "text": [
      "Michael Jackson is an artist\n",
      "Whitney Houston is an artist\n"
     ]
    }
   ],
   "source": [
    "artist = \"Michael Jackson\"\n",
    "\n",
    "def printer(artist):\n",
    "    global internal_var \n",
    "    internal_var= \"Whitney Houston\"\n",
    "    print(artist,\"is an artist\")\n",
    "\n",
    "printer(artist) \n",
    "printer(internal_var)"
   ]
  },
  {
   "cell_type": "markdown",
   "id": "c090b13f",
   "metadata": {},
   "source": [
    "### `*args`"
   ]
  },
  {
   "cell_type": "markdown",
   "id": "d1ff9a8e",
   "metadata": {},
   "source": [
    "- *args in function definitions in python are used to pass n number of arguments to a function i.e. there is no need to define the number of arguments at the time of creating the function. \n",
    "\n",
    "- Syntax: Use the symbol * to take in n number of arguments. It is often used with the word 'args', however, we can use any other  word. \n",
    "\n",
    "- For example, we want to make a multiply function that takes any number of arguments and is able to multiply them all together. It can be done using *args."
   ]
  },
  {
   "cell_type": "code",
   "execution_count": 15,
   "id": "bf1307a4",
   "metadata": {},
   "outputs": [
    {
     "name": "stdout",
     "output_type": "stream",
     "text": [
      "Lets\n",
      "learn\n",
      "Python\n",
      "for\n",
      "Data\n",
      "Science\n"
     ]
    }
   ],
   "source": [
    "# * indicates that number of arguments can be taken\n",
    "def Multiple(*args):  \n",
    "    for parameter in args:  \n",
    "        print (parameter)\n",
    "\n",
    "\n",
    "# Call the function\n",
    "Multiple(\"Lets\",\"learn\",\"Python\",\"for\",\"Data\",\"Science\") "
   ]
  },
  {
   "cell_type": "markdown",
   "id": "5bf99bd5",
   "metadata": {},
   "source": [
    "### ` **kwargs`"
   ]
  },
  {
   "cell_type": "markdown",
   "id": "2f59ea74",
   "metadata": {},
   "source": [
    "- A keyword argument is where you provide a name to the variable as you pass it into the function. For example, func('Sex'=Female) \n",
    "- The special syntax **kwargs in function definitions in python is used to pass a keyworded, variable-length argument list. We use the name kwargs with the double star. The reason is that the double star allows us to pass through keyword arguments (and any number of them). We can use any other name instead of kwargs. \n",
    "- One can think of the kwargs as being a dictionary that maps each keyword to the value that we pass alongside it."
   ]
  },
  {
   "cell_type": "code",
   "execution_count": 16,
   "id": "5d66b52c",
   "metadata": {},
   "outputs": [
    {
     "name": "stdout",
     "output_type": "stream",
     "text": [
      "A == First letter\n",
      "B == Second letter\n",
      "C == Thirs letter\n"
     ]
    }
   ],
   "source": [
    "def function(**kwargs):\n",
    "    for a,b in kwargs.items():\n",
    "        print(a,\"==\",b)\n",
    "\n",
    "# Call the function\n",
    "a=function(A = \"First letter\", B = \"Second letter\", C = \"Thirs letter\")"
   ]
  },
  {
   "cell_type": "code",
   "execution_count": 17,
   "id": "d574101e",
   "metadata": {},
   "outputs": [
    {
     "name": "stdout",
     "output_type": "stream",
     "text": [
      "9\n"
     ]
    }
   ],
   "source": [
    "def func(x):\n",
    "    return lambda y: (x + y + 1)\n",
    "\n",
    "def func1(x):\n",
    "    return lambda y : (func(x)(x)+y+1)\n",
    "\n",
    "print(func1(3)(1))"
   ]
  },
  {
   "cell_type": "markdown",
   "id": "8571c3fc",
   "metadata": {},
   "source": [
    "Lambda"
   ]
  },
  {
   "cell_type": "markdown",
   "id": "611e4cfe",
   "metadata": {},
   "source": [
    "# List Comprehensions, Lambda, Map and Filter"
   ]
  },
  {
   "cell_type": "code",
   "execution_count": 18,
   "id": "61d40970",
   "metadata": {},
   "outputs": [
    {
     "name": "stdout",
     "output_type": "stream",
     "text": [
      "[1, 4, 9, 16, 25, 36]\n"
     ]
    }
   ],
   "source": [
    "x = [1,2,3,4,5,6]\n",
    "\n",
    "out = []\n",
    "for item in x:\n",
    "    out.append(item**2)\n",
    "print(out)"
   ]
  },
  {
   "cell_type": "code",
   "execution_count": 19,
   "id": "44f73b48",
   "metadata": {},
   "outputs": [
    {
     "name": "stdout",
     "output_type": "stream",
     "text": [
      "[1, 4, 9, 16, 25, 36]\n",
      "[1, 4, 9, 16, 25, 36]\n"
     ]
    }
   ],
   "source": [
    "out1=[item**2 for item in x]\n",
    "print(out1)\n",
    "\n",
    "out1a=list(map(lambda item:item**2,x))\n",
    "print(out1a)"
   ]
  },
  {
   "cell_type": "code",
   "execution_count": 20,
   "id": "bd3d9a5e",
   "metadata": {},
   "outputs": [
    {
     "name": "stdout",
     "output_type": "stream",
     "text": [
      "[2, 4, 6]\n",
      "[2, 4, 6]\n"
     ]
    }
   ],
   "source": [
    "out2=[item for item in x if item%2==0]\n",
    "print(out2)\n",
    "\n",
    "out2a=list(filter(lambda item:item%2==0,x))\n",
    "print(out2a)"
   ]
  },
  {
   "cell_type": "code",
   "execution_count": 21,
   "id": "6e765579",
   "metadata": {},
   "outputs": [
    {
     "name": "stdout",
     "output_type": "stream",
     "text": [
      "[8, 64, 216]\n",
      "[8, 64, 216]\n"
     ]
    }
   ],
   "source": [
    "out3=[item**3 for item in x if item%2==0]\n",
    "print(out3)\n",
    "\n",
    "out3a=list(map(lambda item:item**3,list(filter(lambda item:item%2==0,x))))\n",
    "print(out3a)"
   ]
  },
  {
   "cell_type": "code",
   "execution_count": 22,
   "id": "c6513a75",
   "metadata": {},
   "outputs": [
    {
     "data": {
      "text/plain": [
       "34"
      ]
     },
     "execution_count": 22,
     "metadata": {},
     "output_type": "execute_result"
    }
   ],
   "source": [
    "#Obtain the minimum among two numbers\n",
    "min_value = (lambda x, y: x if x < y else y)\n",
    "min_value(34, 78)"
   ]
  },
  {
   "cell_type": "code",
   "execution_count": 23,
   "id": "8a7ca6fa",
   "metadata": {},
   "outputs": [
    {
     "data": {
      "text/plain": [
       "'False'"
      ]
     },
     "execution_count": 23,
     "metadata": {},
     "output_type": "execute_result"
    }
   ],
   "source": [
    "#Check whether two strings are equal\n",
    "result = (lambda x, y: 'True' if x == y else 'False')\n",
    "result(\"Data\", \"DaTa\")"
   ]
  },
  {
   "cell_type": "code",
   "execution_count": 24,
   "id": "752e5bae",
   "metadata": {},
   "outputs": [
    {
     "name": "stdout",
     "output_type": "stream",
     "text": [
      "[54, 45, 180]\n"
     ]
    }
   ],
   "source": [
    "# Iteration using list\n",
    "list_a = [30, 35, 40]\n",
    "list_b = [12, 5, 70]\n",
    "  \n",
    "print(list(map(lambda x, y: x +2*y, list_a, list_b)))"
   ]
  },
  {
   "cell_type": "code",
   "execution_count": 25,
   "id": "f692a7b5",
   "metadata": {},
   "outputs": [
    {
     "name": "stdout",
     "output_type": "stream",
     "text": [
      "[3, 6, 9, 12, 15]\n"
     ]
    }
   ],
   "source": [
    "#Use lambda expression to mutiply every element in list x by 3\n",
    "#The map() code takes in a function (in this case lambda expression) and applies it through every element of a list \n",
    "x=[1,2,3,4,5]\n",
    "y=list(map(lambda var: var*3,x))\n",
    "print(y)"
   ]
  },
  {
   "cell_type": "code",
   "execution_count": 26,
   "id": "d31eb977",
   "metadata": {},
   "outputs": [
    {
     "data": {
      "text/plain": [
       "[2, 4]"
      ]
     },
     "execution_count": 26,
     "metadata": {},
     "output_type": "execute_result"
    }
   ],
   "source": [
    "#Use lambda expression to generate even numbers\n",
    "#The filter() code uses a boolean function to generate elements from a list that generate True\n",
    "z=list(filter(lambda var:var%2==0,x))\n",
    "z"
   ]
  },
  {
   "cell_type": "code",
   "execution_count": 27,
   "id": "5cd6a624",
   "metadata": {},
   "outputs": [
    {
     "name": "stdout",
     "output_type": "stream",
     "text": [
      "[1, 2, 5, 10, 17]\n"
     ]
    }
   ],
   "source": [
    "A= list(range(5))\n",
    "B = map(lambda x: (x * x)+1, A)\n",
    "print(list(B))"
   ]
  },
  {
   "cell_type": "code",
   "execution_count": 28,
   "id": "883fbca3",
   "metadata": {},
   "outputs": [
    {
     "name": "stdout",
     "output_type": "stream",
     "text": [
      "[1, 4, 9, 16]\n"
     ]
    }
   ],
   "source": [
    "def calculateSquare(n):\n",
    "    return n*n\n",
    "numbers = (1, 2, 3, 4)\n",
    "result = list(map(calculateSquare, numbers))\n",
    "print(result)"
   ]
  },
  {
   "cell_type": "code",
   "execution_count": 29,
   "id": "2ac0dad0",
   "metadata": {},
   "outputs": [
    {
     "name": "stdout",
     "output_type": "stream",
     "text": [
      "[6]\n"
     ]
    }
   ],
   "source": [
    "def filterdata(x):\n",
    "    if x>5:\n",
    "        return x\n",
    "\n",
    "result = filter(filterdata,(1,2,6))\n",
    "print(list(result))"
   ]
  },
  {
   "cell_type": "code",
   "execution_count": 30,
   "id": "f5f6799f",
   "metadata": {},
   "outputs": [
    {
     "name": "stdout",
     "output_type": "stream",
     "text": [
      "[2, 4, 6]\n"
     ]
    }
   ],
   "source": [
    "lambda_func = lambda x: x * 2\n",
    "numbers = [1, 2, 3]\n",
    "map_list = list(map(lambda_func, numbers))\n",
    "print(map_list)"
   ]
  },
  {
   "cell_type": "code",
   "execution_count": null,
   "id": "05133dd2",
   "metadata": {},
   "outputs": [],
   "source": []
  }
 ],
 "metadata": {
  "kernelspec": {
   "display_name": "Python 3 (ipykernel)",
   "language": "python",
   "name": "python3"
  },
  "language_info": {
   "codemirror_mode": {
    "name": "ipython",
    "version": 3
   },
   "file_extension": ".py",
   "mimetype": "text/x-python",
   "name": "python",
   "nbconvert_exporter": "python",
   "pygments_lexer": "ipython3",
   "version": "3.7.1"
  }
 },
 "nbformat": 4,
 "nbformat_minor": 5
}
