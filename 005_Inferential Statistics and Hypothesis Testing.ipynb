{
 "cells": [
  {
   "cell_type": "markdown",
   "id": "ecb9ab5f",
   "metadata": {},
   "source": [
    "# Learning Python From Scratch!\n",
    "With Chweya Matagaro\n",
    "\n",
    "Part 5\n",
    "\n",
    "Lets start by importing important packages:"
   ]
  },
  {
   "cell_type": "markdown",
   "id": "875a83c5",
   "metadata": {},
   "source": [
    "# Inferential Statistics "
   ]
  },
  {
   "cell_type": "code",
   "execution_count": 2,
   "id": "437439cf",
   "metadata": {},
   "outputs": [],
   "source": [
    "import pandas as pd               # library used for data manipulation and analysis\n",
    "import numpy as np                # library used for working with arrays\n",
    "import matplotlib.pyplot as plt   # library for plots and visualizations\n",
    "import seaborn as sns             # library for visualizations\n",
    "import scipy.stats as stats       # library contains a large number of probability distributions as well as a growing library of statistical functions\n",
    "sns.set()                         # "
   ]
  },
  {
   "cell_type": "markdown",
   "id": "3dfdb360",
   "metadata": {},
   "source": [
    "## Binomial Distribution\n",
    "Lets model a binomial process with:\n",
    "* `n`: number of trials\n",
    "* `p`: prob. of success in each trial\n",
    "* `q`: prob. of failure in each trial\n",
    "* `x`: Total number of successes out of the n trials.\n",
    ">$q=1-p$\n",
    "\n",
    "`x` is a modelled by a binomial process and has the probability mass \n",
    ">$P(X=x)={n\\choose x}p^x.q^{n-x}$\n",
    "\n",
    "\n",
    ">$P(X=x)={n\\choose x}p^x.(1-p)^{n-x}$\n",
    "\n",
    ">$F_X(x) = P(X\\leq x)$\n",
    "\n",
    "### Individual instances of x:"
   ]
  },
  {
   "cell_type": "code",
   "execution_count": 3,
   "id": "9a46e724",
   "metadata": {},
   "outputs": [
    {
     "data": {
      "text/plain": [
       "0.2508226559999998"
      ]
     },
     "execution_count": 3,
     "metadata": {},
     "output_type": "execute_result"
    }
   ],
   "source": [
    "stats.binom.pmf(n=10,p=0.6,k=6)"
   ]
  },
  {
   "cell_type": "code",
   "execution_count": 4,
   "id": "b81e8b99",
   "metadata": {},
   "outputs": [
    {
     "data": {
      "text/plain": [
       "0.6177193984000001"
      ]
     },
     "execution_count": 4,
     "metadata": {},
     "output_type": "execute_result"
    }
   ],
   "source": [
    "stats.binom.cdf(n=10,p=0.6,k=6)"
   ]
  },
  {
   "cell_type": "code",
   "execution_count": 5,
   "id": "f0de839c",
   "metadata": {},
   "outputs": [
    {
     "data": {
      "text/plain": [
       "6.0"
      ]
     },
     "execution_count": 5,
     "metadata": {},
     "output_type": "execute_result"
    }
   ],
   "source": [
    "stats.binom.ppf(n=10,p=0.6,q=0.6177193984000001)           #`ppf` is the inverse of the `cdf` function"
   ]
  },
  {
   "cell_type": "code",
   "execution_count": 6,
   "id": "cbdef525",
   "metadata": {},
   "outputs": [
    {
     "data": {
      "text/plain": [
       "(5.0, 10.0)"
      ]
     },
     "execution_count": 6,
     "metadata": {},
     "output_type": "execute_result"
    }
   ],
   "source": [
    "stats.binom.interval(alpha=0.95,n=10,p=0.8)"
   ]
  },
  {
   "cell_type": "markdown",
   "id": "ed102ac4",
   "metadata": {},
   "source": [
    "### Multiple instances of x"
   ]
  },
  {
   "cell_type": "code",
   "execution_count": 7,
   "id": "be794389",
   "metadata": {},
   "outputs": [
    {
     "data": {
      "text/plain": [
       "array([0.04246733, 0.11147674, 0.04031078])"
      ]
     },
     "execution_count": 7,
     "metadata": {},
     "output_type": "execute_result"
    }
   ],
   "source": [
    "stats.binom.pmf(n=10, p=0.6, k=[3,4,9])"
   ]
  },
  {
   "cell_type": "code",
   "execution_count": 8,
   "id": "910a66d0",
   "metadata": {},
   "outputs": [
    {
     "data": {
      "text/plain": [
       "array([8.64358400e-04, 6.36938240e-03, 8.92625818e-01])"
      ]
     },
     "execution_count": 8,
     "metadata": {},
     "output_type": "execute_result"
    }
   ],
   "source": [
    "stats.binom.cdf(n=10,p=0.8,k=[3,4,9])"
   ]
  },
  {
   "cell_type": "code",
   "execution_count": 9,
   "id": "e23cdee2",
   "metadata": {},
   "outputs": [
    {
     "data": {
      "text/plain": [
       "array([3., 4., 9.])"
      ]
     },
     "execution_count": 9,
     "metadata": {},
     "output_type": "execute_result"
    }
   ],
   "source": [
    "stats.binom.ppf(n=10,p=0.8,q=stats.binom.cdf(n=10,p=0.8,k=[3,4,9]))  #`ppf` is the inverse of the `cdf` function"
   ]
  },
  {
   "cell_type": "code",
   "execution_count": 10,
   "id": "23f6a504",
   "metadata": {},
   "outputs": [
    {
     "data": {
      "text/plain": [
       "array([ 5., 10.])"
      ]
     },
     "execution_count": 10,
     "metadata": {},
     "output_type": "execute_result"
    }
   ],
   "source": [
    "stats.binom.ppf(n=10,p=0.8,q=[0.025, 0.975])"
   ]
  },
  {
   "cell_type": "code",
   "execution_count": 11,
   "id": "c5096c6a",
   "metadata": {},
   "outputs": [
    {
     "data": {
      "text/plain": [
       "(5.0, 10.0)"
      ]
     },
     "execution_count": 11,
     "metadata": {},
     "output_type": "execute_result"
    }
   ],
   "source": [
    "stats.binom.interval(alpha=0.95,n=10,p=0.8)"
   ]
  },
  {
   "cell_type": "markdown",
   "id": "d6fcf922",
   "metadata": {},
   "source": [
    "### All instances of x:"
   ]
  },
  {
   "cell_type": "code",
   "execution_count": 12,
   "id": "829f411f",
   "metadata": {},
   "outputs": [
    {
     "data": {
      "text/plain": [
       "array([ 0,  1,  2,  3,  4,  5,  6,  7,  8,  9, 10])"
      ]
     },
     "execution_count": 12,
     "metadata": {},
     "output_type": "execute_result"
    }
   ],
   "source": [
    "np.arange(11)"
   ]
  },
  {
   "cell_type": "code",
   "execution_count": 13,
   "id": "de7fc05b",
   "metadata": {},
   "outputs": [
    {
     "data": {
      "text/plain": [
       "array([1.02400000e-07, 4.09600000e-06, 7.37280000e-05, 7.86432000e-04,\n",
       "       5.50502400e-03, 2.64241152e-02, 8.80803840e-02, 2.01326592e-01,\n",
       "       3.01989888e-01, 2.68435456e-01, 1.07374182e-01])"
      ]
     },
     "execution_count": 13,
     "metadata": {},
     "output_type": "execute_result"
    }
   ],
   "source": [
    "stats.binom.pmf(n=10, p=0.8, k=np.arange(11))"
   ]
  },
  {
   "cell_type": "code",
   "execution_count": 14,
   "id": "ed35282b",
   "metadata": {},
   "outputs": [
    {
     "data": {
      "text/plain": [
       "array([1.02400000e-07, 4.19840000e-06, 7.79264000e-05, 8.64358400e-04,\n",
       "       6.36938240e-03, 3.27934976e-02, 1.20873882e-01, 3.22200474e-01,\n",
       "       6.24190362e-01, 8.92625818e-01, 1.00000000e+00])"
      ]
     },
     "execution_count": 14,
     "metadata": {},
     "output_type": "execute_result"
    }
   ],
   "source": [
    "stats.binom.cdf(n=10, p=0.8, k=np.arange(11))"
   ]
  },
  {
   "cell_type": "code",
   "execution_count": 15,
   "id": "5bf434e6",
   "metadata": {},
   "outputs": [
    {
     "data": {
      "text/html": [
       "<div>\n",
       "<style scoped>\n",
       "    .dataframe tbody tr th:only-of-type {\n",
       "        vertical-align: middle;\n",
       "    }\n",
       "\n",
       "    .dataframe tbody tr th {\n",
       "        vertical-align: top;\n",
       "    }\n",
       "\n",
       "    .dataframe thead th {\n",
       "        text-align: right;\n",
       "    }\n",
       "</style>\n",
       "<table border=\"1\" class=\"dataframe\">\n",
       "  <thead>\n",
       "    <tr style=\"text-align: right;\">\n",
       "      <th></th>\n",
       "      <th>x</th>\n",
       "    </tr>\n",
       "    <tr>\n",
       "      <th>Percentile</th>\n",
       "      <th></th>\n",
       "    </tr>\n",
       "  </thead>\n",
       "  <tbody>\n",
       "    <tr>\n",
       "      <th>0.00</th>\n",
       "      <td>-1.0</td>\n",
       "    </tr>\n",
       "    <tr>\n",
       "      <th>0.05</th>\n",
       "      <td>13.0</td>\n",
       "    </tr>\n",
       "    <tr>\n",
       "      <th>0.10</th>\n",
       "      <td>14.0</td>\n",
       "    </tr>\n",
       "    <tr>\n",
       "      <th>0.15</th>\n",
       "      <td>14.0</td>\n",
       "    </tr>\n",
       "    <tr>\n",
       "      <th>0.20</th>\n",
       "      <td>15.0</td>\n",
       "    </tr>\n",
       "    <tr>\n",
       "      <th>0.25</th>\n",
       "      <td>15.0</td>\n",
       "    </tr>\n",
       "    <tr>\n",
       "      <th>0.30</th>\n",
       "      <td>15.0</td>\n",
       "    </tr>\n",
       "    <tr>\n",
       "      <th>0.35</th>\n",
       "      <td>15.0</td>\n",
       "    </tr>\n",
       "    <tr>\n",
       "      <th>0.40</th>\n",
       "      <td>16.0</td>\n",
       "    </tr>\n",
       "    <tr>\n",
       "      <th>0.45</th>\n",
       "      <td>16.0</td>\n",
       "    </tr>\n",
       "    <tr>\n",
       "      <th>0.50</th>\n",
       "      <td>16.0</td>\n",
       "    </tr>\n",
       "    <tr>\n",
       "      <th>0.55</th>\n",
       "      <td>16.0</td>\n",
       "    </tr>\n",
       "    <tr>\n",
       "      <th>0.60</th>\n",
       "      <td>17.0</td>\n",
       "    </tr>\n",
       "    <tr>\n",
       "      <th>0.65</th>\n",
       "      <td>17.0</td>\n",
       "    </tr>\n",
       "    <tr>\n",
       "      <th>0.70</th>\n",
       "      <td>17.0</td>\n",
       "    </tr>\n",
       "    <tr>\n",
       "      <th>0.75</th>\n",
       "      <td>17.0</td>\n",
       "    </tr>\n",
       "    <tr>\n",
       "      <th>0.80</th>\n",
       "      <td>18.0</td>\n",
       "    </tr>\n",
       "    <tr>\n",
       "      <th>0.85</th>\n",
       "      <td>18.0</td>\n",
       "    </tr>\n",
       "    <tr>\n",
       "      <th>0.90</th>\n",
       "      <td>18.0</td>\n",
       "    </tr>\n",
       "    <tr>\n",
       "      <th>0.95</th>\n",
       "      <td>19.0</td>\n",
       "    </tr>\n",
       "    <tr>\n",
       "      <th>1.00</th>\n",
       "      <td>20.0</td>\n",
       "    </tr>\n",
       "  </tbody>\n",
       "</table>\n",
       "</div>"
      ],
      "text/plain": [
       "               x\n",
       "Percentile      \n",
       "0.00        -1.0\n",
       "0.05        13.0\n",
       "0.10        14.0\n",
       "0.15        14.0\n",
       "0.20        15.0\n",
       "0.25        15.0\n",
       "0.30        15.0\n",
       "0.35        15.0\n",
       "0.40        16.0\n",
       "0.45        16.0\n",
       "0.50        16.0\n",
       "0.55        16.0\n",
       "0.60        17.0\n",
       "0.65        17.0\n",
       "0.70        17.0\n",
       "0.75        17.0\n",
       "0.80        18.0\n",
       "0.85        18.0\n",
       "0.90        18.0\n",
       "0.95        19.0\n",
       "1.00        20.0"
      ]
     },
     "execution_count": 15,
     "metadata": {},
     "output_type": "execute_result"
    }
   ],
   "source": [
    "n=20\n",
    "p=0.8\n",
    "k_cdf=np.linspace(0,1,21)\n",
    "\n",
    "binom_percentiles=pd.DataFrame(data=stats.binom.ppf(n=n, p=p, q=k_cdf),index=k_cdf,columns=['x'])\n",
    "binom_percentiles.index.name='Percentile'\n",
    "binom_percentiles"
   ]
  },
  {
   "cell_type": "markdown",
   "id": "500bb6e5",
   "metadata": {},
   "source": [
    "### Binomial Plots"
   ]
  },
  {
   "cell_type": "code",
   "execution_count": 16,
   "id": "97f1ce02",
   "metadata": {},
   "outputs": [
    {
     "data": {
      "image/png": "[encoded data removed]",
      "text/plain": [
       "<Figure size 640x480 with 1 Axes>"
      ]
     },
     "metadata": {},
     "output_type": "display_data"
    }
   ],
   "source": [
    "n=20\n",
    "p=0.6\n",
    "k=np.arange(n+1)\n",
    "\n",
    "sns.barplot(x=k,y=stats.binom.pmf(n=n, p=p, k=k))\n",
    "plt.xlabel('Number of Successes')\n",
    "plt.ylabel('Probaibilty')\n",
    "plt.grid(axis='both',which='both',c='w')\n",
    "plt.title(\"Binomial PMF: n={} p={}\".format(int(n),p))\n",
    "plt.show()"
   ]
  },
  {
   "cell_type": "code",
   "execution_count": 17,
   "id": "5ff9eec6",
   "metadata": {},
   "outputs": [
    {
     "data": {
      "image/png": "[encoded data removed]",
      "text/plain": [
       "<Figure size 640x480 with 1 Axes>"
      ]
     },
     "metadata": {},
     "output_type": "display_data"
    }
   ],
   "source": [
    "n=20\n",
    "p=0.6\n",
    "k=np.arange(n+1)\n",
    "\n",
    "sns.barplot(x=k,y=stats.binom.cdf(n=n, p=p, k=k))\n",
    "plt.xlabel('Number of Successes')\n",
    "plt.ylabel('Probaibilty')\n",
    "plt.grid(axis='both',which='both',c='w')\n",
    "plt.title(\"Binomial CDF: n={} p={}\".format(int(n),p))\n",
    "plt.show()"
   ]
  },
  {
   "cell_type": "code",
   "execution_count": 21,
   "id": "7d8e3002",
   "metadata": {
    "scrolled": false
   },
   "outputs": [
    {
     "data": {
      "image/png": "[encoded data removed]",
      "text/plain": [
       "<Figure size 640x480 with 1 Axes>"
      ]
     },
     "metadata": {},
     "output_type": "display_data"
    }
   ],
   "source": [
    "n=20\n",
    "p=0.6\n",
    "k=np.arange(n+1)\n",
    "\n",
    "sns.lineplot(x=k,y=stats.binom.cdf(n=n, p=p, k=k),drawstyle='steps-pre')\n",
    "plt.xlabel('Number of Successes')\n",
    "plt.ylabel('Probaibilty')\n",
    "plt.grid(axis='both',which='both',c='w')\n",
    "plt.title(\"Binomial CDF: n={} p={}\".format(int(n),p))\n",
    "plt.show()"
   ]
  },
  {
   "cell_type": "code",
   "execution_count": 18,
   "id": "a309b96e",
   "metadata": {},
   "outputs": [
    {
     "data": {
      "image/png": "[encoded data removed]",
      "text/plain": [
       "<Figure size 640x480 with 1 Axes>"
      ]
     },
     "metadata": {},
     "output_type": "display_data"
    }
   ],
   "source": [
    "n=20\n",
    "p=0.8\n",
    "k_cdf=np.linspace(0,1,1000)\n",
    "\n",
    "sns.lineplot(x=k_cdf,\n",
    "             y=stats.binom.ppf(n=n, p=p, q=k_cdf),\n",
    "             drawstyle='steps-pre')\n",
    "plt.grid(axis='both',which='both')\n",
    "plt.xlabel('Percentile')\n",
    "plt.ylabel('Number of Successes')\n",
    "plt.grid(axis='both',which='both',c='w')\n",
    "plt.show()"
   ]
  },
  {
   "cell_type": "markdown",
   "id": "469072c7",
   "metadata": {},
   "source": [
    "## Uniform Distribution\n",
    "The Stats library can only model the continous version.\n",
    "\n",
    "Lets model the uniform process with:\n",
    "* `a`: The lower bound for the domain of our R.V.\n",
    "* `b`: The upper bound for the domain of our R.V.\n",
    ">$P(X \\leq x)=\\frac{(x-a)}{(b-a)}$\n",
    "\n",
    "https://docs.scipy.org/doc/scipy/reference/generated/scipy.stats.uniform.html\n",
    "\n",
    "### Individual instances of x:"
   ]
  },
  {
   "cell_type": "code",
   "execution_count": 19,
   "id": "8fede400",
   "metadata": {},
   "outputs": [
    {
     "data": {
      "text/plain": [
       "0.125"
      ]
     },
     "execution_count": 19,
     "metadata": {},
     "output_type": "execute_result"
    }
   ],
   "source": [
    "a=1\n",
    "b=9\n",
    "k=3\n",
    "stats.uniform.pdf(x=k, loc=a, scale=(b-a))"
   ]
  },
  {
   "cell_type": "code",
   "execution_count": 20,
   "id": "c94babff",
   "metadata": {},
   "outputs": [
    {
     "data": {
      "text/plain": [
       "0.25"
      ]
     },
     "execution_count": 20,
     "metadata": {},
     "output_type": "execute_result"
    }
   ],
   "source": [
    "a=1\n",
    "b=9\n",
    "k=3\n",
    "stats.uniform.cdf(x=k, loc=a, scale=(b-a))"
   ]
  },
  {
   "cell_type": "code",
   "execution_count": 21,
   "id": "ef669cf6",
   "metadata": {},
   "outputs": [
    {
     "data": {
      "text/plain": [
       "3.0"
      ]
     },
     "execution_count": 21,
     "metadata": {},
     "output_type": "execute_result"
    }
   ],
   "source": [
    "a=1\n",
    "b=9\n",
    "k_cdf=0.25\n",
    "stats.uniform.ppf(q=k_cdf, loc=a, scale=(b-a))"
   ]
  },
  {
   "cell_type": "code",
   "execution_count": 22,
   "id": "ac0d912d",
   "metadata": {},
   "outputs": [
    {
     "data": {
      "text/plain": [
       "(1.2000000000000002, 8.8)"
      ]
     },
     "execution_count": 22,
     "metadata": {},
     "output_type": "execute_result"
    }
   ],
   "source": [
    "a=1\n",
    "b=9\n",
    "k_cdf=0.95\n",
    "stats.uniform.interval(alpha=k_cdf, loc=a, scale=(b-a))"
   ]
  },
  {
   "cell_type": "code",
   "execution_count": 23,
   "id": "c605215e",
   "metadata": {},
   "outputs": [
    {
     "data": {
      "text/plain": [
       "array([0.025, 0.975])"
      ]
     },
     "execution_count": 23,
     "metadata": {},
     "output_type": "execute_result"
    }
   ],
   "source": [
    "a=1\n",
    "b=9\n",
    "k=[1.2,8.8]\n",
    "stats.uniform.cdf(x=k, loc=a, scale=(b-a))"
   ]
  },
  {
   "cell_type": "markdown",
   "id": "0a4b8fb3",
   "metadata": {},
   "source": [
    "### Multiple instances of x"
   ]
  },
  {
   "cell_type": "code",
   "execution_count": 24,
   "id": "e9176ef2",
   "metadata": {},
   "outputs": [
    {
     "data": {
      "text/plain": [
       "array([0.125, 0.125, 0.125, 0.125, 0.125])"
      ]
     },
     "execution_count": 24,
     "metadata": {},
     "output_type": "execute_result"
    }
   ],
   "source": [
    "a=1\n",
    "b=9\n",
    "k=[1,3,5,7,9]\n",
    "stats.uniform.pdf(x=k, loc=a, scale=(b-a))"
   ]
  },
  {
   "cell_type": "code",
   "execution_count": 25,
   "id": "266286d2",
   "metadata": {},
   "outputs": [
    {
     "data": {
      "text/plain": [
       "array([0.  , 0.25, 0.5 , 0.75, 1.  ])"
      ]
     },
     "execution_count": 25,
     "metadata": {},
     "output_type": "execute_result"
    }
   ],
   "source": [
    "a=1\n",
    "b=9\n",
    "k=[1,3,5,7,9]\n",
    "stats.uniform.cdf(x=k, loc=a, scale=(b-a))"
   ]
  },
  {
   "cell_type": "code",
   "execution_count": 26,
   "id": "93f951e7",
   "metadata": {},
   "outputs": [
    {
     "data": {
      "text/plain": [
       "array([1., 3., 5., 7., 9.])"
      ]
     },
     "execution_count": 26,
     "metadata": {},
     "output_type": "execute_result"
    }
   ],
   "source": [
    "a=1\n",
    "b=9\n",
    "k_cdf=[0.0, 0.25, 0.5 , 0.75, 1.0]\n",
    "stats.uniform.ppf(q=k_cdf, loc=a, scale=(b-a))"
   ]
  },
  {
   "cell_type": "code",
   "execution_count": 27,
   "id": "ded47c3d",
   "metadata": {},
   "outputs": [
    {
     "data": {
      "text/html": [
       "<div>\n",
       "<style scoped>\n",
       "    .dataframe tbody tr th:only-of-type {\n",
       "        vertical-align: middle;\n",
       "    }\n",
       "\n",
       "    .dataframe tbody tr th {\n",
       "        vertical-align: top;\n",
       "    }\n",
       "\n",
       "    .dataframe thead th {\n",
       "        text-align: right;\n",
       "    }\n",
       "</style>\n",
       "<table border=\"1\" class=\"dataframe\">\n",
       "  <thead>\n",
       "    <tr style=\"text-align: right;\">\n",
       "      <th></th>\n",
       "      <th>x</th>\n",
       "    </tr>\n",
       "    <tr>\n",
       "      <th>Percentile</th>\n",
       "      <th></th>\n",
       "    </tr>\n",
       "  </thead>\n",
       "  <tbody>\n",
       "    <tr>\n",
       "      <th>0.00</th>\n",
       "      <td>1.0</td>\n",
       "    </tr>\n",
       "    <tr>\n",
       "      <th>0.05</th>\n",
       "      <td>1.4</td>\n",
       "    </tr>\n",
       "    <tr>\n",
       "      <th>0.10</th>\n",
       "      <td>1.8</td>\n",
       "    </tr>\n",
       "    <tr>\n",
       "      <th>0.15</th>\n",
       "      <td>2.2</td>\n",
       "    </tr>\n",
       "    <tr>\n",
       "      <th>0.20</th>\n",
       "      <td>2.6</td>\n",
       "    </tr>\n",
       "    <tr>\n",
       "      <th>0.25</th>\n",
       "      <td>3.0</td>\n",
       "    </tr>\n",
       "    <tr>\n",
       "      <th>0.30</th>\n",
       "      <td>3.4</td>\n",
       "    </tr>\n",
       "    <tr>\n",
       "      <th>0.35</th>\n",
       "      <td>3.8</td>\n",
       "    </tr>\n",
       "    <tr>\n",
       "      <th>0.40</th>\n",
       "      <td>4.2</td>\n",
       "    </tr>\n",
       "    <tr>\n",
       "      <th>0.45</th>\n",
       "      <td>4.6</td>\n",
       "    </tr>\n",
       "    <tr>\n",
       "      <th>0.50</th>\n",
       "      <td>5.0</td>\n",
       "    </tr>\n",
       "    <tr>\n",
       "      <th>0.55</th>\n",
       "      <td>5.4</td>\n",
       "    </tr>\n",
       "    <tr>\n",
       "      <th>0.60</th>\n",
       "      <td>5.8</td>\n",
       "    </tr>\n",
       "    <tr>\n",
       "      <th>0.65</th>\n",
       "      <td>6.2</td>\n",
       "    </tr>\n",
       "    <tr>\n",
       "      <th>0.70</th>\n",
       "      <td>6.6</td>\n",
       "    </tr>\n",
       "    <tr>\n",
       "      <th>0.75</th>\n",
       "      <td>7.0</td>\n",
       "    </tr>\n",
       "    <tr>\n",
       "      <th>0.80</th>\n",
       "      <td>7.4</td>\n",
       "    </tr>\n",
       "    <tr>\n",
       "      <th>0.85</th>\n",
       "      <td>7.8</td>\n",
       "    </tr>\n",
       "    <tr>\n",
       "      <th>0.90</th>\n",
       "      <td>8.2</td>\n",
       "    </tr>\n",
       "    <tr>\n",
       "      <th>0.95</th>\n",
       "      <td>8.6</td>\n",
       "    </tr>\n",
       "    <tr>\n",
       "      <th>1.00</th>\n",
       "      <td>9.0</td>\n",
       "    </tr>\n",
       "  </tbody>\n",
       "</table>\n",
       "</div>"
      ],
      "text/plain": [
       "              x\n",
       "Percentile     \n",
       "0.00        1.0\n",
       "0.05        1.4\n",
       "0.10        1.8\n",
       "0.15        2.2\n",
       "0.20        2.6\n",
       "0.25        3.0\n",
       "0.30        3.4\n",
       "0.35        3.8\n",
       "0.40        4.2\n",
       "0.45        4.6\n",
       "0.50        5.0\n",
       "0.55        5.4\n",
       "0.60        5.8\n",
       "0.65        6.2\n",
       "0.70        6.6\n",
       "0.75        7.0\n",
       "0.80        7.4\n",
       "0.85        7.8\n",
       "0.90        8.2\n",
       "0.95        8.6\n",
       "1.00        9.0"
      ]
     },
     "execution_count": 27,
     "metadata": {},
     "output_type": "execute_result"
    }
   ],
   "source": [
    "a=1\n",
    "b=9\n",
    "k_cdf=np.linspace(0,1,21)\n",
    "\n",
    "uniform_percentiles=pd.DataFrame(data=stats.uniform.ppf(q=k_cdf, loc=a, scale=(b-a)),index=k_cdf,columns=['x'])\n",
    "uniform_percentiles.index.name='Percentile'\n",
    "uniform_percentiles"
   ]
  },
  {
   "cell_type": "markdown",
   "id": "cb404954",
   "metadata": {},
   "source": [
    "### Uniform Plots"
   ]
  },
  {
   "cell_type": "code",
   "execution_count": 28,
   "id": "071ce014",
   "metadata": {},
   "outputs": [
    {
     "data": {
      "image/png": "[encoded data removed]",
      "text/plain": [
       "<Figure size 640x480 with 1 Axes>"
      ]
     },
     "metadata": {},
     "output_type": "display_data"
    }
   ],
   "source": [
    "a=1\n",
    "b=9\n",
    "k=np.linspace(a,b,1000)\n",
    "\n",
    "sns.lineplot(x=k,y=stats.uniform.pdf(x=k, loc=a, scale=(b-a)))\n",
    "plt.xlabel('x')\n",
    "plt.ylabel('Probaibilty')\n",
    "plt.grid(axis='both',which='both',c='w')\n",
    "plt.title(\"Uniform PDF: ({}, {})\".format(a,b))\n",
    "plt.show()"
   ]
  },
  {
   "cell_type": "code",
   "execution_count": 29,
   "id": "fff553f1",
   "metadata": {},
   "outputs": [
    {
     "data": {
      "image/png": "[encoded data removed]",
      "text/plain": [
       "<Figure size 640x480 with 1 Axes>"
      ]
     },
     "metadata": {},
     "output_type": "display_data"
    }
   ],
   "source": [
    "a=1\n",
    "b=9\n",
    "k=np.linspace(a,b,1000)\n",
    "\n",
    "sns.lineplot(x=k,y=stats.uniform.cdf(x=k, loc=a, scale=(b-a)))\n",
    "plt.xlabel('x')\n",
    "plt.ylabel('Probaibilty')\n",
    "plt.grid(axis='both',which='both',c='w')\n",
    "plt.title(\"Uniform CDF: ({}, {})\".format(a,b))\n",
    "plt.show()"
   ]
  },
  {
   "cell_type": "code",
   "execution_count": 30,
   "id": "bd97642a",
   "metadata": {},
   "outputs": [
    {
     "data": {
      "image/png": "[encoded data removed]",
      "text/plain": [
       "<Figure size 640x480 with 1 Axes>"
      ]
     },
     "metadata": {},
     "output_type": "display_data"
    }
   ],
   "source": [
    "a=1\n",
    "b=9\n",
    "k_cdf=np.linspace(0,1,100)\n",
    "stats.uniform.ppf(q=k_cdf, loc=a, scale=(b-a))\n",
    "\n",
    "sns.lineplot(x=k_cdf, y=stats.uniform.ppf(q=k_cdf, loc=a, scale=(b-a)))\n",
    "plt.xlabel('Percentile')\n",
    "plt.ylabel('x')\n",
    "plt.title(\"Uniform CDF: ({}, {})\".format(a,b))\n",
    "plt.grid(axis='both',which='both',c='w')\n",
    "plt.show()\n"
   ]
  },
  {
   "cell_type": "markdown",
   "id": "4ef646a7",
   "metadata": {},
   "source": [
    "# Exponential Distribution\n",
    "\n",
    "$f(x) = \\frac{1}{\\lambda} e ^ {- x / \\lambda} \\qquad \\qquad x > 0$\n",
    "\n",
    "or\n",
    "\n",
    "$f(x) = \\lambda e ^ {-\\lambda x } \\qquad \\qquad x > 0$\n",
    "\n",
    "$E[x]=\\frac{1}{\\lambda}$\n",
    "\n",
    "$E[x^n]=\\frac{n!}{{\\lambda^n}}$\n",
    "\n",
    "$Var[x]=\\frac{1}{{\\lambda^2}}$\n",
    "\n",
    "$\\lambda$"
   ]
  },
  {
   "cell_type": "code",
   "execution_count": 59,
   "id": "64e281e1",
   "metadata": {},
   "outputs": [
    {
     "data": {
      "text/plain": [
       "0.1"
      ]
     },
     "execution_count": 59,
     "metadata": {},
     "output_type": "execute_result"
    }
   ],
   "source": [
    "lam=10\n",
    "stats.expon.moment(n=1, loc=0, scale=1/lam)"
   ]
  },
  {
   "cell_type": "code",
   "execution_count": 60,
   "id": "1c68aa1c",
   "metadata": {},
   "outputs": [
    {
     "data": {
      "text/plain": [
       "0.01"
      ]
     },
     "execution_count": 60,
     "metadata": {},
     "output_type": "execute_result"
    }
   ],
   "source": [
    "lam=10\n",
    "round(stats.expon.moment(n=2, loc=0, scale=1/lam)-(stats.expon.moment(n=1, loc=0, scale=1/lam))**2,4)"
   ]
  },
  {
   "cell_type": "markdown",
   "id": "ad8a1d28",
   "metadata": {},
   "source": [
    "## Single Instance"
   ]
  },
  {
   "cell_type": "code",
   "execution_count": 80,
   "id": "3077ef4b",
   "metadata": {},
   "outputs": [
    {
     "data": {
      "text/plain": [
       "1.8393972058572117"
      ]
     },
     "execution_count": 80,
     "metadata": {},
     "output_type": "execute_result"
    }
   ],
   "source": [
    "k=0.2\n",
    "lam=5\n",
    "stats.expon.pdf(x=k, loc=0, scale=1/lam)"
   ]
  },
  {
   "cell_type": "code",
   "execution_count": 81,
   "id": "56931b04",
   "metadata": {},
   "outputs": [
    {
     "data": {
      "text/plain": [
       "0.6321205588285577"
      ]
     },
     "execution_count": 81,
     "metadata": {},
     "output_type": "execute_result"
    }
   ],
   "source": [
    "k=0.2\n",
    "lam=5\n",
    "stats.expon.cdf(x=k, loc=0, scale=1/lam)"
   ]
  },
  {
   "cell_type": "code",
   "execution_count": 83,
   "id": "5671eee6",
   "metadata": {},
   "outputs": [
    {
     "data": {
      "text/plain": [
       "0.2"
      ]
     },
     "execution_count": 83,
     "metadata": {},
     "output_type": "execute_result"
    }
   ],
   "source": [
    "k_cdf=0.6321205588285577\n",
    "lam=5\n",
    "stats.expon.ppf(q=k_cdf, loc=0, scale=1/lam)"
   ]
  },
  {
   "cell_type": "markdown",
   "id": "042a97f5",
   "metadata": {},
   "source": [
    "### Multiple instances of x"
   ]
  },
  {
   "cell_type": "code",
   "execution_count": 84,
   "id": "89e63967",
   "metadata": {},
   "outputs": [
    {
     "data": {
      "text/plain": [
       "array([1.83939721e+00, 4.10424993e-01, 2.26999649e-04])"
      ]
     },
     "execution_count": 84,
     "metadata": {},
     "output_type": "execute_result"
    }
   ],
   "source": [
    "k=[0.2,0.5,2]\n",
    "lam=5\n",
    "stats.expon.pdf(x=k, loc=0, scale=1/lam)"
   ]
  },
  {
   "cell_type": "code",
   "execution_count": 85,
   "id": "e76720c3",
   "metadata": {},
   "outputs": [
    {
     "data": {
      "text/plain": [
       "array([0.63212056, 0.917915  , 0.9999546 ])"
      ]
     },
     "execution_count": 85,
     "metadata": {},
     "output_type": "execute_result"
    }
   ],
   "source": [
    "k=[0.2,0.5,2]\n",
    "lam=5\n",
    "stats.expon.cdf(x=k, loc=0, scale=1/lam)"
   ]
  },
  {
   "cell_type": "code",
   "execution_count": 88,
   "id": "9f86fe8f",
   "metadata": {},
   "outputs": [
    {
     "data": {
      "text/plain": [
       "array([0.2, 0.5, 2. ])"
      ]
     },
     "execution_count": 88,
     "metadata": {},
     "output_type": "execute_result"
    }
   ],
   "source": [
    "k_cdf=[0.6321205588285577, 0.9179150013761012, 0.9999546000702375]\n",
    "lam=5\n",
    "stats.expon.ppf(q=k_cdf, loc=0, scale=1/lam)"
   ]
  },
  {
   "cell_type": "code",
   "execution_count": 91,
   "id": "62bcc195",
   "metadata": {},
   "outputs": [
    {
     "data": {
      "text/html": [
       "<div>\n",
       "<style scoped>\n",
       "    .dataframe tbody tr th:only-of-type {\n",
       "        vertical-align: middle;\n",
       "    }\n",
       "\n",
       "    .dataframe tbody tr th {\n",
       "        vertical-align: top;\n",
       "    }\n",
       "\n",
       "    .dataframe thead th {\n",
       "        text-align: right;\n",
       "    }\n",
       "</style>\n",
       "<table border=\"1\" class=\"dataframe\">\n",
       "  <thead>\n",
       "    <tr style=\"text-align: right;\">\n",
       "      <th></th>\n",
       "      <th>x</th>\n",
       "    </tr>\n",
       "    <tr>\n",
       "      <th>Percentile</th>\n",
       "      <th></th>\n",
       "    </tr>\n",
       "  </thead>\n",
       "  <tbody>\n",
       "    <tr>\n",
       "      <th>0.00</th>\n",
       "      <td>0.000000</td>\n",
       "    </tr>\n",
       "    <tr>\n",
       "      <th>0.05</th>\n",
       "      <td>0.010259</td>\n",
       "    </tr>\n",
       "    <tr>\n",
       "      <th>0.10</th>\n",
       "      <td>0.021072</td>\n",
       "    </tr>\n",
       "    <tr>\n",
       "      <th>0.15</th>\n",
       "      <td>0.032504</td>\n",
       "    </tr>\n",
       "    <tr>\n",
       "      <th>0.20</th>\n",
       "      <td>0.044629</td>\n",
       "    </tr>\n",
       "    <tr>\n",
       "      <th>0.25</th>\n",
       "      <td>0.057536</td>\n",
       "    </tr>\n",
       "    <tr>\n",
       "      <th>0.30</th>\n",
       "      <td>0.071335</td>\n",
       "    </tr>\n",
       "    <tr>\n",
       "      <th>0.35</th>\n",
       "      <td>0.086157</td>\n",
       "    </tr>\n",
       "    <tr>\n",
       "      <th>0.40</th>\n",
       "      <td>0.102165</td>\n",
       "    </tr>\n",
       "    <tr>\n",
       "      <th>0.45</th>\n",
       "      <td>0.119567</td>\n",
       "    </tr>\n",
       "    <tr>\n",
       "      <th>0.50</th>\n",
       "      <td>0.138629</td>\n",
       "    </tr>\n",
       "    <tr>\n",
       "      <th>0.55</th>\n",
       "      <td>0.159702</td>\n",
       "    </tr>\n",
       "    <tr>\n",
       "      <th>0.60</th>\n",
       "      <td>0.183258</td>\n",
       "    </tr>\n",
       "    <tr>\n",
       "      <th>0.65</th>\n",
       "      <td>0.209964</td>\n",
       "    </tr>\n",
       "    <tr>\n",
       "      <th>0.70</th>\n",
       "      <td>0.240795</td>\n",
       "    </tr>\n",
       "    <tr>\n",
       "      <th>0.75</th>\n",
       "      <td>0.277259</td>\n",
       "    </tr>\n",
       "    <tr>\n",
       "      <th>0.80</th>\n",
       "      <td>0.321888</td>\n",
       "    </tr>\n",
       "    <tr>\n",
       "      <th>0.85</th>\n",
       "      <td>0.379424</td>\n",
       "    </tr>\n",
       "    <tr>\n",
       "      <th>0.90</th>\n",
       "      <td>0.460517</td>\n",
       "    </tr>\n",
       "    <tr>\n",
       "      <th>0.95</th>\n",
       "      <td>0.599146</td>\n",
       "    </tr>\n",
       "    <tr>\n",
       "      <th>1.00</th>\n",
       "      <td>inf</td>\n",
       "    </tr>\n",
       "  </tbody>\n",
       "</table>\n",
       "</div>"
      ],
      "text/plain": [
       "                   x\n",
       "Percentile          \n",
       "0.00        0.000000\n",
       "0.05        0.010259\n",
       "0.10        0.021072\n",
       "0.15        0.032504\n",
       "0.20        0.044629\n",
       "0.25        0.057536\n",
       "0.30        0.071335\n",
       "0.35        0.086157\n",
       "0.40        0.102165\n",
       "0.45        0.119567\n",
       "0.50        0.138629\n",
       "0.55        0.159702\n",
       "0.60        0.183258\n",
       "0.65        0.209964\n",
       "0.70        0.240795\n",
       "0.75        0.277259\n",
       "0.80        0.321888\n",
       "0.85        0.379424\n",
       "0.90        0.460517\n",
       "0.95        0.599146\n",
       "1.00             inf"
      ]
     },
     "execution_count": 91,
     "metadata": {},
     "output_type": "execute_result"
    }
   ],
   "source": [
    "k_cdf=np.linspace(0,1,21)\n",
    "lam=5\n",
    "\n",
    "expon_percentiles=pd.DataFrame(data=stats.expon.ppf(q=k_cdf, loc=0, scale=1/lam),index=k_cdf,columns=['x'])\n",
    "expon_percentiles.index.name='Percentile'\n",
    "expon_percentiles"
   ]
  },
  {
   "cell_type": "markdown",
   "id": "03da506a",
   "metadata": {},
   "source": [
    "### Exponential Plots"
   ]
  },
  {
   "cell_type": "code",
   "execution_count": 114,
   "id": "af681ecf",
   "metadata": {},
   "outputs": [
    {
     "data": {
      "image/png": "[encoded data removed]",
      "text/plain": [
       "<Figure size 640x480 with 1 Axes>"
      ]
     },
     "metadata": {},
     "output_type": "display_data"
    }
   ],
   "source": [
    "k=np.linspace(a,b,1000)\n",
    "lam=5\n",
    "\n",
    "\n",
    "sns.lineplot(x=k,y=stats.expon.pdf(x=k, loc=0, scale=1/lam))\n",
    "plt.xlabel('x')\n",
    "plt.ylabel('Probaibilty')\n",
    "plt.grid(axis='both',which='both',c='w')\n",
    "plt.title(\"Exponential PDF, :$\\lambda$={})\".format(lam))\n",
    "plt.show()"
   ]
  },
  {
   "cell_type": "code",
   "execution_count": 111,
   "id": "d8ddd2b3",
   "metadata": {},
   "outputs": [
    {
     "data": {
      "image/png": "[encoded data removed]",
      "text/plain": [
       "<Figure size 640x480 with 1 Axes>"
      ]
     },
     "metadata": {},
     "output_type": "display_data"
    }
   ],
   "source": [
    "k=np.linspace(a,b,1000)\n",
    "lam=5\n",
    "\n",
    "\n",
    "sns.lineplot(x=k,y=stats.expon.cdf(x=k, loc=0, scale=1/lam))\n",
    "plt.xlabel('x')\n",
    "plt.ylabel('Probaibilty')\n",
    "plt.grid(axis='both',which='both',c='w')\n",
    "plt.title(\"Exponential CDF, :$\\lambda$={})\".format(lam))\n",
    "plt.show()"
   ]
  },
  {
   "cell_type": "code",
   "execution_count": 120,
   "id": "2a1aa5f3",
   "metadata": {},
   "outputs": [
    {
     "data": {
      "image/png": "[encoded data removed]",
      "text/plain": [
       "<Figure size 640x480 with 1 Axes>"
      ]
     },
     "metadata": {},
     "output_type": "display_data"
    }
   ],
   "source": [
    "lam=5\n",
    "k_cdf=np.linspace(0,1,1000)\n",
    "\n",
    "sns.lineplot(x=k_cdf, y=stats.expon.ppf(q=k_cdf, loc=0, scale=1/lam))\n",
    "plt.xlabel('Percentile')\n",
    "plt.ylabel('x')\n",
    "plt.title(\"Exponential CDF, :$\\lambda$={})\".format(lam))\n",
    "plt.grid(axis='both',which='both',c='w')\n",
    "plt.show()\n"
   ]
  },
  {
   "cell_type": "markdown",
   "id": "d19b7725",
   "metadata": {},
   "source": [
    "## Normal Distribution\n",
    "### Single Instance"
   ]
  },
  {
   "cell_type": "code",
   "execution_count": 31,
   "id": "54e78f07",
   "metadata": {},
   "outputs": [
    {
     "data": {
      "text/plain": [
       "0.05399096651318806"
      ]
     },
     "execution_count": 31,
     "metadata": {},
     "output_type": "execute_result"
    }
   ],
   "source": [
    "mu=0\n",
    "sigma=1\n",
    "k=2\n",
    "stats.norm.pdf(x=k,loc=mu,scale=sigma)"
   ]
  },
  {
   "cell_type": "code",
   "execution_count": 32,
   "id": "63422420",
   "metadata": {},
   "outputs": [
    {
     "data": {
      "text/plain": [
       "0.9772498680518208"
      ]
     },
     "execution_count": 32,
     "metadata": {},
     "output_type": "execute_result"
    }
   ],
   "source": [
    "mu=0\n",
    "sigma=1\n",
    "k=2\n",
    "stats.norm.cdf(x=k,loc=mu,scale=sigma)"
   ]
  },
  {
   "cell_type": "code",
   "execution_count": 33,
   "id": "12c01fcf",
   "metadata": {},
   "outputs": [
    {
     "data": {
      "text/plain": [
       "2.0000000000000004"
      ]
     },
     "execution_count": 33,
     "metadata": {},
     "output_type": "execute_result"
    }
   ],
   "source": [
    "mu=0\n",
    "sigma=1\n",
    "k_cdf=0.9772498680518208\n",
    "stats.norm.ppf(q=k_cdf,loc=mu,scale=sigma)"
   ]
  },
  {
   "cell_type": "code",
   "execution_count": 34,
   "id": "13085acd",
   "metadata": {},
   "outputs": [
    {
     "data": {
      "text/plain": [
       "(-1.959963984540054, 1.959963984540054)"
      ]
     },
     "execution_count": 34,
     "metadata": {},
     "output_type": "execute_result"
    }
   ],
   "source": [
    "mu=0\n",
    "sigma=1\n",
    "k_cdf=0.95\n",
    "stats.norm.interval(alpha=k_cdf,loc=mu,scale=sigma)"
   ]
  },
  {
   "cell_type": "code",
   "execution_count": 35,
   "id": "91a81a1f",
   "metadata": {},
   "outputs": [
    {
     "data": {
      "text/plain": [
       "array([-1.95996398,  1.95996398])"
      ]
     },
     "execution_count": 35,
     "metadata": {},
     "output_type": "execute_result"
    }
   ],
   "source": [
    "mu=0\n",
    "sigma=1\n",
    "k_cdf=[0.025,0.975]\n",
    "stats.norm.ppf(q=k_cdf,loc=mu,scale=sigma)"
   ]
  },
  {
   "cell_type": "code",
   "execution_count": 36,
   "id": "0f3a8af0",
   "metadata": {},
   "outputs": [
    {
     "data": {
      "text/plain": [
       "(159.19481886926576, 162.60518113073425)"
      ]
     },
     "execution_count": 36,
     "metadata": {},
     "output_type": "execute_result"
    }
   ],
   "source": [
    "mu=160.9\n",
    "sigma=6\n",
    "n=50\n",
    "k_cdf=0.95\n",
    "stats.t.interval(alpha=k_cdf,df=n-1, loc=mu,scale=sigma/(n**0.5))"
   ]
  },
  {
   "cell_type": "markdown",
   "id": "7674c238",
   "metadata": {},
   "source": [
    "### Multiple Instances"
   ]
  },
  {
   "cell_type": "code",
   "execution_count": 37,
   "id": "1ededc93",
   "metadata": {},
   "outputs": [
    {
     "data": {
      "text/plain": [
       "array([0.00443185, 0.05399097, 0.24197072, 0.39894228, 0.24197072,\n",
       "       0.05399097, 0.00443185])"
      ]
     },
     "execution_count": 37,
     "metadata": {},
     "output_type": "execute_result"
    }
   ],
   "source": [
    "mu=0\n",
    "sigma=1\n",
    "k=[-3,2,1,0,1,2,3]\n",
    "\n",
    "stats.norm.pdf(x=k,loc=mu,scale=sigma)"
   ]
  },
  {
   "cell_type": "code",
   "execution_count": 38,
   "id": "d20b26c1",
   "metadata": {},
   "outputs": [
    {
     "data": {
      "text/plain": [
       "array([0.0013499 , 0.97724987, 0.84134475, 0.5       , 0.84134475,\n",
       "       0.97724987, 0.9986501 ])"
      ]
     },
     "execution_count": 38,
     "metadata": {},
     "output_type": "execute_result"
    }
   ],
   "source": [
    "mu=0\n",
    "sigma=1\n",
    "k=[-3,2,1,0,1,2,3]\n",
    "\n",
    "stats.norm.cdf(x=k,loc=mu,scale=sigma)"
   ]
  },
  {
   "cell_type": "code",
   "execution_count": 39,
   "id": "491fd72a",
   "metadata": {},
   "outputs": [
    {
     "data": {
      "text/plain": [
       "array([-3.,  2.,  1.,  0.,  1.,  2.,  3.])"
      ]
     },
     "execution_count": 39,
     "metadata": {},
     "output_type": "execute_result"
    }
   ],
   "source": [
    "mu=0\n",
    "sigma=1\n",
    "k_cdf=[0.0013499, 0.97724987, 0.84134475, 0.5, 0.84134475, 0.97724987, 0.9986501]\n",
    "\n",
    "stats.norm.ppf(q=k_cdf,loc=mu,scale=sigma).round(4)"
   ]
  },
  {
   "cell_type": "code",
   "execution_count": 40,
   "id": "96b92848",
   "metadata": {},
   "outputs": [
    {
     "data": {
      "text/html": [
       "<div>\n",
       "<style scoped>\n",
       "    .dataframe tbody tr th:only-of-type {\n",
       "        vertical-align: middle;\n",
       "    }\n",
       "\n",
       "    .dataframe tbody tr th {\n",
       "        vertical-align: top;\n",
       "    }\n",
       "\n",
       "    .dataframe thead th {\n",
       "        text-align: right;\n",
       "    }\n",
       "</style>\n",
       "<table border=\"1\" class=\"dataframe\">\n",
       "  <thead>\n",
       "    <tr style=\"text-align: right;\">\n",
       "      <th></th>\n",
       "      <th>x</th>\n",
       "    </tr>\n",
       "    <tr>\n",
       "      <th>Percentile</th>\n",
       "      <th></th>\n",
       "    </tr>\n",
       "  </thead>\n",
       "  <tbody>\n",
       "    <tr>\n",
       "      <th>0.00</th>\n",
       "      <td>-inf</td>\n",
       "    </tr>\n",
       "    <tr>\n",
       "      <th>0.05</th>\n",
       "      <td>-1.644854</td>\n",
       "    </tr>\n",
       "    <tr>\n",
       "      <th>0.10</th>\n",
       "      <td>-1.281552</td>\n",
       "    </tr>\n",
       "    <tr>\n",
       "      <th>0.15</th>\n",
       "      <td>-1.036433</td>\n",
       "    </tr>\n",
       "    <tr>\n",
       "      <th>0.20</th>\n",
       "      <td>-0.841621</td>\n",
       "    </tr>\n",
       "    <tr>\n",
       "      <th>0.25</th>\n",
       "      <td>-0.674490</td>\n",
       "    </tr>\n",
       "    <tr>\n",
       "      <th>0.30</th>\n",
       "      <td>-0.524401</td>\n",
       "    </tr>\n",
       "    <tr>\n",
       "      <th>0.35</th>\n",
       "      <td>-0.385320</td>\n",
       "    </tr>\n",
       "    <tr>\n",
       "      <th>0.40</th>\n",
       "      <td>-0.253347</td>\n",
       "    </tr>\n",
       "    <tr>\n",
       "      <th>0.45</th>\n",
       "      <td>-0.125661</td>\n",
       "    </tr>\n",
       "    <tr>\n",
       "      <th>0.50</th>\n",
       "      <td>0.000000</td>\n",
       "    </tr>\n",
       "    <tr>\n",
       "      <th>0.55</th>\n",
       "      <td>0.125661</td>\n",
       "    </tr>\n",
       "    <tr>\n",
       "      <th>0.60</th>\n",
       "      <td>0.253347</td>\n",
       "    </tr>\n",
       "    <tr>\n",
       "      <th>0.65</th>\n",
       "      <td>0.385320</td>\n",
       "    </tr>\n",
       "    <tr>\n",
       "      <th>0.70</th>\n",
       "      <td>0.524401</td>\n",
       "    </tr>\n",
       "    <tr>\n",
       "      <th>0.75</th>\n",
       "      <td>0.674490</td>\n",
       "    </tr>\n",
       "    <tr>\n",
       "      <th>0.80</th>\n",
       "      <td>0.841621</td>\n",
       "    </tr>\n",
       "    <tr>\n",
       "      <th>0.85</th>\n",
       "      <td>1.036433</td>\n",
       "    </tr>\n",
       "    <tr>\n",
       "      <th>0.90</th>\n",
       "      <td>1.281552</td>\n",
       "    </tr>\n",
       "    <tr>\n",
       "      <th>0.95</th>\n",
       "      <td>1.644854</td>\n",
       "    </tr>\n",
       "    <tr>\n",
       "      <th>1.00</th>\n",
       "      <td>inf</td>\n",
       "    </tr>\n",
       "  </tbody>\n",
       "</table>\n",
       "</div>"
      ],
      "text/plain": [
       "                   x\n",
       "Percentile          \n",
       "0.00            -inf\n",
       "0.05       -1.644854\n",
       "0.10       -1.281552\n",
       "0.15       -1.036433\n",
       "0.20       -0.841621\n",
       "0.25       -0.674490\n",
       "0.30       -0.524401\n",
       "0.35       -0.385320\n",
       "0.40       -0.253347\n",
       "0.45       -0.125661\n",
       "0.50        0.000000\n",
       "0.55        0.125661\n",
       "0.60        0.253347\n",
       "0.65        0.385320\n",
       "0.70        0.524401\n",
       "0.75        0.674490\n",
       "0.80        0.841621\n",
       "0.85        1.036433\n",
       "0.90        1.281552\n",
       "0.95        1.644854\n",
       "1.00             inf"
      ]
     },
     "execution_count": 40,
     "metadata": {},
     "output_type": "execute_result"
    }
   ],
   "source": [
    "mu=0\n",
    "sigma=1\n",
    "k_cdf=np.linspace(0,1,21)\n",
    "\n",
    "norm_percentiles=pd.DataFrame(data=stats.norm.ppf(q=k_cdf,loc=mu,scale=sigma),index=k_cdf,columns=['x'])\n",
    "norm_percentiles.index.name='Percentile'\n",
    "norm_percentiles"
   ]
  },
  {
   "cell_type": "markdown",
   "id": "5599b154",
   "metadata": {},
   "source": [
    "### Normal Distribution Plots"
   ]
  },
  {
   "cell_type": "code",
   "execution_count": 41,
   "id": "067e5a07",
   "metadata": {
    "scrolled": false
   },
   "outputs": [
    {
     "data": {
      "image/png": "[encoded data removed]",
      "text/plain": [
       "<Figure size 432x288 with 1 Axes>"
      ]
     },
     "metadata": {
      "needs_background": "light"
     },
     "output_type": "display_data"
    }
   ],
   "source": [
    "mu=50\n",
    "sigma=10\n",
    "k=np.linspace((mu-4*sigma),(mu+4*sigma),1000)\n",
    "\n",
    "sns.lineplot(x=k,y=stats.norm.pdf(x=k,loc=mu,scale=sigma))\n",
    "plt.xlabel('x')\n",
    "plt.ylabel('Probaibilty')\n",
    "plt.grid(axis='both',which='both',c='w')\n",
    "plt.title(\"Normal PDF: (mean={}, S.D.={},var={})\".format(mu,sigma,sigma**2))\n",
    "plt.show()"
   ]
  },
  {
   "cell_type": "code",
   "execution_count": 42,
   "id": "445b321b",
   "metadata": {},
   "outputs": [
    {
     "data": {
      "image/png": "[encoded data removed]",
      "text/plain": [
       "<Figure size 432x288 with 1 Axes>"
      ]
     },
     "metadata": {
      "needs_background": "light"
     },
     "output_type": "display_data"
    }
   ],
   "source": [
    "mu=50\n",
    "sigma=10\n",
    "k=np.linspace((mu-4*sigma),(mu+4*sigma),1000)\n",
    "\n",
    "sns.lineplot(x=k,y=stats.norm.cdf(x=k,loc=mu,scale=sigma))\n",
    "plt.xlabel('x')\n",
    "plt.ylabel('Probaibilty')\n",
    "plt.grid(axis='both',which='both',c='w')\n",
    "plt.title(\"Normal CDF: (mean={}, S.D.={},var={})\".format(mu,sigma,sigma**2))\n",
    "plt.show()"
   ]
  },
  {
   "cell_type": "code",
   "execution_count": 121,
   "id": "5b016337",
   "metadata": {},
   "outputs": [
    {
     "data": {
      "image/png": "[encoded data removed]",
      "text/plain": [
       "<Figure size 1200x800 with 1 Axes>"
      ]
     },
     "metadata": {},
     "output_type": "display_data"
    }
   ],
   "source": [
    "mu=0\n",
    "sigma=1\n",
    "k_cdf=np.linspace(0,1,10000)\n",
    "\n",
    "plt.figure(figsize=(12,8))\n",
    "sns.lineplot(x=k_cdf,y=stats.norm.ppf(q=k_cdf,loc=mu,scale=sigma))\n",
    "plt.xlabel('Percentiles')\n",
    "plt.ylabel('x')\n",
    "plt.grid(axis='both',which='both',c='w')\n",
    "plt.xticks(np.linspace(0, 1, 21))\n",
    "plt.yticks(np.linspace(mu-4*sigma, mu+4*sigma, 17))\n",
    "plt.title(\"Normal CDF: (mean={}, S.D.={},var={})\".format(mu,sigma,sigma**2))\n",
    "plt.show()"
   ]
  },
  {
   "cell_type": "markdown",
   "id": "207fba7e",
   "metadata": {},
   "source": [
    "# t Distribution\n",
    "## Single Instance"
   ]
  },
  {
   "cell_type": "code",
   "execution_count": 149,
   "id": "86280a8a",
   "metadata": {},
   "outputs": [
    {
     "name": "stdout",
     "output_type": "stream",
     "text": [
      "\n",
      "Sample Size: \t\t 30 \n",
      "Degrees of Freedom: \t 29 \n",
      "sample_sigma:  \t\t 25 \n",
      "sample_mu:  \t\t 10 \n",
      "mu:  \t\t\t 8 \n",
      "Test Statistic: \t 0.4381780460041329 \n",
      "Sample mu PDF: \t\t 0.07848735985452132 \n",
      "Test Statistic PDF: \t 0.358244145594556\n"
     ]
    }
   ],
   "source": [
    "mu=8\n",
    "\n",
    "sample_mu=10\n",
    "sample_sigma=25\n",
    "n=30\n",
    "deg_free=n-1\n",
    "\n",
    "test_stat=(sample_mu-mu)/(sample_sigma/(n**0.5))\n",
    "print('\\nSample Size: \\t\\t',n,\n",
    "      '\\nDegrees of Freedom: \\t',deg_free,\n",
    "      '\\nsample_sigma:  \\t\\t',sample_sigma,\n",
    "      '\\nsample_mu:  \\t\\t',sample_mu,\n",
    "      '\\nmu:  \\t\\t\\t',mu,\n",
    "      '\\nTest Statistic: \\t',test_stat,\n",
    "      '\\nSample mu PDF: \\t\\t',stats.t.pdf(x=sample_mu, loc=mu, scale=sample_sigma/(n**0.5), df=deg_free),\n",
    "      '\\nTest Statistic PDF: \\t',stats.t.pdf(x=test_stat, loc=0, scale=1, df=deg_free))"
   ]
  },
  {
   "cell_type": "code",
   "execution_count": 150,
   "id": "19d25801",
   "metadata": {},
   "outputs": [
    {
     "name": "stdout",
     "output_type": "stream",
     "text": [
      "\n",
      "Sample Size: \t\t 30 \n",
      "Degrees of Freedom: \t 29 \n",
      "sample_sigma:  \t\t 25 \n",
      "sample_mu:  \t\t 10 \n",
      "mu:  \t\t\t 8 \n",
      "Test Statistic: \t 0.4381780460041329 \n",
      "Sample mu CDF: \t\t 0.6677480258013038 \n",
      "Test Statistic CDF: \t 0.6677480258013038\n"
     ]
    }
   ],
   "source": [
    "mu=8\n",
    "\n",
    "sample_mu=10\n",
    "sample_sigma=25\n",
    "n=30\n",
    "deg_free=n-1\n",
    "\n",
    "test_stat=(sample_mu-mu)/(sample_sigma/(n**0.5))\n",
    "print('\\nSample Size: \\t\\t',n,\n",
    "      '\\nDegrees of Freedom: \\t',deg_free,\n",
    "      '\\nsample_sigma:  \\t\\t',sample_sigma,\n",
    "      '\\nsample_mu:  \\t\\t',sample_mu,\n",
    "      '\\nmu:  \\t\\t\\t',mu,\n",
    "      '\\nTest Statistic: \\t',test_stat,\n",
    "     '\\nSample mu CDF: \\t\\t',stats.t.cdf(x=sample_mu, loc=mu, scale=sample_sigma/(n**0.5), df=deg_free),\n",
    "     '\\nTest Statistic CDF: \\t',stats.t.cdf(x=test_stat, loc=0, scale=1, df=deg_free))"
   ]
  },
  {
   "cell_type": "code",
   "execution_count": 151,
   "id": "47b8c3d8",
   "metadata": {},
   "outputs": [
    {
     "name": "stdout",
     "output_type": "stream",
     "text": [
      "\n",
      "Sample Size: \t\t 30 \n",
      "Degrees of Freedom: \t 29 \n",
      "sample_sigma:  \t\t 25 \n",
      "sample_mu:  \t\t 9.999999995302582 \n",
      "mu:  \t\t\t 8 \n",
      "Test Statistic: \t 0.4381780449749803 \n",
      "Test Statistic CDF: \t 0.6677480258013038\n"
     ]
    }
   ],
   "source": [
    "test_stat_cdf=0.6677480258013038\n",
    "\n",
    "sample_sigma=25\n",
    "n=30\n",
    "deg_free=n-1\n",
    "\n",
    "test_stat=stats.t.ppf(q=test_stat_cdf,loc=0,scale=1,df=deg_free)\n",
    "sample_mu=stats.t.ppf(q=test_stat_cdf,loc=mu,scale=sample_sigma/(n**0.5),df=deg_free)\n",
    "print('\\nSample Size: \\t\\t',n,\n",
    "      '\\nDegrees of Freedom: \\t',deg_free,\n",
    "      '\\nsample_sigma:  \\t\\t',sample_sigma,\n",
    "      '\\nsample_mu:  \\t\\t',sample_mu,\n",
    "      '\\nmu:  \\t\\t\\t',mu,\n",
    "      '\\nTest Statistic: \\t',test_stat,\n",
    "      '\\nTest Statistic CDF: \\t',test_stat_cdf)\n"
   ]
  },
  {
   "cell_type": "markdown",
   "id": "0db48a50",
   "metadata": {},
   "source": [
    "## Multiple Instances"
   ]
  },
  {
   "cell_type": "code",
   "execution_count": 84,
   "id": "e212bef7",
   "metadata": {},
   "outputs": [
    {
     "data": {
      "text/plain": [
       "array([0.00040034, 0.06780414, 0.39844141, 0.06780414, 0.00040034])"
      ]
     },
     "execution_count": 84,
     "metadata": {},
     "output_type": "execute_result"
    }
   ],
   "source": [
    "mu=0\n",
    "\n",
    "sample_mu=np.array([-4,-2,0,2,4])\n",
    "sample_sigma=15\n",
    "n=200\n",
    "deg_free=n-1\n",
    "\n",
    "test_stat=(sample_mu-mu)/(sample_sigma/(n**0.5))\n",
    "\n",
    "stats.t.pdf(x=test_stat, loc=0, scale=1, df=deg_free)"
   ]
  },
  {
   "cell_type": "code",
   "execution_count": 89,
   "id": "b832dbc9",
   "metadata": {},
   "outputs": [
    {
     "name": "stdout",
     "output_type": "stream",
     "text": [
      "Sample Size: \t\t 30 \n",
      "Degrees of Freedom: \t 29 \n",
      "sample_sigma: \t\t 25  \n",
      "sample_mu: \t\t [-4 -2  0  2  4] \n",
      "Test Statistic: \t [-0.8763560920082658, -0.4381780460041329, 0.0, 0.4381780460041329, 0.8763560920082658] \n",
      "Test Statistic CDF: \t [0.19401911247085019, 0.3322519741986963, 0.5, 0.6677480258013038, 0.8059808875291499]\n"
     ]
    }
   ],
   "source": [
    "mu=0\n",
    "\n",
    "sample_mu=np.array([-4,-2,0,2,4])\n",
    "sample_sigma=25\n",
    "n=30\n",
    "deg_free=n-1\n",
    "\n",
    "test_stat=(sample_mu-mu)/(sample_sigma/(n**0.5))\n",
    "test_stat_cdf=stats.t.cdf(x=test_stat, loc=0, scale=1, df=deg_free)\n",
    "\n",
    "print('Sample Size: \\t\\t',n,\n",
    "      '\\nDegrees of Freedom: \\t',deg_free,\n",
    "      '\\nsample_sigma: \\t\\t',sample_sigma,\n",
    "     ' \\nsample_mu: \\t\\t',sample_mu,\n",
    "      '\\nTest Statistic: \\t',list(test_stat),\n",
    "      '\\nTest Statistic CDF: \\t',list(test_stat_cdf) )"
   ]
  },
  {
   "cell_type": "code",
   "execution_count": 120,
   "id": "ee5f4b7f",
   "metadata": {},
   "outputs": [
    {
     "name": "stdout",
     "output_type": "stream",
     "text": [
      "Sample Size: \t\t 30 \n",
      "Degrees of Freedom: \t 29 \n",
      "sample_sigma: \t\t 25 \n",
      "sample_mu: \t\t [-4.0, -2.0, 0.0, 2.0, 4.0] \n",
      "sample_mu: \t\t [-4.0, -2.0, 0.0, 2.0, 4.0] \n",
      "Test Statistic: \t [-0.876356090027764, -0.43817804497498, 0.0, 0.43817804497498, 0.876356090027764] \n",
      "Test Statistic CDF: \t [0.19401911247085019, 0.3322519741986963, 0.5, 0.6677480258013038, 0.8059808875291499]\n"
     ]
    }
   ],
   "source": [
    "test_stat_cdf=np.array([0.19401911247085019, 0.3322519741986963, 0.5, 0.6677480258013038, 0.8059808875291499])\n",
    "\n",
    "mu=0\n",
    "\n",
    "sample_sigma=25\n",
    "n=30\n",
    "deg_free=n-1\n",
    "\n",
    "test_stat=stats.t.ppf(q=test_stat_cdf,loc=0,scale=1,df=deg_free)\n",
    "sample_mu=(test_stat*(sample_sigma/(n**0.5))+mu)\n",
    "print('Sample Size: \\t\\t',n,\n",
    "      '\\nDegrees of Freedom: \\t',deg_free,\n",
    "      '\\nsample_sigma: \\t\\t',sample_sigma,\n",
    "      '\\nsample_mu: \\t\\t',list(np.round(sample_mu,6)),\n",
    "      '\\nsample_mu: \\t\\t',list(np.round(stats.t.ppf(q=test_stat_cdf,loc=mu,scale=sample_sigma/(n**0.5),df=deg_free),6)),\n",
    "      '\\nTest Statistic: \\t',list(np.round(test_stat,15)),\n",
    "      '\\nTest Statistic CDF: \\t',list(test_stat_cdf) )"
   ]
  },
  {
   "cell_type": "code",
   "execution_count": 104,
   "id": "fe3d7ee2",
   "metadata": {},
   "outputs": [
    {
     "data": {
      "text/html": [
       "<div>\n",
       "<style scoped>\n",
       "    .dataframe tbody tr th:only-of-type {\n",
       "        vertical-align: middle;\n",
       "    }\n",
       "\n",
       "    .dataframe tbody tr th {\n",
       "        vertical-align: top;\n",
       "    }\n",
       "\n",
       "    .dataframe thead th {\n",
       "        text-align: right;\n",
       "    }\n",
       "</style>\n",
       "<table border=\"1\" class=\"dataframe\">\n",
       "  <thead>\n",
       "    <tr style=\"text-align: right;\">\n",
       "      <th></th>\n",
       "      <th>t-stat</th>\n",
       "      <th>Sample mu</th>\n",
       "    </tr>\n",
       "    <tr>\n",
       "      <th>Percentile</th>\n",
       "      <th></th>\n",
       "      <th></th>\n",
       "    </tr>\n",
       "  </thead>\n",
       "  <tbody>\n",
       "    <tr>\n",
       "      <th>0.00</th>\n",
       "      <td>-inf</td>\n",
       "      <td>-inf</td>\n",
       "    </tr>\n",
       "    <tr>\n",
       "      <th>0.05</th>\n",
       "      <td>-1.699127</td>\n",
       "      <td>-7.755418</td>\n",
       "    </tr>\n",
       "    <tr>\n",
       "      <th>0.10</th>\n",
       "      <td>-1.311434</td>\n",
       "      <td>-5.985848</td>\n",
       "    </tr>\n",
       "    <tr>\n",
       "      <th>0.15</th>\n",
       "      <td>-1.055302</td>\n",
       "      <td>-4.816774</td>\n",
       "    </tr>\n",
       "    <tr>\n",
       "      <th>0.20</th>\n",
       "      <td>-0.854192</td>\n",
       "      <td>-3.898835</td>\n",
       "    </tr>\n",
       "    <tr>\n",
       "      <th>0.25</th>\n",
       "      <td>-0.683044</td>\n",
       "      <td>-3.117654</td>\n",
       "    </tr>\n",
       "    <tr>\n",
       "      <th>0.30</th>\n",
       "      <td>-0.530214</td>\n",
       "      <td>-2.420087</td>\n",
       "    </tr>\n",
       "    <tr>\n",
       "      <th>0.35</th>\n",
       "      <td>-0.389161</td>\n",
       "      <td>-1.776269</td>\n",
       "    </tr>\n",
       "    <tr>\n",
       "      <th>0.40</th>\n",
       "      <td>-0.255684</td>\n",
       "      <td>-1.167031</td>\n",
       "    </tr>\n",
       "    <tr>\n",
       "      <th>0.45</th>\n",
       "      <td>-0.126767</td>\n",
       "      <td>-0.578608</td>\n",
       "    </tr>\n",
       "    <tr>\n",
       "      <th>0.50</th>\n",
       "      <td>0.000000</td>\n",
       "      <td>0.000000</td>\n",
       "    </tr>\n",
       "    <tr>\n",
       "      <th>0.55</th>\n",
       "      <td>0.126767</td>\n",
       "      <td>0.578608</td>\n",
       "    </tr>\n",
       "    <tr>\n",
       "      <th>0.60</th>\n",
       "      <td>0.255684</td>\n",
       "      <td>1.167031</td>\n",
       "    </tr>\n",
       "    <tr>\n",
       "      <th>0.65</th>\n",
       "      <td>0.389161</td>\n",
       "      <td>1.776269</td>\n",
       "    </tr>\n",
       "    <tr>\n",
       "      <th>0.70</th>\n",
       "      <td>0.530214</td>\n",
       "      <td>2.420087</td>\n",
       "    </tr>\n",
       "    <tr>\n",
       "      <th>0.75</th>\n",
       "      <td>0.683044</td>\n",
       "      <td>3.117654</td>\n",
       "    </tr>\n",
       "    <tr>\n",
       "      <th>0.80</th>\n",
       "      <td>0.854192</td>\n",
       "      <td>3.898835</td>\n",
       "    </tr>\n",
       "    <tr>\n",
       "      <th>0.85</th>\n",
       "      <td>1.055302</td>\n",
       "      <td>4.816774</td>\n",
       "    </tr>\n",
       "    <tr>\n",
       "      <th>0.90</th>\n",
       "      <td>1.311434</td>\n",
       "      <td>5.985848</td>\n",
       "    </tr>\n",
       "    <tr>\n",
       "      <th>0.95</th>\n",
       "      <td>1.699127</td>\n",
       "      <td>7.755418</td>\n",
       "    </tr>\n",
       "    <tr>\n",
       "      <th>1.00</th>\n",
       "      <td>inf</td>\n",
       "      <td>inf</td>\n",
       "    </tr>\n",
       "  </tbody>\n",
       "</table>\n",
       "</div>"
      ],
      "text/plain": [
       "              t-stat  Sample mu\n",
       "Percentile                     \n",
       "0.00            -inf       -inf\n",
       "0.05       -1.699127  -7.755418\n",
       "0.10       -1.311434  -5.985848\n",
       "0.15       -1.055302  -4.816774\n",
       "0.20       -0.854192  -3.898835\n",
       "0.25       -0.683044  -3.117654\n",
       "0.30       -0.530214  -2.420087\n",
       "0.35       -0.389161  -1.776269\n",
       "0.40       -0.255684  -1.167031\n",
       "0.45       -0.126767  -0.578608\n",
       "0.50        0.000000   0.000000\n",
       "0.55        0.126767   0.578608\n",
       "0.60        0.255684   1.167031\n",
       "0.65        0.389161   1.776269\n",
       "0.70        0.530214   2.420087\n",
       "0.75        0.683044   3.117654\n",
       "0.80        0.854192   3.898835\n",
       "0.85        1.055302   4.816774\n",
       "0.90        1.311434   5.985848\n",
       "0.95        1.699127   7.755418\n",
       "1.00             inf        inf"
      ]
     },
     "execution_count": 104,
     "metadata": {},
     "output_type": "execute_result"
    }
   ],
   "source": [
    "test_stat_cdf=np.linspace(0,1,21)\n",
    "\n",
    "mu=0\n",
    "\n",
    "sample_sigma=25\n",
    "n=30\n",
    "deg_free=n-1\n",
    "\n",
    "test_stat=stats.t.ppf(q=test_stat_cdf,loc=0,scale=1,df=deg_free)\n",
    "sample_mu=(test_stat*(sample_sigma/(n**0.5))+mu)\n",
    "\n",
    "\n",
    "t_dist_percentiles=pd.DataFrame(data=stats.t.ppf(q=test_stat_cdf,loc=0,scale=1,df=deg_free),\n",
    "                                                    index=test_stat_cdf,columns=['t-stat'])\n",
    "\n",
    "t_dist_percentiles.index.name='Percentile'\n",
    "t_dist_percentiles['Sample mu']=sample_mu\n",
    "t_dist_percentiles=np.round(t_dist_percentiles,10)\n",
    "t_dist_percentiles"
   ]
  },
  {
   "cell_type": "markdown",
   "id": "a20404e1",
   "metadata": {},
   "source": [
    "### t-distribution Plots"
   ]
  },
  {
   "cell_type": "code",
   "execution_count": 195,
   "id": "59d40273",
   "metadata": {
    "scrolled": false
   },
   "outputs": [
    {
     "data": {
      "image/png": "[encoded data removed]",
      "text/plain": [
       "<Figure size 432x288 with 1 Axes>"
      ]
     },
     "metadata": {
      "needs_background": "light"
     },
     "output_type": "display_data"
    }
   ],
   "source": [
    "mu=50\n",
    "sample_sigma=10\n",
    "n=60\n",
    "deg_free=n-1\n",
    "\n",
    "sample_mu=np.linspace((mu-4*sample_sigma/(n**0.5)),(mu+4*sample_sigma/(n**0.5)),1000)\n",
    "\n",
    "sns.lineplot(x=sample_mu,y=stats.t.pdf(x=sample_mu,loc=mu,scale=sample_sigma/(n**0.5), df=deg_free))\n",
    "plt.xlabel('sample_mu')\n",
    "plt.ylabel('Probaibilty')\n",
    "plt.grid(axis='both',which='both',c='w')\n",
    "plt.title(\"t PDF: mean={}, sample S.D.={}, sample var={}, n={}, df{}\".format(mu,sample_sigma,sample_sigma**2,n,deg_free))\n",
    "plt.show()"
   ]
  },
  {
   "cell_type": "code",
   "execution_count": 196,
   "id": "4d2d7494",
   "metadata": {},
   "outputs": [
    {
     "data": {
      "image/png": "[encoded data removed]",
      "text/plain": [
       "<Figure size 432x288 with 1 Axes>"
      ]
     },
     "metadata": {
      "needs_background": "light"
     },
     "output_type": "display_data"
    }
   ],
   "source": [
    "n=60\n",
    "deg_free=n-1\n",
    "\n",
    "test_stat=np.linspace(-4,4,1000)\n",
    "\n",
    "sns.lineplot(x=test_stat,y=stats.t.pdf(x=test_stat,loc=0,scale=1, df=deg_free))\n",
    "plt.xlabel('t-stat')\n",
    "plt.ylabel('Probaibilty')\n",
    "plt.grid(axis='both',which='both',c='w')\n",
    "plt.title(\"t PDF: n={}, df={}\".format(n,deg_free))\n",
    "plt.show()"
   ]
  },
  {
   "cell_type": "code",
   "execution_count": 205,
   "id": "e2f8ace8",
   "metadata": {},
   "outputs": [
    {
     "data": {
      "image/png": "[encoded data removed]",
      "text/plain": [
       "<Figure size 432x288 with 1 Axes>"
      ]
     },
     "metadata": {
      "needs_background": "light"
     },
     "output_type": "display_data"
    }
   ],
   "source": [
    "mu=50\n",
    "sample_sigma=10\n",
    "n=60\n",
    "deg_free=n-1\n",
    "\n",
    "sample_mu=np.linspace((mu-4*sample_sigma/(n**0.5)),(mu+4*sample_sigma/(n**0.5)),1000)\n",
    "\n",
    "sns.lineplot(x=sample_mu,y=stats.t.cdf(x=sample_mu,loc=mu,scale=sample_sigma/(n**0.5), df=deg_free))\n",
    "plt.xlabel('sample_mu')\n",
    "plt.ylabel('CDF')\n",
    "plt.grid(axis='both',which='both',c='w')\n",
    "plt.title(\"t CDF: mean={}, sample S.D.={}, sample var={}, n={}, df{}\".format(mu,sample_sigma,sample_sigma**2,n,deg_free))\n",
    "plt.show()"
   ]
  },
  {
   "cell_type": "code",
   "execution_count": 206,
   "id": "7682b3c1",
   "metadata": {},
   "outputs": [
    {
     "data": {
      "image/png": "[encoded data removed]",
      "text/plain": [
       "<Figure size 432x288 with 1 Axes>"
      ]
     },
     "metadata": {
      "needs_background": "light"
     },
     "output_type": "display_data"
    }
   ],
   "source": [
    "n=60\n",
    "deg_free=n-1\n",
    "\n",
    "test_stat=np.linspace(-4,4,1000)\n",
    "\n",
    "sns.lineplot(x=test_stat,y=stats.t.cdf(x=test_stat,loc=0,scale=1, df=deg_free))\n",
    "plt.xlabel('t-stat')\n",
    "plt.ylabel('CDF')\n",
    "plt.grid(axis='both',which='both',c='w')\n",
    "plt.title(\"t CDF: n={}, df={}\".format(n,deg_free))\n",
    "plt.show()"
   ]
  },
  {
   "cell_type": "code",
   "execution_count": 204,
   "id": "d78b764e",
   "metadata": {},
   "outputs": [
    {
     "data": {
      "image/png": "[encoded data removed]",
      "text/plain": [
       "<Figure size 432x288 with 1 Axes>"
      ]
     },
     "metadata": {
      "needs_background": "light"
     },
     "output_type": "display_data"
    }
   ],
   "source": [
    "mu=50\n",
    "sample_sigma=10\n",
    "n=60\n",
    "deg_free=n-1\n",
    "\n",
    "sample_mu_cdf=np.linspace(0,1,10001)\n",
    "\n",
    "\n",
    "sns.lineplot(x=sample_mu_cdfy=stats.t.ppf(q=sample_mu_cdf,loc=mu,scale=sample_sigma/(n**0.5),df=deg_free))\n",
    "plt.xlabel('CDF')\n",
    "plt.ylabel('sample_mu')\n",
    "plt.grid(axis='both',which='both',c='w')\n",
    "plt.title(\"t CDF: mean={}, sample S.D.={}, sample var={}, n={}, df{}\".format(mu,sample_sigma,sample_sigma**2,n,deg_free))\n",
    "plt.show()"
   ]
  },
  {
   "cell_type": "code",
   "execution_count": 211,
   "id": "28fba221",
   "metadata": {},
   "outputs": [
    {
     "data": {
      "image/png": "[encoded data removed]",
      "text/plain": [
       "<Figure size 432x288 with 1 Axes>"
      ]
     },
     "metadata": {
      "needs_background": "light"
     },
     "output_type": "display_data"
    }
   ],
   "source": [
    "n=100\n",
    "deg_free=n-1\n",
    "\n",
    "test_stat_cdf=np.linspace(0,1,10001)\n",
    "\n",
    "\n",
    "sns.lineplot(x=test_stat_cdf,y=stats.t.ppf(q=test_stat_cdf,loc=0,scale=1,df=deg_free))\n",
    "plt.xlabel('CDF')\n",
    "plt.ylabel('t-stat')\n",
    "plt.grid(axis='both',which='both',c='w')\n",
    "plt.title(\"t CDF: n={}, df{}\".format(n,deg_free))\n",
    "plt.show()"
   ]
  },
  {
   "cell_type": "markdown",
   "id": "5453a22b",
   "metadata": {},
   "source": [
    "## Sampling Distribution\n",
    "\n",
    "The sampling distribution of a statistic is the probability distribution of that\n",
    "statistic when we draw many samples\n",
    "\n",
    "Central Limit Theorem states if the first three hold, then the last four will hold as `n` the sample size tends to infinity:\n",
    "1) $E[x]=\\mu$\n",
    "\n",
    "2) $S.D.[x]=\\sigma$\n",
    "\n",
    "3) $Var[x]=\\sigma^2$\n",
    "\n",
    "4) $E[\\bar{x}]=\\mu$\n",
    "\n",
    "5) $S.D.[\\bar{x}]=\\frac{\\sigma}{\\sqrt{n}}$\n",
    "\n",
    "6) $Var[\\bar{x}]=\\frac{\\sigma^{2}}{n}$\n",
    "\n",
    "7)$\\bar{x}\\sim \\mathcal{N}(\\mu,\\,\\frac{\\sigma^{2}}{n})$\n",
    "\n",
    "Other key assumptions include:\n",
    "* Data must be randomly sampled \n",
    "* Sample values must be independent of each other\n",
    "* Samples should come from the same distribution \n",
    "* Sample size must be sufficiently large (≥30)"
   ]
  },
  {
   "cell_type": "markdown",
   "id": "b5c676c4",
   "metadata": {},
   "source": [
    "## Estimation\n",
    "The problem of estimation is considered, when there is no previous knowledge of the population parameter. Estimation makes an inference about a population parameter based on the sample statistic. It involves:\n",
    "* Taking a random sample;\n",
    "* Computing the appropriate sample statistic;\n",
    "* Based on characteristics of the sample and the test statisitc, suggest point and interval estimates.\n",
    "\n",
    "Estimation comes in two flavours:\n",
    "* <b>Point Estimation</b>: Single point estimation of the population parameter. E.g. Population mean as estimated from the sample mean is \\$40\n",
    "* <b>Interval Estimation</b>: A range of values within which the population parameter lies with some $(1-\\alpha)$ confidence. E.g. Population mean should lie between \\$38-42, with 95\\% confidence\n",
    "\n",
    "https://bcheggeseth.github.io/Stat155Notes/sampling-distribution-and-clt.html"
   ]
  },
  {
   "cell_type": "markdown",
   "id": "6ecddd12",
   "metadata": {},
   "source": [
    "## Point Estimate\n",
    "\n",
    "Usually, the point estimate of an unknown population parameter is the corresponding sample statistic. For example:\n",
    "\n",
    "    The sample mean X̅ is a point estimate of the population mean μ;\n",
    "    The sample standard deviation is a point estimate of the population standard deviation σ;\n",
    "    The sample proportion of success p is a point estimate of the population  proportion of success π.\n",
    "\n",
    "## Interval Estimation\n",
    "Point estimates vary from sample to sample. Often an interval is used to provide a range of values the parameter can take, instead of a single point estimate.\n",
    "\n",
    "**It is rarely the case when you know the population standard deviation and not the mean. However, it may not be as unlikely an assumption as it seems. For a tight manufacturing process that is in place for a long time, the variability in the process may be controlled, but with small changes in temperature or humidity, the mean may change.**"
   ]
  },
  {
   "cell_type": "markdown",
   "id": "e2effc20",
   "metadata": {},
   "source": [
    "# Hypothesis Testing\n",
    "A hypothesis is a conjecture about the population parameter(s).\n",
    "\n",
    "Hypothesis testing is used to:\n",
    "* Testing research hypotheses;\n",
    "* Testing the validity of a claim;\n",
    "* Testing the effect of decisions.\n",
    "\n",
    "## Hypothesis Testing Process\n",
    "* Identify the key question: What is the research question that you are trying to answer\n",
    "\n",
    "* Formulate the null and alternate hypothesis:\n",
    "    * <b>Null hypothesis ($H_0$)</b>: This is the status quo aka current condition. Always contains equality. It is assumed to be true unless reasonably strong evidence to the contrary is found; and \n",
    "    * <b>Alternate hypothesis ($H_a$)</b>: The research hypothesis, what we suspect or what we want to test for. Doesn’t contain equality\n",
    "\n",
    "\n",
    "* <b>Set the Level of Significance ($\\alpha$)</b>: $\\alpha$ is the probability of rejecting the null hypothesis when it is true and  it is fixed before the hypothesis test. This creates two regions:\n",
    "    * <b>Acceptance region</b>: This is bounded by our (1-$\\alpha$) confidence interval, meaning (1-$\\alpha$) of the time, our population parameter can fall in this region and at a significance level of $\\alpha$, they are deemed to be either compliant with the null hypothesis or not too contrarian to the null hypothesis ($H_0$), basically a resonable interval for the population parameter to fall in and as a result we fail to reject the null hypothesis ($H_0$)\n",
    "    * <b>Rejection/Critical region</b>: $\\alpha$ of the time, our population parameter can fall in this region but they are deemed too extreme in contradiction of our null hypothesis ($H_0$) at a significance level of $\\alpha$ and thus we reject the null hypothesis ($H_0$) in favour of the alternate hypothesis ($H_a$)\n",
    "\n",
    "* Collect, understand  and prepare data: What data do you have? Do you understand what it means? Can it be used directly?\n",
    "\n",
    "* Identify the right test: Ensure that data satisfies the assumption for the test. For example the z-test for population mean, requires \n",
    "    * Continuous data\n",
    "    * Normally distributed population or sample size > 30\n",
    "    * Known population standard deviation 𝜎\n",
    "    * Random sampling from the population;\n",
    "\n",
    "* Compute test Statistic;\n",
    "\n",
    "* Determine if there is enough evidence to either: Reject the null hypothesis ($H_0$), in favour of the alternate hypothesis ($H_a$); or fail to reject the null hypothesis ($H_0$). This can be ahieved in two ways, using either:\n",
    "    * <b>Compare the P-Value to the level of significance ($\\alpha$)</b>: P-value is computed as the (1-CDF) of the test statistic. It is the Probability of observing equal or more extreme results than the computed test statistic under the null hypothesis. The smaller the p-value, the stronger the evidence against the null hypothesis. When:\n",
    "        * P-value$<\\alpha$: Reject the null:\n",
    "            * With a $(1-\\alpha)$ confidence interval; or similarly stated\n",
    "            * At a $\\alpha$ significance level\n",
    "        * P-value$\\ge\\alpha$: Fail to reject the null:\n",
    "            * With a $(1-\\alpha)$ confidence interval; or similarly stated\n",
    "            * At a $\\alpha$ significance level\n",
    "    * <b>Compare the test staistic to the critical value(s):  ($\\alpha$)</b>: Critical values are possible values of our population parameter that mark the borders of our acceptance regions. Technically, one-sided tests have one critical value and two-sided test have two critical values. When:\n",
    "        * $t \\in (c_{lower},c_{upper})$: Fail to reject the null in favour of the alternate with:\n",
    "            * A $(1-\\alpha)$ confidence interval; or similarly stated\n",
    "            * At a $\\alpha$ significance level\n",
    "        * $t \\not\\in (c_{lower},c_{upper})$: Reject the null in favour of the alternate with:\n",
    "            * A $(1-\\alpha)$ confidence interval; or similarly stated\n",
    "            * At a $\\alpha$ significance level\n",
    "* Draw conclusion.\n",
    "    \n",
    "    \n",
    "A critical value is a point on the distribution of the test statistic under the null hypothesis that defines a set of values that call for rejecting the null hypothesis. This set is called critical or rejection region. Usually, \n",
    "hypothesis.\n",
    "\n",
    "Since hypothesis testing is done on the basis of sampling distribution, the decisions made are probabilistic not deterministic.\n",
    "\n",
    "## Hypothesis Testing Errors\n",
    "There are two types of errors:\n",
    "* Type 1 error - When we reject the null hypothesis when it is actually true.\n",
    "* Type 2 error - When we fail to reject the null hypothesis when it is actually false\n",
    "\n",
    "                            Null is True                   Null is False\n",
    "    Reject Reject Null      Type I Error (𝛼)               Correct Decision(1-𝛽)  \n",
    "    Fail to reject Null     Correct Decision(1-𝛼)          Type II Error (𝛽)\n",
    "\n",
    "Our test has:\n",
    "* Level of significance= $\\alpha$\n",
    "* Confidence Level =$(1-\\alpha)$\n",
    "* Power of the test = $(1 - \\beta)$\n"
   ]
  }
 ],
 "metadata": {
  "kernelspec": {
   "display_name": "Python 3 (ipykernel)",
   "language": "python",
   "name": "python3"
  },
  "language_info": {
   "codemirror_mode": {
    "name": "ipython",
    "version": 3
   },
   "file_extension": ".py",
   "mimetype": "text/x-python",
   "name": "python",
   "nbconvert_exporter": "python",
   "pygments_lexer": "ipython3",
   "version": "3.10.4"
  }
 },
 "nbformat": 4,
 "nbformat_minor": 5
}
