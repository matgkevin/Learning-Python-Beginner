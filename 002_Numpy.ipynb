{
 "cells": [
  {
   "cell_type": "markdown",
   "id": "a7ca53fa",
   "metadata": {},
   "source": [
    "# Learning Python From Scratch!\n",
    "With Chweya Matagaro\n",
    "\n",
    "Part 2"
   ]
  },
  {
   "cell_type": "markdown",
   "id": "b99f7ef2",
   "metadata": {},
   "source": [
    "# NumPy and Pandas\n",
    "<p>\n",
    "    Numpy and Pandas are Python libraries that have to be imported:<ul>\n",
    "        <li><code>import numpy  as np</code>: <code>'np'</code> is a convention and saves us from writing 'numpy' every single time we use a function in the library</li>\n",
    "        <li><code>import pandas  as pd</code>: <code>'pd'</code> is a convention and saves us from writing 'pandas' every single time we use a function in the library</li>\n",
    "        </ul>Numpy is a powerful linear algebra library for Python. Almost all of the libraries in the PyData ecosystem (pandas, scipy, scikit-learn, etc.) rely on NumPy as one of their main building blocks.<ul>\n",
    "    </ul>You can think of pandas as an extremely powerful version of Excel, with a lot more features.</p>\n",
    "    \n",
    "https://numpy.org/doc/1.18/numpy-user.pdf    "
   ]
  },
  {
   "cell_type": "code",
   "execution_count": 1,
   "id": "0b684914",
   "metadata": {},
   "outputs": [],
   "source": [
    "import numpy as np\n",
    "import pandas as pd\n",
    "from scipy import stats\n",
    "import math"
   ]
  },
  {
   "cell_type": "markdown",
   "id": "840b35f7",
   "metadata": {},
   "source": [
    "## Numpy Arrays\n",
    "<p>\n",
    "    Arrays are basically either vectors or matrices. Vectors are strictly 1-dimensional (1D) arrays and matrices are 2D. But you should note a matrix can still have only one row or one column<ul>\n",
    "    </ul>We can convert (type cast) a list into a numpy array by using the code:<code>np.array()</code><ul>\n",
    "    </ul>A matrix when depicted as an numpy array; each row of the matrix is enclosed in square brackets and all square brackets(i.e. rows) are enclosed in a parethesis <code>()</code><ul>\n",
    "    </ul>We use the following codes to view the attributes of an array:<ul>\n",
    "    <li><code>.size()</code>: It counts number of elements in an array.</li>\n",
    "    <li><code>.ndim()</code>: Generates the dimensions of the matrix</li>\n",
    "    <li><code>.shape()</code>:Generates size of array in each dimension</li>\n",
    "    <li><code>.dtype()</code>:Generates data type of elements</li>\n",
    "    </ul>\n",
    "    </p>"
   ]
  },
  {
   "cell_type": "code",
   "execution_count": 2,
   "id": "c47245ea",
   "metadata": {},
   "outputs": [
    {
     "name": "stdout",
     "output_type": "stream",
     "text": [
      "Object type: <class 'list'> Object: [1, 2, 3]\n",
      "\n",
      "\n",
      "Object type: <class 'numpy.ndarray'> Object: [1 2 3]\n",
      "Size: 3 \n",
      "Dimension: 1 \n",
      "Shape: (3,) \n",
      "Data Type: int32\n"
     ]
    }
   ],
   "source": [
    "my_list=[1,2,3]\n",
    "x=np.array(my_list)\n",
    "\n",
    "print('Object type:',type(my_list), 'Object:', my_list)\n",
    "print('\\n')\n",
    "\n",
    "print('Object type:',type(x), 'Object:', x)\n",
    "print('Size:', x.size,'\\nDimension:', x.ndim,'\\nShape:',x.shape,'\\nData Type:', x.dtype)"
   ]
  },
  {
   "cell_type": "code",
   "execution_count": 3,
   "id": "b235a82b",
   "metadata": {},
   "outputs": [
    {
     "name": "stdout",
     "output_type": "stream",
     "text": [
      "Object type:  <class 'numpy.ndarray'> \n",
      "Object:\n",
      " [[1 2 3]\n",
      " [4 5 6]\n",
      " [7 8 9]]\n",
      "Size: 9 \n",
      "Dimension: 2 \n",
      "Shape: (3, 3) \n",
      "Data Type: int32\n"
     ]
    }
   ],
   "source": [
    "my_matrix=[[1,2,3],[4,5,6],[7,8,9]]\n",
    "y=np.array(my_matrix)\n",
    "print('Object type: ', type(y) ,'\\nObject:\\n', y)\n",
    "print('Size:', y.size,'\\nDimension:', y.ndim,'\\nShape:',y.shape,'\\nData Type:', y.dtype)"
   ]
  },
  {
   "cell_type": "markdown",
   "id": "45e8df15",
   "metadata": {},
   "source": [
    "## Reshape an Array: <code>.reshape(i,j)</code>\n",
    "We can reshape an array with <code>n\\*m</code> dimensions to have different dimensions of <code>i\\*j</code> IFF <code>ij=nm</code>If you want to store such a transformation, you need to assign the resahpe to a variable."
   ]
  },
  {
   "cell_type": "code",
   "execution_count": 4,
   "id": "9ca6b8d3",
   "metadata": {},
   "outputs": [
    {
     "name": "stdout",
     "output_type": "stream",
     "text": [
      "<class 'numpy.ndarray'> \n",
      " [[ 1  2  3]\n",
      " [ 4  5  6]\n",
      " [ 7  8  9]\n",
      " [10 11 12]] \n",
      "\n",
      ".reshape(3,4):\n",
      " [[ 1  2  3  4]\n",
      " [ 5  6  7  8]\n",
      " [ 9 10 11 12]] \n",
      "\n",
      "\n",
      ".reshape(2,6):\n",
      " [[ 1  2  3  4  5  6]\n",
      " [ 7  8  9 10 11 12]] \n",
      "\n",
      "\n",
      ".reshape(6,2):\n",
      " [[ 1  2]\n",
      " [ 3  4]\n",
      " [ 5  6]\n",
      " [ 7  8]\n",
      " [ 9 10]\n",
      " [11 12]] \n",
      "\n",
      "\n",
      ".reshape(6,2).transpose():\n",
      " [[ 1  3  5  7  9 11]\n",
      " [ 2  4  6  8 10 12]] \n",
      "\n",
      "\n",
      ".reshape(1,12):\n",
      " [[ 1  2  3  4  5  6  7  8  9 10 11 12]] \n",
      "\n",
      "\n",
      ".reshape(12,1):\n",
      " [[ 1]\n",
      " [ 2]\n",
      " [ 3]\n",
      " [ 4]\n",
      " [ 5]\n",
      " [ 6]\n",
      " [ 7]\n",
      " [ 8]\n",
      " [ 9]\n",
      " [10]\n",
      " [11]\n",
      " [12]] \n",
      "\n",
      "\n",
      ".reshape(12,):\n",
      " [ 1  2  3  4  5  6  7  8  9 10 11 12] \n",
      "\n",
      "\n",
      ".reshape(12,)).transpose():\n",
      " [ 1  2  3  4  5  6  7  8  9 10 11 12] \n",
      "\n",
      "\n",
      "<class 'numpy.ndarray'> \n",
      " [[ 1  2  3]\n",
      " [ 4  5  6]\n",
      " [ 7  8  9]\n",
      " [10 11 12]] \n",
      "\n"
     ]
    }
   ],
   "source": [
    "y=[[1,2,3],[4,5,6],[7,8,9],[10,11,12]]\n",
    "my_matrix=np.array(y)\n",
    "print(type(my_matrix),'\\n',my_matrix,'\\n')\n",
    "\n",
    "\n",
    "print('.reshape(3,4):\\n',my_matrix.reshape(3,4), '\\n\\n')\n",
    "\n",
    "\n",
    "print('.reshape(2,6):\\n',my_matrix.reshape(2,6), '\\n\\n')\n",
    "\n",
    "\n",
    "print('.reshape(6,2):\\n',my_matrix.reshape(6,2), '\\n\\n')\n",
    "\n",
    "print('.reshape(6,2).transpose():\\n',my_matrix.reshape(6,2).transpose(), '\\n\\n')\n",
    "\n",
    "\n",
    "print('.reshape(1,12):\\n',my_matrix.reshape(1,12), '\\n\\n')\n",
    "\n",
    "\n",
    "print('.reshape(12,1):\\n',my_matrix.reshape(12,1), '\\n\\n')\n",
    "\n",
    "\n",
    "print('.reshape(12,):\\n',my_matrix.reshape(12,), '\\n\\n')\n",
    "\n",
    "\n",
    "print('.reshape(12,)).transpose():\\n',(my_matrix.reshape(12,)).transpose(), '\\n\\n')\n",
    "\n",
    "print(type(my_matrix),'\\n',my_matrix,'\\n')"
   ]
  },
  {
   "cell_type": "markdown",
   "id": "b562e8c0",
   "metadata": {},
   "source": [
    "### Generate an Array Range <code>np.arange(start,end)</code> & <code>np.arange(start,end,steps)</code>\n",
    "\n",
    "<code>np.arange(i,j)</code>: Generates values from i (i.e. inclusive of i), incrementing by a value of 1 upto but exclusive of j.\n",
    "\n",
    "<code>np.arange(i,j,k)</code>: Generates values from i (i.e. inclusive of i), incrementing by a value of k upto but exclusive of j."
   ]
  },
  {
   "cell_type": "code",
   "execution_count": 5,
   "id": "106148a0",
   "metadata": {},
   "outputs": [
    {
     "name": "stdout",
     "output_type": "stream",
     "text": [
      "[5 6 7 8 9]\n",
      "[ 5.  6.  7.  8.  9. 10.]\n"
     ]
    }
   ],
   "source": [
    "print(np.arange(5,10))\n",
    "print(np.arange(5,10.5))"
   ]
  },
  {
   "cell_type": "code",
   "execution_count": 6,
   "id": "6c6427e4",
   "metadata": {},
   "outputs": [
    {
     "name": "stdout",
     "output_type": "stream",
     "text": [
      "[ 5  7  9 11 13 15 17 19]\n",
      "[ 5.  8. 11. 14. 17. 20.]\n",
      "[ 5.5  8.5 11.5 14.5 17.5]\n"
     ]
    }
   ],
   "source": [
    "print(np.arange(5,21,2))\n",
    "print(np.arange(5,20.5,3))\n",
    "print(np.arange(5.5,20.5,3))"
   ]
  },
  {
   "cell_type": "markdown",
   "id": "e6232cf0",
   "metadata": {},
   "source": [
    "### Generate Evenly Spaced Numbers Over an Interval: <code>np.linspace(start, end, k)</code>\n",
    "<code>np.linspace(n, m, k)</code>: Generates a vector of k equally spaced elements, starting from n upto and including m"
   ]
  },
  {
   "cell_type": "code",
   "execution_count": 7,
   "id": "3b8f2dd6",
   "metadata": {},
   "outputs": [
    {
     "data": {
      "text/plain": [
       "array([ 2.,  8., 14., 20., 26., 32., 38., 44., 50.])"
      ]
     },
     "execution_count": 7,
     "metadata": {},
     "output_type": "execute_result"
    }
   ],
   "source": [
    "np.linspace(2, 50, 9)"
   ]
  },
  {
   "cell_type": "markdown",
   "id": "96226f69",
   "metadata": {},
   "source": [
    "### Generate an Array of Zeros, Ones: <code>np.zeros(i)</code>, <code>np.zeros((i,j))</code>, <code>np.ones(i)</code>, <code>np.ones((i,j))</code>\n",
    "\n",
    "<code>np.zeros(j)</code>: Generates a 1*j matrix of zeroes, i.e a vector.\n",
    "\n",
    "<code>np.zeros((i,j))</code>: Generates a i*j matrix of zeroes.\n",
    "\n",
    "<code>np.ones(j)</code>: Generates a 1*j matrix of ones, i.e. a vector.\n",
    "\n",
    "<code>np.ones((i,j))</code>: Generates a i*j matrix of ones"
   ]
  },
  {
   "cell_type": "code",
   "execution_count": 8,
   "id": "cd39bc93",
   "metadata": {
    "scrolled": true
   },
   "outputs": [
    {
     "name": "stdout",
     "output_type": "stream",
     "text": [
      "[0. 0. 0. 0. 0.] \n",
      "\n",
      "[[0. 0. 0. 0. 0.]] \n",
      "\n",
      "[[0.]\n",
      " [0.]\n",
      " [0.]\n",
      " [0.]\n",
      " [0.]] \n",
      "\n",
      "[[0. 0.]\n",
      " [0. 0.]\n",
      " [0. 0.]\n",
      " [0. 0.]\n",
      " [0. 0.]] \n",
      "\n"
     ]
    }
   ],
   "source": [
    "print(np.zeros(5),'\\n')\n",
    "print(np.zeros((1,5)),'\\n')\n",
    "print(np.zeros((5,1)),'\\n')\n",
    "print(np.zeros((5,2)),'\\n')"
   ]
  },
  {
   "cell_type": "code",
   "execution_count": 9,
   "id": "3fceb87e",
   "metadata": {},
   "outputs": [
    {
     "name": "stdout",
     "output_type": "stream",
     "text": [
      "[1. 1. 1. 1. 1.] \n",
      "\n",
      "[[1. 1. 1. 1. 1.]] \n",
      "\n",
      "[[1.]\n",
      " [1.]\n",
      " [1.]\n",
      " [1.]\n",
      " [1.]] \n",
      "\n",
      "[[1. 1.]\n",
      " [1. 1.]\n",
      " [1. 1.]\n",
      " [1. 1.]\n",
      " [1. 1.]] \n",
      "\n"
     ]
    }
   ],
   "source": [
    "print(np.ones(5),'\\n')\n",
    "print(np.ones((1,5)),'\\n')\n",
    "print(np.ones((5,1)),'\\n')\n",
    "print(np.ones((5,2)),'\\n')"
   ]
  },
  {
   "cell_type": "markdown",
   "id": "2183d5a2",
   "metadata": {},
   "source": [
    "### Generate Identity Matrix: <code>np.eye(n)</code>\n",
    "<p><code>np.eye(n)</code>: Generates an identity Matrix of dimensions n*n, i.e. a square matrix</p>"
   ]
  },
  {
   "cell_type": "code",
   "execution_count": 10,
   "id": "0b713381",
   "metadata": {},
   "outputs": [
    {
     "name": "stdout",
     "output_type": "stream",
     "text": [
      "[[1.]] \n",
      "\n",
      "[[1. 0.]\n",
      " [0. 1.]] \n",
      "\n",
      "[[1. 0. 0.]\n",
      " [0. 1. 0.]\n",
      " [0. 0. 1.]] \n",
      "\n",
      "[[1. 0. 0. 0.]\n",
      " [0. 1. 0. 0.]\n",
      " [0. 0. 1. 0.]\n",
      " [0. 0. 0. 1.]] \n",
      "\n"
     ]
    }
   ],
   "source": [
    "print(np.eye(1),'\\n')\n",
    "print(np.eye(2),'\\n')\n",
    "print(np.eye(3),'\\n')\n",
    "print(np.eye(4),'\\n')"
   ]
  },
  {
   "cell_type": "markdown",
   "id": "43aafb95",
   "metadata": {},
   "source": [
    "## Arrays of Random Numbers <code>np.random.______()</code>\n",
    "\n",
    "<code>np.random</code> is a library within the numpy library. We can call functions which generate arrays or random numbers with varying properties, i.e. generated by various dsistributions.<ul>\n",
    "    </ul>To view the catalog of distributions type the following code: <code>np.random.</code> then press tab.<ul>\n",
    "    </ul>Once you pick a distribution, for example <code>np.random.rand</code>, you can press shift & tab to read its documentation.\n",
    "    </p>"
   ]
  },
  {
   "cell_type": "code",
   "execution_count": 11,
   "id": "a4eba5d3",
   "metadata": {},
   "outputs": [],
   "source": [
    "#np.random."
   ]
  },
  {
   "cell_type": "markdown",
   "id": "9ead6409",
   "metadata": {},
   "source": [
    "### Uniformly Distributed Random Numbers <code>np.random.rand()</code> & <code>np.random.randint()</code>\n",
    "The following codes assume numbers are uniformly distributed across a specified interval. If the interval is unspecified, then the interval is a default <code>[0,1)</code><ul>\n",
    "    \n",
    "<li> <code>np.random.rand(n)</code>: Randomly generates n numbers in the interval <code>[0,1)</code><ul>\n",
    "    </ul> The output is packed in a 1-D array</li>\n",
    "<li> <code>np.random.rand(i,j)</code>: Randomly generates i*j numbers in the interval <code>[0,1)</code><ul>\n",
    "    </ul> The output is packed in a 2-D array, with dimensions i by j</li>\n",
    "<li> <code>np.random.randint(n,m)</code>: Randomly generates an interger in the interval <code>[n,m)</code> i.e. uniformly distributed across the interval</li>\n",
    "    <li> <code>np.random.randint(n,m,k)</code>: Randomly generates k intergers in the interval <code>[n,m)</code> i.e. uniformly distributed across the interval<ul>\n",
    "    </ul> The output is packed in a 1-D array</li>\n",
    "    <li> <code>np.random.randint(n,m,(i,j))</code>: Randomly generates i*j intergers in the interval <code>[n,m)</code> i.e. uniformly distributed across the interval<ul>\n",
    "    </ul> The output is packed in a 2-D array, with dimensions i by j</li>\n",
    "    </ul> You can go further and use the <code>.reshape()</code> to generate an <code>i*j</code> matrix rather than a vector."
   ]
  },
  {
   "cell_type": "code",
   "execution_count": 12,
   "id": "228d59ae",
   "metadata": {},
   "outputs": [
    {
     "data": {
      "text/plain": [
       "array([0.08930054, 0.32643953, 0.26788516, 0.56712093, 0.023948  ,\n",
       "       0.51594039, 0.37975222, 0.88133667, 0.63019248, 0.57028647])"
      ]
     },
     "execution_count": 12,
     "metadata": {},
     "output_type": "execute_result"
    }
   ],
   "source": [
    "np.random.rand(10)"
   ]
  },
  {
   "cell_type": "code",
   "execution_count": 13,
   "id": "11832428",
   "metadata": {},
   "outputs": [
    {
     "data": {
      "text/plain": [
       "array([[0.93543541, 0.44837119, 0.99959363],\n",
       "       [0.97866657, 0.98355937, 0.16981451],\n",
       "       [0.17532378, 0.79965069, 0.5512847 ],\n",
       "       [0.16866908, 0.42760023, 0.79183779],\n",
       "       [0.86824126, 0.89218057, 0.84559817]])"
      ]
     },
     "execution_count": 13,
     "metadata": {},
     "output_type": "execute_result"
    }
   ],
   "source": [
    "np.random.rand(5,3)"
   ]
  },
  {
   "cell_type": "code",
   "execution_count": 14,
   "id": "a09fcb14",
   "metadata": {},
   "outputs": [
    {
     "data": {
      "text/plain": [
       "22"
      ]
     },
     "execution_count": 14,
     "metadata": {},
     "output_type": "execute_result"
    }
   ],
   "source": [
    "np.random.randint(0,50)"
   ]
  },
  {
   "cell_type": "code",
   "execution_count": 15,
   "id": "58eaf961",
   "metadata": {},
   "outputs": [
    {
     "data": {
      "text/plain": [
       "array([36, 38,  0, 16, 30, 13, 40, 32, 17, 26])"
      ]
     },
     "execution_count": 15,
     "metadata": {},
     "output_type": "execute_result"
    }
   ],
   "source": [
    "np.random.randint(0,50,10)"
   ]
  },
  {
   "cell_type": "code",
   "execution_count": 16,
   "id": "d9a9f703",
   "metadata": {},
   "outputs": [
    {
     "data": {
      "text/plain": [
       "array([[ 0, 49, 39, 12, 22],\n",
       "       [ 2, 47, 17,  1,  0]])"
      ]
     },
     "execution_count": 16,
     "metadata": {},
     "output_type": "execute_result"
    }
   ],
   "source": [
    "np.random.randint(0,50,10).reshape(2,5)"
   ]
  },
  {
   "cell_type": "code",
   "execution_count": 17,
   "id": "14afc889",
   "metadata": {
    "scrolled": false
   },
   "outputs": [
    {
     "data": {
      "text/plain": [
       "array([[76, 35, 44, 81, 45, 92, 29, 20, 34, 55],\n",
       "       [33, 75, 56, 92, 77, 75,  1, 74, 46, 23],\n",
       "       [96, 52,  5, 41, 51, 20, 45, 80,  7, 11],\n",
       "       [98, 89, 22,  7, 23, 51, 35, 11, 98, 37],\n",
       "       [59, 12, 19, 56, 51, 61, 17, 47, 96, 39],\n",
       "       [77, 88, 16, 15, 42, 77, 99, 40, 26, 36],\n",
       "       [ 6, 42, 17, 65, 82, 73, 99, 89, 26, 26],\n",
       "       [62, 24, 93, 29,  9, 73, 42, 80, 60, 26],\n",
       "       [28, 74, 24, 29, 92, 42, 44, 64, 62, 40],\n",
       "       [39, 20, 41, 62,  7, 45, 47, 65, 26, 52]])"
      ]
     },
     "execution_count": 17,
     "metadata": {},
     "output_type": "execute_result"
    }
   ],
   "source": [
    "np.random.randint(0,100,(10,10))"
   ]
  },
  {
   "cell_type": "code",
   "execution_count": 18,
   "id": "4f232ccb",
   "metadata": {},
   "outputs": [
    {
     "data": {
      "text/plain": [
       "array([[4, 2, 1, 3, 2, 0, 4, 3, 3, 1],\n",
       "       [3, 3, 1, 3, 0, 1, 1, 3, 3, 2],\n",
       "       [2, 3, 4, 1, 3, 0, 2, 2, 4, 4],\n",
       "       [3, 3, 3, 2, 0, 0, 3, 2, 3, 3],\n",
       "       [3, 0, 2, 2, 2, 1, 1, 4, 2, 4],\n",
       "       [4, 4, 0, 2, 0, 1, 1, 4, 2, 2],\n",
       "       [1, 2, 1, 1, 1, 4, 3, 2, 3, 1],\n",
       "       [0, 3, 1, 4, 3, 2, 0, 1, 4, 1],\n",
       "       [0, 4, 2, 3, 1, 0, 0, 1, 1, 2],\n",
       "       [1, 1, 4, 4, 3, 2, 2, 2, 3, 1]])"
      ]
     },
     "execution_count": 18,
     "metadata": {},
     "output_type": "execute_result"
    }
   ],
   "source": [
    "np.random.randint(0,5,(10,10))"
   ]
  },
  {
   "cell_type": "markdown",
   "id": "01d17e7e",
   "metadata": {},
   "source": [
    "### Normal Distributed Random Numbers <code>np.random.rand<bold>n</bold>()</code> & <code>np.random.standard_normal()</code>\n",
    "The following codes assume numbers are standard normaly distributed, i.e. μ=0 & σ^2=1 </code><ul>\n",
    "    <li><code>np.random.rand<bold>n</bold>(j)</code>:Outputs j random numbers<ul>\n",
    "        </ul>Output is a 1-D array, i.e. a vector.</li>\n",
    "    <li><code>np.random.rand<bold>n</bold>(i,j)</code>:Outputs ,<code>i\\*j</code> random numbers<ul>\n",
    "        </ul>Output is a 2-D array with dimensions i by j, i.e. a vector.</li>\n",
    "    <li><code>np.random.standard_normal(j)</code>:Outputs j random numbers<ul>\n",
    "        </ul>Output is a 1-D array, i.e. a vector.</li>\n",
    "    <li><code>np.random.standard_normal((i,j))</code>:Outputs ,<code>i\\*j</code> random numbers<ul>\n",
    "        </ul>Output is a 2-D array with dimensions i by j, i.e. a matrix.</li>    \n",
    "    </ul>\n",
    "\n",
    "The following codes assume numbers are normaly distributed, i.e. μ & σ^2 </code><ul>\n",
    "    <li><code>np.random.normal(μ,σ)</code>:Outputs a single random number</li>\n",
    "    <li><code>np.random.normal(μ,σ,k)</code>:Outputs k random number<ul>\n",
    "        </ul>Output is a 1-D array, i.e. a vector.</li>\n",
    "    <li><code>np.random.normal(μ,σ,(i,j))</code>:Outputs <code>i\\*j</code> random numbers<ul>\n",
    "        </ul>Output is a 2-D array with dimensions i by j, i.e. a matrix.</li>"
   ]
  },
  {
   "cell_type": "code",
   "execution_count": 19,
   "id": "7337e530",
   "metadata": {},
   "outputs": [
    {
     "data": {
      "text/plain": [
       "array([ 1.16102895, -0.8519907 , -0.12419579, -0.59539592, -0.32676215])"
      ]
     },
     "execution_count": 19,
     "metadata": {},
     "output_type": "execute_result"
    }
   ],
   "source": [
    "#np.random.randn(j)\n",
    "np.random.randn(5)"
   ]
  },
  {
   "cell_type": "code",
   "execution_count": 20,
   "id": "2cc848ec",
   "metadata": {},
   "outputs": [
    {
     "data": {
      "text/plain": [
       "array([ 0.38059953, -0.00474495, -0.70021715, -1.27498278,  0.18979089,\n",
       "        0.71901493, -1.34453663,  0.340519  , -0.81033651,  0.17077709,\n",
       "        0.9431612 ,  1.62180125,  0.22087906,  0.29632391,  1.21261746,\n",
       "       -0.74663114,  0.65654042,  0.3979473 ,  0.42682488, -0.15915259])"
      ]
     },
     "execution_count": 20,
     "metadata": {},
     "output_type": "execute_result"
    }
   ],
   "source": [
    "#np.random.randn(j)\n",
    "np.random.randn(20)"
   ]
  },
  {
   "cell_type": "code",
   "execution_count": 21,
   "id": "41b172af",
   "metadata": {},
   "outputs": [
    {
     "data": {
      "text/plain": [
       "array([[ 0.37811878, -0.58173634],\n",
       "       [ 1.17706346,  1.36440847],\n",
       "       [ 0.18554337,  0.59967562]])"
      ]
     },
     "execution_count": 21,
     "metadata": {},
     "output_type": "execute_result"
    }
   ],
   "source": [
    "#np.random.randn(i,j)\n",
    "np.random.randn(3,2)"
   ]
  },
  {
   "cell_type": "code",
   "execution_count": 22,
   "id": "88bde565",
   "metadata": {},
   "outputs": [
    {
     "data": {
      "text/plain": [
       "array([-0.67364828,  1.05909428,  0.34597703,  0.43622845, -0.58697205,\n",
       "       -0.92542191, -0.44245128,  0.0041845 , -0.49806572, -0.37324762,\n",
       "       -0.41766247,  2.29629527,  1.23232804, -0.23708415, -1.10470968,\n",
       "       -0.49222373,  1.37003723, -0.67901288,  1.60702313, -1.12886082])"
      ]
     },
     "execution_count": 22,
     "metadata": {},
     "output_type": "execute_result"
    }
   ],
   "source": [
    "#np.random.standard_normal(j)\n",
    "np.random.standard_normal(20)"
   ]
  },
  {
   "cell_type": "code",
   "execution_count": 23,
   "id": "08d8ef30",
   "metadata": {},
   "outputs": [
    {
     "data": {
      "text/plain": [
       "array([[ 0.55541007, -0.31108137,  0.47629189, -1.41359296],\n",
       "       [ 1.7135972 , -0.37305592,  1.84388833, -0.89023041],\n",
       "       [ 0.61796145, -1.03771914,  1.54977807, -0.82290389]])"
      ]
     },
     "execution_count": 23,
     "metadata": {},
     "output_type": "execute_result"
    }
   ],
   "source": [
    "#np.random.standard_normal((i,j))\n",
    "np.random.standard_normal((3,4))"
   ]
  },
  {
   "cell_type": "code",
   "execution_count": 24,
   "id": "abcfe5e7",
   "metadata": {},
   "outputs": [
    {
     "data": {
      "text/plain": [
       "2.687768583614375"
      ]
     },
     "execution_count": 24,
     "metadata": {},
     "output_type": "execute_result"
    }
   ],
   "source": [
    "#np.random.normal(μ,σ)\n",
    "np.random.normal(5,2)"
   ]
  },
  {
   "cell_type": "code",
   "execution_count": 25,
   "id": "561dd8dd",
   "metadata": {},
   "outputs": [
    {
     "data": {
      "text/plain": [
       "array([4.17424603, 3.85270929, 7.66661928, 6.17523421, 5.89220792,\n",
       "       3.23549386, 5.80391708, 2.47117778, 3.78333434, 9.09021482,\n",
       "       2.06855607, 3.95522518, 2.65194049, 3.17311136, 5.78456269,\n",
       "       8.63145568, 4.02638401, 5.12087571, 6.66564345, 0.9231658 ,\n",
       "       4.48795392, 5.22331715, 2.78046773, 5.40525819, 3.2009528 ,\n",
       "       4.96847472, 6.01948739, 6.66009092, 1.53106812, 2.74223127,\n",
       "       4.62101931, 3.16067752, 3.15539269, 4.25999945, 5.79448059,\n",
       "       5.86764735, 5.8338208 , 5.12725516, 3.5132802 , 5.40240753,\n",
       "       6.71410078, 4.94883406, 2.47899847, 4.67940095, 4.14128537,\n",
       "       3.20726484, 7.45283456, 5.38164433, 3.35628417, 8.80067361])"
      ]
     },
     "execution_count": 25,
     "metadata": {},
     "output_type": "execute_result"
    }
   ],
   "source": [
    "#np.random.normal(μ,σ,k)\n",
    "np.random.normal(5,2,50)"
   ]
  },
  {
   "cell_type": "code",
   "execution_count": 26,
   "id": "8a3cecf4",
   "metadata": {},
   "outputs": [
    {
     "data": {
      "text/plain": [
       "array([[ 0.98547583,  1.14243122,  4.71423453,  0.95709334,  0.89842537],\n",
       "       [-0.2384971 ,  0.29145937, -2.40461761,  4.51766166,  3.8731403 ],\n",
       "       [ 0.21692373, -0.68088266,  4.40910047, -0.18004905,  2.0475152 ],\n",
       "       [ 3.31418224,  3.53183631,  5.63135169, -0.0109496 , -0.90088713],\n",
       "       [ 2.05816953, -0.98199192, -0.07101351, -0.86256593, -1.30459425]])"
      ]
     },
     "execution_count": 26,
     "metadata": {},
     "output_type": "execute_result"
    }
   ],
   "source": [
    "#np.random.normal(μ,σ,(i,j))\n",
    "np.random.normal(1,2,(5,5))"
   ]
  },
  {
   "cell_type": "markdown",
   "id": "3fe62f25",
   "metadata": {},
   "source": [
    "## Reproducing random numbers using <code>seed()</code>\n",
    "<p> The <code>seed()</code> allows to generate the same random numbers on Python. "
   ]
  },
  {
   "cell_type": "code",
   "execution_count": 27,
   "id": "041cab30",
   "metadata": {},
   "outputs": [
    {
     "data": {
      "text/plain": [
       "array([0.51639863, 0.57066759, 0.02847423, 0.17152166])"
      ]
     },
     "execution_count": 27,
     "metadata": {},
     "output_type": "execute_result"
    }
   ],
   "source": [
    "np.random.seed(101)\n",
    "np.random.rand(4)"
   ]
  },
  {
   "cell_type": "markdown",
   "id": "4de2aec5",
   "metadata": {},
   "source": [
    "## max,min,argmax,argmin\n",
    "\n",
    "We may use the following functions to determine various characteristics of an array \n",
    "* <code>.min()</code>: Minimum\n",
    "* <code>.argmin()</code>: Index of minimum\n",
    "* <code>.max()</code>: Maximum\n",
    "* <code>.argmax()</code>: Index of maximum\n",
    "* <code>.sum()</code>: Sums\n",
    "* <code>.mean()</code>: Mean/average\n",
    "* <code>.median()</code>: Median\n",
    "* <code>.mode()</code>: Mode\n",
    "* <code>.std()</code>: Standard deviation\n",
    "* <code>.var()</code>: Variance"
   ]
  },
  {
   "cell_type": "code",
   "execution_count": 28,
   "id": "49e03771",
   "metadata": {},
   "outputs": [
    {
     "name": "stdout",
     "output_type": "stream",
     "text": [
      "<class 'numpy.ndarray'>\n",
      "[[31 11 17  6 23]\n",
      " [11 47  9 13 40]\n",
      " [ 4 40 28  0 46]\n",
      " [ 5 12 29 40 49]\n",
      " [19 47  8 29 34]\n",
      " [44  8 19 10 12]\n",
      " [31 43 23  0 41]\n",
      " [ 9 47  8 36 19]]\n",
      "Rows: 8\n",
      "Columns: 5\n",
      "[31 11 17  6 23 11 47  9 13 40  4 40 28  0 46  5 12 29 40 49 19 47  8 29\n",
      " 34 44  8 19 10 12 31 43 23  0 41  9 47  8 36 19]\n",
      "[ 0  0  4  5  6  8  8  8  9  9 10 11 11 12 12 13 17 19 19 19 23 23 28 29\n",
      " 29 31 31 34 36 40 40 40 41 43 44 46 47 47 47 49]\n",
      "[[ 0  0  4  5  6]\n",
      " [ 8  8  8  9  9]\n",
      " [10 11 11 12 12]\n",
      " [13 17 19 19 19]\n",
      " [23 23 28 29 29]\n",
      " [31 31 34 36 40]\n",
      " [40 40 41 43 44]\n",
      " [46 47 47 47 49]]\n"
     ]
    }
   ],
   "source": [
    "np.random.seed(101)\n",
    "my_matrix=np.array(np.random.randint(0,50,(8,5)))\n",
    "print(type(my_matrix))\n",
    "print(my_matrix)\n",
    "\n",
    "print('Rows:',len(my_matrix))\n",
    "print('Columns:',len(my_matrix[0]))\n",
    "\n",
    "my_vector=my_matrix.reshape(len(my_matrix)*len(my_matrix[0]),)\n",
    "print(my_vector)\n",
    "\n",
    "my_vector_asc=np.array(sorted(list(my_vector)),)\n",
    "print(my_vector_asc)\n",
    "my_matrix_asc=my_vector_asc.reshape(8,5)\n",
    "print(my_matrix_asc)"
   ]
  },
  {
   "cell_type": "code",
   "execution_count": 29,
   "id": "efd3592b",
   "metadata": {},
   "outputs": [
    {
     "name": "stdout",
     "output_type": "stream",
     "text": [
      "[[31 11 17  6 23]\n",
      " [11 47  9 13 40]\n",
      " [ 4 40 28  0 46]\n",
      " [ 5 12 29 40 49]\n",
      " [19 47  8 29 34]\n",
      " [44  8 19 10 12]\n",
      " [31 43 23  0 41]\n",
      " [ 9 47  8 36 19]]\n",
      "min: 0\n",
      "min: 0\n",
      "the min is located in index: 13\n",
      "the min is located in index: 13\n",
      "min for all columns: [ 4  8  8  0 12]\n",
      "min for all columns: [ 4  8  8  0 12]\n",
      "min for all rows: [6 9 0 5 8 8 0 8]\n",
      "min for all rows: [6 9 0 5 8 8 0 8]\n"
     ]
    }
   ],
   "source": [
    "np.random.seed(101)\n",
    "my_matrix=np.array(np.random.randint(0,50,(8,5)))\n",
    "print(my_matrix)\n",
    "\n",
    "print('min:', my_matrix.min())\n",
    "print('min:', np.min(my_matrix))\n",
    "\n",
    "print('the min is located in index:', my_matrix.argmin())\n",
    "print('the min is located in index:', np.argmin(my_matrix))\n",
    "\n",
    "#'axis=0' generates the min for all columns\n",
    "print('min for all columns:', my_matrix.min(axis=0))\n",
    "print('min for all columns:', np.min(my_matrix,axis=0))\n",
    "\n",
    "#'axis=1' generates the min for all columns\n",
    "print('min for all rows:', my_matrix.min(axis=1))\n",
    "print('min for all rows:', np.min(my_matrix,axis=1))"
   ]
  },
  {
   "cell_type": "code",
   "execution_count": 30,
   "id": "5b1265b2",
   "metadata": {},
   "outputs": [
    {
     "name": "stdout",
     "output_type": "stream",
     "text": [
      "[[31 11 17  6 23]\n",
      " [11 47  9 13 40]\n",
      " [ 4 40 28  0 46]\n",
      " [ 5 12 29 40 49]\n",
      " [19 47  8 29 34]\n",
      " [44  8 19 10 12]\n",
      " [31 43 23  0 41]\n",
      " [ 9 47  8 36 19]]\n",
      "max: 49\n",
      "max: 49\n",
      "the max is located in index: 19\n",
      "the max is located in index: 19\n",
      "max for all columns: [44 47 29 40 49]\n",
      "max for all columns: [44 47 29 40 49]\n",
      "max for all rows: [31 47 46 49 47 44 43 47]\n",
      "max for all rows: [31 47 46 49 47 44 43 47]\n"
     ]
    }
   ],
   "source": [
    "np.random.seed(101)\n",
    "my_matrix=np.array(np.random.randint(0,50,(8,5)))\n",
    "print(my_matrix)\n",
    "\n",
    "print('max:', my_matrix.max())\n",
    "print('max:', np.max(my_matrix))\n",
    "\n",
    "print('the max is located in index:', my_matrix.argmax())\n",
    "print('the max is located in index:', np.argmax(my_matrix))\n",
    "\n",
    "#'axis=0' generates the max for all columns\n",
    "print('max for all columns:', my_matrix.max(axis=0))\n",
    "print('max for all columns:', np.max(my_matrix,axis=0))\n",
    "\n",
    "#'axis=1' generates the max for all rows\n",
    "print('max for all rows:', my_matrix.max(axis=1))\n",
    "print('max for all rows:', np.max(my_matrix,axis=1))"
   ]
  },
  {
   "cell_type": "code",
   "execution_count": 31,
   "id": "2ff466ae",
   "metadata": {},
   "outputs": [
    {
     "name": "stdout",
     "output_type": "stream",
     "text": [
      "[[31 11 17  6 23]\n",
      " [11 47  9 13 40]\n",
      " [ 4 40 28  0 46]\n",
      " [ 5 12 29 40 49]\n",
      " [19 47  8 29 34]\n",
      " [44  8 19 10 12]\n",
      " [31 43 23  0 41]\n",
      " [ 9 47  8 36 19]]\n",
      "median: 21.0\n",
      "median for all columns: [15.  41.5 18.  11.5 37. ]\n",
      "median for all rows: [17. 13. 28. 29. 29. 12. 31. 19.]\n"
     ]
    }
   ],
   "source": [
    "np.random.seed(101)\n",
    "my_matrix=np.array(np.random.randint(0,50,(8,5)))\n",
    "print(my_matrix)\n",
    "\n",
    "\n",
    "print('median:', np.median(my_matrix))\n",
    "\n",
    "\n",
    "#'axis=0' generates the median for all columns\n",
    "print('median for all columns:', np.median(my_matrix,axis=0))\n",
    "\n",
    "#'axis=1' generates the median for all rows\n",
    "print('median for all rows:', np.median(my_matrix,axis=1))"
   ]
  },
  {
   "cell_type": "code",
   "execution_count": 32,
   "id": "65b90073",
   "metadata": {},
   "outputs": [
    {
     "name": "stdout",
     "output_type": "stream",
     "text": [
      "[[31 11 17  6 23]\n",
      " [11 47  9 13 40]\n",
      " [ 4 40 28  0 46]\n",
      " [ 5 12 29 40 49]\n",
      " [19 47  8 29 34]\n",
      " [44  8 19 10 12]\n",
      " [31 43 23  0 41]\n",
      " [ 9 47  8 36 19]]\n",
      "mean: 23.7\n",
      "mean: 23.7\n",
      "mean for all columns: [19.25  31.875 17.625 16.75  33.   ]\n",
      "mean for all columns: [19.25  31.875 17.625 16.75  33.   ]\n",
      "mean for all rows: [17.6 24.  23.6 27.  27.4 18.6 27.6 23.8]\n",
      "mean for all rows: [17.6 24.  23.6 27.  27.4 18.6 27.6 23.8]\n"
     ]
    }
   ],
   "source": [
    "np.random.seed(101)\n",
    "my_matrix=np.array(np.random.randint(0,50,(8,5)))\n",
    "print(my_matrix)\n",
    "\n",
    "print('mean:', my_matrix.mean())\n",
    "print('mean:', np.mean(my_matrix))\n",
    "\n",
    "#'axis=0' generates the mean for all columns\n",
    "print('mean for all columns:', my_matrix.mean(axis=0))\n",
    "print('mean for all columns:', np.mean(my_matrix,axis=0))\n",
    "\n",
    "#'axis=1' generates the mean for all rows\n",
    "print('mean for all rows:', my_matrix.mean(axis=1))\n",
    "print('mean for all rows:', np.mean(my_matrix,axis=1))"
   ]
  },
  {
   "cell_type": "code",
   "execution_count": 33,
   "id": "f2c6badc",
   "metadata": {},
   "outputs": [
    {
     "name": "stdout",
     "output_type": "stream",
     "text": [
      "[[31 11 17  6 23]\n",
      " [11 47  9 13 40]\n",
      " [ 4 40 28  0 46]\n",
      " [ 5 12 29 40 49]\n",
      " [19 47  8 29 34]\n",
      " [44  8 19 10 12]\n",
      " [31 43 23  0 41]\n",
      " [ 9 47  8 36 19]]\n",
      "sum: 948\n",
      "sum: 948\n",
      "sum: [154 255 141 134 264]\n",
      "sum: [154 255 141 134 264]\n",
      "sum: [ 88 120 118 135 137  93 138 119]\n",
      "sum: [ 88 120 118 135 137  93 138 119]\n"
     ]
    }
   ],
   "source": [
    "np.random.seed(101)\n",
    "my_matrix=np.array(np.random.randint(0,50,(8,5)))\n",
    "print(my_matrix)\n",
    "\n",
    "print('sum:', my_matrix.sum())\n",
    "print('sum:', np.sum(my_matrix))\n",
    "\n",
    "print('sum:', my_matrix.sum(axis=0))\n",
    "print('sum:', np.sum(my_matrix,axis=0))\n",
    "\n",
    "print('sum:', my_matrix.sum(axis=1))\n",
    "print('sum:', np.sum(my_matrix,axis=1))"
   ]
  },
  {
   "cell_type": "code",
   "execution_count": 34,
   "id": "e7a9647f",
   "metadata": {
    "scrolled": true
   },
   "outputs": [
    {
     "name": "stdout",
     "output_type": "stream",
     "text": [
      "[[31 11 17  6 23]\n",
      " [11 47  9 13 40]\n",
      " [ 4 40 28  0 46]\n",
      " [ 5 12 29 40 49]\n",
      " [19 47  8 29 34]\n",
      " [44  8 19 10 12]\n",
      " [31 43 23  0 41]\n",
      " [ 9 47  8 36 19]]\n",
      "std: 15.364244205296918\n",
      "std: 15.364244205296918\n",
      "std: [13.68164829 16.87036974  8.1230767  14.98957971 12.62933094]\n",
      "std: [13.68164829 16.87036974  8.1230767  14.98957971 12.62933094]\n",
      "std: [ 8.8        16.1245155  18.60752536 16.52876281 13.24537655 13.23026833\n",
      " 15.56406117 15.35447817]\n",
      "std: [ 8.8        16.1245155  18.60752536 16.52876281 13.24537655 13.23026833\n",
      " 15.56406117 15.35447817]\n"
     ]
    }
   ],
   "source": [
    "np.random.seed(101)\n",
    "my_matrix=np.array(np.random.randint(0,50,(8,5)))\n",
    "print(my_matrix)\n",
    "\n",
    "print('std:', my_matrix.std())\n",
    "print('std:', np.std(my_matrix))\n",
    "\n",
    "print('std:', my_matrix.std(axis=0))\n",
    "print('std:', np.std(my_matrix,axis=0))\n",
    "\n",
    "print('std:', my_matrix.std(axis=1))\n",
    "print('std:', np.std(my_matrix,axis=1))"
   ]
  },
  {
   "cell_type": "markdown",
   "id": "e58305ce",
   "metadata": {},
   "source": [
    "When dealing with sample statistics we have to incorporate degrees of freedom. We do this by including the additional argument <code>ddof</code>.\n",
    "\n",
    "The divisor used in calculationsis <code>n - ddof</code>, where <code>n</code> represents the number of random variables.\n",
    "By default <code>ddof</code> is zero. Can be used for sample std by using a <code>ddof</code> of 1 thus divisor is <code>(n-1)</code>\n"
   ]
  },
  {
   "cell_type": "code",
   "execution_count": 35,
   "id": "eb3deff9",
   "metadata": {},
   "outputs": [
    {
     "name": "stdout",
     "output_type": "stream",
     "text": [
      "[[31 11 17  6 23]\n",
      " [11 47  9 13 40]\n",
      " [ 4 40 28  0 46]\n",
      " [ 5 12 29 40 49]\n",
      " [19 47  8 29 34]\n",
      " [44  8 19 10 12]\n",
      " [31 43 23  0 41]\n",
      " [ 9 47  8 36 19]]\n",
      "std: 15.559974952191293\n",
      "std: 15.559974952191293\n",
      "std: [14.62629726 18.03518387  8.68393426 16.02453476 13.50132269]\n",
      "std: [14.62629726 18.03518387  8.68393426 16.02453476 13.50132269]\n",
      "std: [ 9.8386991  18.02775638 20.8038458  18.47971861 14.80878118 14.79188967\n",
      " 17.40114939 17.16682848]\n",
      "std: [ 9.8386991  18.02775638 20.8038458  18.47971861 14.80878118 14.79188967\n",
      " 17.40114939 17.16682848]\n"
     ]
    }
   ],
   "source": [
    "np.random.seed(101)\n",
    "my_matrix=np.array(np.random.randint(0,50,(8,5)))\n",
    "print(my_matrix)\n",
    "\n",
    "print('std:', my_matrix.std(ddof=1))\n",
    "print('std:', np.std(my_matrix,ddof=1))\n",
    "\n",
    "print('std:', my_matrix.std(axis=0,ddof=1))\n",
    "print('std:', np.std(my_matrix,axis=0,ddof=1))\n",
    "\n",
    "print('std:', my_matrix.std(axis=1,ddof=1))\n",
    "print('std:', np.std(my_matrix,axis=1,ddof=1))"
   ]
  },
  {
   "cell_type": "code",
   "execution_count": 36,
   "id": "9b9c1f39",
   "metadata": {},
   "outputs": [
    {
     "name": "stdout",
     "output_type": "stream",
     "text": [
      "[[31 11 17  6 23]\n",
      " [11 47  9 13 40]\n",
      " [ 4 40 28  0 46]\n",
      " [ 5 12 29 40 49]\n",
      " [19 47  8 29 34]\n",
      " [44  8 19 10 12]\n",
      " [31 43 23  0 41]\n",
      " [ 9 47  8 36 19]]\n",
      "var: 236.05999999999995\n",
      "var: 236.05999999999995\n",
      "var: [187.1875   284.609375  65.984375 224.6875   159.5     ]\n",
      "var: [187.1875   284.609375  65.984375 224.6875   159.5     ]\n",
      "var: [ 77.44 260.   346.24 273.2  175.44 175.04 242.24 235.76]\n",
      "var: [ 77.44 260.   346.24 273.2  175.44 175.04 242.24 235.76]\n"
     ]
    }
   ],
   "source": [
    "np.random.seed(101)\n",
    "my_matrix=np.array(np.random.randint(0,50,(8,5)))\n",
    "print(my_matrix)\n",
    "\n",
    "print('var:', my_matrix.var())\n",
    "print('var:', np.var(my_matrix))\n",
    "\n",
    "print('var:', my_matrix.var(axis=0))\n",
    "print('var:', np.var(my_matrix,axis=0))\n",
    "\n",
    "print('var:', my_matrix.var(axis=1))\n",
    "print('var:', np.var(my_matrix,axis=1))"
   ]
  },
  {
   "cell_type": "code",
   "execution_count": 37,
   "id": "ee1e9f2e",
   "metadata": {},
   "outputs": [
    {
     "name": "stdout",
     "output_type": "stream",
     "text": [
      "[[31 11 17  6 23]\n",
      " [11 47  9 13 40]\n",
      " [ 4 40 28  0 46]\n",
      " [ 5 12 29 40 49]\n",
      " [19 47  8 29 34]\n",
      " [44  8 19 10 12]\n",
      " [31 43 23  0 41]\n",
      " [ 9 47  8 36 19]]\n",
      "var: 242.11282051282046\n",
      "var: 242.11282051282046\n",
      "var: [213.92857143 325.26785714  75.41071429 256.78571429 182.28571429]\n",
      "var: [213.92857143 325.26785714  75.41071429 256.78571429 182.28571429]\n",
      "var: [ 96.8 325.  432.8 341.5 219.3 218.8 302.8 294.7]\n",
      "var: [ 96.8 325.  432.8 341.5 219.3 218.8 302.8 294.7]\n"
     ]
    }
   ],
   "source": [
    "np.random.seed(101)\n",
    "my_matrix=np.array(np.random.randint(0,50,(8,5)))\n",
    "print(my_matrix)\n",
    "\n",
    "\n",
    "#'ddof' Means Delta Degrees of Freedom.\n",
    "#The divisor used in calculationsis 'n - ddof', where 'n' represents the number of elements.\n",
    "#By default `ddof` is zero. Can be used for sample std by using a ddof of 1 thus divisor is (n-1)\n",
    "\n",
    "print('var:', my_matrix.var(ddof=1))\n",
    "print('var:', np.var(my_matrix,ddof=1))\n",
    "\n",
    "print('var:', my_matrix.var(axis=0,ddof=1))\n",
    "print('var:', np.var(my_matrix,axis=0,ddof=1))\n",
    "\n",
    "print('var:', my_matrix.var(axis=1,ddof=1))\n",
    "print('var:', np.var(my_matrix,axis=1,ddof=1))"
   ]
  },
  {
   "cell_type": "code",
   "execution_count": 38,
   "id": "807d2a7e",
   "metadata": {},
   "outputs": [
    {
     "name": "stdout",
     "output_type": "stream",
     "text": [
      "[[ 0  0  4  5  6]\n",
      " [ 8  8  8  9  9]\n",
      " [10 11 11 12 12]\n",
      " [13 17 19 19 19]\n",
      " [23 23 28 29 29]\n",
      " [31 31 34 36 40]\n",
      " [40 40 41 43 44]\n",
      " [46 47 47 47 49]] \n",
      "\n",
      "[[ 0  8 10 13 23 31 40 46]\n",
      " [ 0  8 11 17 23 31 40 47]\n",
      " [ 4  8 11 19 28 34 41 47]\n",
      " [ 5  9 12 19 29 36 43 47]\n",
      " [ 6  9 12 19 29 40 44 49]] \n",
      "\n",
      "[ 0  0  4  5  6  8  8  8  9  9 10 11 11 12 12 13 17 19 19 19 23 23 28 29\n",
      " 29 31 31 34 36 40 40 40 41 43 44 46 47 47 47 49] \n",
      "\n",
      "mode: ModeResult(mode=array([8]), count=array([3])) \n",
      "\n",
      "mode: ModeResult(mode=array([8]), count=array([3])) \n",
      "\n",
      "mode: ModeResult(mode=array([[0, 0, 4, 5, 6]]), count=array([[1, 1, 1, 1, 1]])) \n",
      "\n",
      "mode: ModeResult(mode=array([[ 0],\n",
      "       [ 8],\n",
      "       [11],\n",
      "       [19],\n",
      "       [23],\n",
      "       [31],\n",
      "       [40],\n",
      "       [47]]), count=array([[2],\n",
      "       [3],\n",
      "       [2],\n",
      "       [3],\n",
      "       [2],\n",
      "       [2],\n",
      "       [2],\n",
      "       [3]]))\n"
     ]
    }
   ],
   "source": [
    "#print('mode:', my_matrix.mode())\n",
    "np.random.seed(101)\n",
    "my_matrix=np.array(np.random.randint(0,50,(8,5)))\n",
    "\n",
    "print(my_matrix_asc,'\\n')\n",
    "print(my_matrix_asc.transpose(),'\\n')\n",
    "print(my_vector_asc,'\\n')\n",
    "\n",
    "print('mode:', stats.mode(my_matrix_asc, axis=None),'\\n')\n",
    "print('mode:', stats.mode(my_vector_asc),'\\n')\n",
    "\n",
    "print('mode:', stats.mode(my_matrix_asc,axis=0),'\\n')\n",
    "\n",
    "\n",
    "print('mode:', stats.mode(my_matrix_asc,axis=1))"
   ]
  },
  {
   "cell_type": "markdown",
   "id": "0202f51d",
   "metadata": {},
   "source": [
    "## Array Indexing\n",
    "<p>\n",
    "    <code>my_matrix[i]</code> Generates the 'i+1' row, i.e. occupying index i if a matrix, generates the ith index if a vector<ul>\n",
    "</ul><code>my_matrix[:,j]</code> Generates the 'j+1' column, i.e. occupying column index j if a matrix<ul>\n",
    "</ul><code>my_matrix[i,j]</code> or <code>my_matrix[i][j]</code>: Generate the elelemnt in row i and column j.<ul>\n",
    "</ul></p>        "
   ]
  },
  {
   "cell_type": "code",
   "execution_count": 39,
   "id": "f1d52380",
   "metadata": {},
   "outputs": [
    {
     "name": "stdout",
     "output_type": "stream",
     "text": [
      "[ 0  1  2  3  4  5  6  7  8  9 10 11 12 13 14 15 16 17 18 19 20 21 22 23] \n",
      "\n",
      "\n",
      "[[ 0  1  2  3]\n",
      " [ 4  5  6  7]\n",
      " [ 8  9 10 11]\n",
      " [12 13 14 15]\n",
      " [16 17 18 19]\n",
      " [20 21 22 23]]\n"
     ]
    }
   ],
   "source": [
    "my_vector=np.arange(0,24)\n",
    "my_matrix=np.arange(0,24).reshape(6,4)\n",
    "print(my_vector,'\\n\\n')\n",
    "print(my_matrix)"
   ]
  },
  {
   "cell_type": "code",
   "execution_count": 40,
   "id": "68cd3ce3",
   "metadata": {},
   "outputs": [
    {
     "name": "stdout",
     "output_type": "stream",
     "text": [
      "0\n",
      "8\n",
      "15\n"
     ]
    }
   ],
   "source": [
    "print(my_vector[0])\n",
    "print(my_vector[8])\n",
    "print(my_vector[15])"
   ]
  },
  {
   "cell_type": "code",
   "execution_count": 41,
   "id": "46bb1fe5",
   "metadata": {},
   "outputs": [
    {
     "name": "stdout",
     "output_type": "stream",
     "text": [
      "[0 1 2 3]\n",
      "[4 5 6 7]\n",
      "[20 21 22 23]\n"
     ]
    }
   ],
   "source": [
    "print(my_matrix[0])\n",
    "print(my_matrix[1])\n",
    "print(my_matrix[5])"
   ]
  },
  {
   "cell_type": "code",
   "execution_count": 42,
   "id": "3c097c7c",
   "metadata": {},
   "outputs": [
    {
     "name": "stdout",
     "output_type": "stream",
     "text": [
      "[ 0  4  8 12 16 20]\n",
      "[ 1  5  9 13 17 21]\n",
      "[ 3  7 11 15 19 23]\n"
     ]
    }
   ],
   "source": [
    "print(my_matrix[:,0])\n",
    "print(my_matrix[:,1])\n",
    "print(my_matrix[:,3])"
   ]
  },
  {
   "cell_type": "code",
   "execution_count": 43,
   "id": "ca391666",
   "metadata": {},
   "outputs": [
    {
     "name": "stdout",
     "output_type": "stream",
     "text": [
      "0\n",
      "6\n",
      "15\n",
      "23\n"
     ]
    }
   ],
   "source": [
    "print(my_matrix[0,0])\n",
    "print(my_matrix[1,2])\n",
    "print(my_matrix[3,3])\n",
    "print(my_matrix[5,3])"
   ]
  },
  {
   "cell_type": "markdown",
   "id": "89a34639",
   "metadata": {},
   "source": [
    "## Array Slicing\n",
    "<p> It is quite similar to slicing lists, tuples and strings. For a refresher head into part 1 of 'Learning Python From Scratch!'<ul>\n",
    "    </ul> The following code demonstrates how to slice vectors and matrices.\n",
    "    </p>"
   ]
  },
  {
   "cell_type": "code",
   "execution_count": 44,
   "id": "79a8c88c",
   "metadata": {},
   "outputs": [
    {
     "name": "stdout",
     "output_type": "stream",
     "text": [
      "[ 0  1  2  3  4  5  6  7  8  9 10 11 12 13 14 15 16 17 18 19 20 21 22 23] \n",
      "\n",
      "\n",
      "[[ 0  1  2  3]\n",
      " [ 4  5  6  7]\n",
      " [ 8  9 10 11]\n",
      " [12 13 14 15]\n",
      " [16 17 18 19]\n",
      " [20 21 22 23]]\n"
     ]
    }
   ],
   "source": [
    "my_vector=np.arange(0,24)\n",
    "my_matrix=np.arange(0,24).reshape(6,4)\n",
    "print(my_vector,'\\n\\n')\n",
    "print(my_matrix)"
   ]
  },
  {
   "cell_type": "code",
   "execution_count": 45,
   "id": "02985f6f",
   "metadata": {},
   "outputs": [
    {
     "name": "stdout",
     "output_type": "stream",
     "text": [
      "[10 11 12 13 14 15 16 17 18 19 20 21 22 23] \n",
      "\n",
      "[0 1 2 3 4 5 6 7 8 9] \n",
      "\n",
      "[1 2 3 4]\n"
     ]
    }
   ],
   "source": [
    "print(my_vector[10:], '\\n')\n",
    "print(my_vector[:10], '\\n')\n",
    "print(my_vector[1:5])"
   ]
  },
  {
   "cell_type": "code",
   "execution_count": 46,
   "id": "2f20feee",
   "metadata": {},
   "outputs": [
    {
     "name": "stdout",
     "output_type": "stream",
     "text": [
      "[[ 0  1  2  3]\n",
      " [ 4  5  6  7]\n",
      " [ 8  9 10 11]\n",
      " [12 13 14 15]\n",
      " [16 17 18 19]\n",
      " [20 21 22 23]] \n",
      "\n",
      "[[12 13 14 15]\n",
      " [16 17 18 19]\n",
      " [20 21 22 23]] \n",
      "\n",
      "[[0 1 2 3]\n",
      " [4 5 6 7]] \n",
      "\n",
      "[[ 4  5  6  7]\n",
      " [ 8  9 10 11]]\n"
     ]
    }
   ],
   "source": [
    "print(my_matrix, '\\n')\n",
    "\n",
    "print(my_matrix[3:], '\\n')\n",
    "print(my_matrix[:2], '\\n')\n",
    "print(my_matrix[1:3])"
   ]
  },
  {
   "cell_type": "code",
   "execution_count": 47,
   "id": "76a99857",
   "metadata": {},
   "outputs": [
    {
     "name": "stdout",
     "output_type": "stream",
     "text": [
      "[[ 0  1  2  3]\n",
      " [ 4  5  6  7]\n",
      " [ 8  9 10 11]\n",
      " [12 13 14 15]\n",
      " [16 17 18 19]\n",
      " [20 21 22 23]] \n",
      "\n",
      "[[ 2  3]\n",
      " [ 6  7]\n",
      " [10 11]\n",
      " [14 15]\n",
      " [18 19]\n",
      " [22 23]] \n",
      "\n",
      "[[ 0  1]\n",
      " [ 4  5]\n",
      " [ 8  9]\n",
      " [12 13]\n",
      " [16 17]\n",
      " [20 21]] \n",
      "\n",
      "[[ 1  2  3]\n",
      " [ 5  6  7]\n",
      " [ 9 10 11]\n",
      " [13 14 15]\n",
      " [17 18 19]\n",
      " [21 22 23]]\n"
     ]
    }
   ],
   "source": [
    "print(my_matrix, '\\n')\n",
    "\n",
    "print(my_matrix[:,2:], '\\n')\n",
    "print(my_matrix[:,:2], '\\n')\n",
    "print(my_matrix[:,1:5])"
   ]
  },
  {
   "cell_type": "code",
   "execution_count": 48,
   "id": "d34904d4",
   "metadata": {},
   "outputs": [
    {
     "name": "stdout",
     "output_type": "stream",
     "text": [
      "[[ 0  1  2  3]\n",
      " [ 4  5  6  7]\n",
      " [ 8  9 10 11]\n",
      " [12 13 14 15]\n",
      " [16 17 18 19]\n",
      " [20 21 22 23]] \n",
      "\n",
      "[[14 15]\n",
      " [18 19]\n",
      " [22 23]] \n",
      "\n",
      "[[12 13]\n",
      " [16 17]\n",
      " [20 21]] \n",
      "\n",
      "[[13 14 15]\n",
      " [17 18 19]\n",
      " [21 22 23]]\n"
     ]
    }
   ],
   "source": [
    "print(my_matrix, '\\n')\n",
    "\n",
    "print(my_matrix[3:,2:], '\\n')\n",
    "print(my_matrix[3:,:2], '\\n')\n",
    "print(my_matrix[3:,1:5])"
   ]
  },
  {
   "cell_type": "code",
   "execution_count": 49,
   "id": "1fcfee92",
   "metadata": {},
   "outputs": [
    {
     "name": "stdout",
     "output_type": "stream",
     "text": [
      "[[ 0  1  2  3]\n",
      " [ 4  5  6  7]\n",
      " [ 8  9 10 11]\n",
      " [12 13 14 15]\n",
      " [16 17 18 19]\n",
      " [20 21 22 23]] \n",
      "\n",
      "[[2 3]\n",
      " [6 7]] \n",
      "\n",
      "[[0 1]\n",
      " [4 5]] \n",
      "\n",
      "[[1 2 3]\n",
      " [5 6 7]]\n"
     ]
    }
   ],
   "source": [
    "print(my_matrix, '\\n')\n",
    "\n",
    "print(my_matrix[:2,2:], '\\n')\n",
    "print(my_matrix[:2,:2], '\\n')\n",
    "print(my_matrix[:2,1:5])"
   ]
  },
  {
   "cell_type": "code",
   "execution_count": 50,
   "id": "7c9ce391",
   "metadata": {},
   "outputs": [
    {
     "name": "stdout",
     "output_type": "stream",
     "text": [
      "[[ 0  1  2  3]\n",
      " [ 4  5  6  7]\n",
      " [ 8  9 10 11]\n",
      " [12 13 14 15]\n",
      " [16 17 18 19]\n",
      " [20 21 22 23]] \n",
      "\n",
      "[[ 6  7]\n",
      " [10 11]] \n",
      "\n",
      "[[4 5]\n",
      " [8 9]] \n",
      "\n",
      "[[ 5  6  7]\n",
      " [ 9 10 11]]\n"
     ]
    }
   ],
   "source": [
    "print(my_matrix, '\\n')\n",
    "\n",
    "print(my_matrix[1:3,2:], '\\n')\n",
    "print(my_matrix[1:3,:2], '\\n')\n",
    "print(my_matrix[1:3,1:5])"
   ]
  },
  {
   "cell_type": "markdown",
   "id": "a7a1d4e2",
   "metadata": {},
   "source": [
    "## Concatenate"
   ]
  },
  {
   "cell_type": "code",
   "execution_count": 51,
   "id": "c0daf4a5",
   "metadata": {},
   "outputs": [
    {
     "name": "stdout",
     "output_type": "stream",
     "text": [
      "[ 0  1  2  3  4  5  6  7  8  9 10 11] \n",
      "\n",
      "[[ 0  1  2]\n",
      " [ 3  4  5]\n",
      " [ 6  7  8]\n",
      " [ 9 10 11]]\n"
     ]
    }
   ],
   "source": [
    "my_vector1=np.arange(0,12)\n",
    "my_matrix1=my_vector1.reshape(4,3)\n",
    "\n",
    "print(my_vector1,'\\n')\n",
    "print(my_matrix1)"
   ]
  },
  {
   "cell_type": "code",
   "execution_count": 52,
   "id": "312a4e92",
   "metadata": {},
   "outputs": [
    {
     "data": {
      "text/plain": [
       "array([ 0,  1,  2,  3,  4,  5,  6,  7,  8,  9, 10, 11,  0,  1,  2,  3,  4,\n",
       "        5,  6,  7,  8,  9, 10, 11])"
      ]
     },
     "execution_count": 52,
     "metadata": {},
     "output_type": "execute_result"
    }
   ],
   "source": [
    "np.concatenate([my_vector1,my_vector1])"
   ]
  },
  {
   "cell_type": "code",
   "execution_count": 53,
   "id": "50b8deeb",
   "metadata": {},
   "outputs": [
    {
     "data": {
      "text/plain": [
       "array([[ 0,  1,  2],\n",
       "       [ 3,  4,  5],\n",
       "       [ 6,  7,  8],\n",
       "       [ 9, 10, 11],\n",
       "       [ 0,  1,  2],\n",
       "       [ 3,  4,  5],\n",
       "       [ 6,  7,  8],\n",
       "       [ 9, 10, 11]])"
      ]
     },
     "execution_count": 53,
     "metadata": {},
     "output_type": "execute_result"
    }
   ],
   "source": [
    "np.concatenate([my_matrix1,my_matrix1])"
   ]
  },
  {
   "cell_type": "markdown",
   "id": "9e3f12ac",
   "metadata": {},
   "source": [
    "We can add the argument <code>axis</code> if we want to specify whether the concatenation adds along rows or columns:\n",
    "* <code>axis=0<\\code>: The default, adds as additional rows\n",
    "* <code>axis=1<\\code>: Adds as additional columns"
   ]
  },
  {
   "cell_type": "code",
   "execution_count": 54,
   "id": "aea98607",
   "metadata": {},
   "outputs": [
    {
     "data": {
      "text/plain": [
       "array([[ 0,  1,  2],\n",
       "       [ 3,  4,  5],\n",
       "       [ 6,  7,  8],\n",
       "       [ 9, 10, 11],\n",
       "       [ 0,  1,  2],\n",
       "       [ 3,  4,  5],\n",
       "       [ 6,  7,  8],\n",
       "       [ 9, 10, 11]])"
      ]
     },
     "execution_count": 54,
     "metadata": {},
     "output_type": "execute_result"
    }
   ],
   "source": [
    "np.concatenate([my_matrix1,my_matrix1],axis=0)"
   ]
  },
  {
   "cell_type": "code",
   "execution_count": 55,
   "id": "d1fa6df9",
   "metadata": {},
   "outputs": [
    {
     "data": {
      "text/plain": [
       "array([[ 0,  1,  2,  0,  1,  2],\n",
       "       [ 3,  4,  5,  3,  4,  5],\n",
       "       [ 6,  7,  8,  6,  7,  8],\n",
       "       [ 9, 10, 11,  9, 10, 11]])"
      ]
     },
     "execution_count": 55,
     "metadata": {},
     "output_type": "execute_result"
    }
   ],
   "source": [
    "np.concatenate([my_matrix1,my_matrix1],axis=1)"
   ]
  },
  {
   "cell_type": "markdown",
   "id": "7a68079b",
   "metadata": {},
   "source": [
    "## Splitting an Array\n",
    "### Splitting Vectors"
   ]
  },
  {
   "cell_type": "code",
   "execution_count": 56,
   "id": "09e6a207",
   "metadata": {},
   "outputs": [
    {
     "name": "stdout",
     "output_type": "stream",
     "text": [
      "[ 0  1  2  3  4  5  6  7  8  9 10 11 12 13 14 15 16 17 18 19 20 21 22 23] \n",
      "\n",
      "\n",
      "[[ 0  1  2  3]\n",
      " [ 4  5  6  7]\n",
      " [ 8  9 10 11]\n",
      " [12 13 14 15]\n",
      " [16 17 18 19]\n",
      " [20 21 22 23]]\n"
     ]
    }
   ],
   "source": [
    "my_vector=np.arange(0,24)\n",
    "my_matrix=np.arange(0,24).reshape(6,4)\n",
    "print(my_vector,'\\n\\n')\n",
    "print(my_matrix)"
   ]
  },
  {
   "cell_type": "code",
   "execution_count": 57,
   "id": "7474005f",
   "metadata": {},
   "outputs": [
    {
     "data": {
      "text/plain": [
       "[array([ 0,  1,  2,  3,  4,  5,  6,  7,  8,  9, 10, 11]),\n",
       " array([12, 13, 14, 15, 16, 17, 18, 19, 20, 21, 22, 23])]"
      ]
     },
     "execution_count": 57,
     "metadata": {},
     "output_type": "execute_result"
    }
   ],
   "source": [
    "np.split(my_vector, 2)"
   ]
  },
  {
   "cell_type": "code",
   "execution_count": 58,
   "id": "08b45f85",
   "metadata": {},
   "outputs": [
    {
     "data": {
      "text/plain": [
       "[array([0, 1, 2, 3, 4, 5, 6, 7]),\n",
       " array([ 8,  9, 10, 11, 12, 13, 14, 15]),\n",
       " array([16, 17, 18, 19, 20, 21, 22, 23])]"
      ]
     },
     "execution_count": 58,
     "metadata": {},
     "output_type": "execute_result"
    }
   ],
   "source": [
    "np.split(my_vector, 3)"
   ]
  },
  {
   "cell_type": "code",
   "execution_count": 59,
   "id": "bf7268c7",
   "metadata": {},
   "outputs": [
    {
     "data": {
      "text/plain": [
       "[array([0, 1, 2, 3, 4, 5]),\n",
       " array([ 6,  7,  8,  9, 10, 11]),\n",
       " array([12, 13, 14, 15, 16, 17]),\n",
       " array([18, 19, 20, 21, 22, 23])]"
      ]
     },
     "execution_count": 59,
     "metadata": {},
     "output_type": "execute_result"
    }
   ],
   "source": [
    "np.split(my_vector, 4)"
   ]
  },
  {
   "cell_type": "markdown",
   "id": "c9dfd2c4",
   "metadata": {},
   "source": [
    "Running this code generates an error: <code>np.split(my_vector, 5)</code>\n",
    "\n",
    "A work around is <code>np.array_split()</code>:"
   ]
  },
  {
   "cell_type": "code",
   "execution_count": 60,
   "id": "38f931d8",
   "metadata": {},
   "outputs": [
    {
     "data": {
      "text/plain": [
       "[array([0, 1, 2, 3, 4]),\n",
       " array([5, 6, 7, 8, 9]),\n",
       " array([10, 11, 12, 13, 14]),\n",
       " array([15, 16, 17, 18, 19]),\n",
       " array([20, 21, 22, 23])]"
      ]
     },
     "execution_count": 60,
     "metadata": {},
     "output_type": "execute_result"
    }
   ],
   "source": [
    "np.array_split(my_vector, 5)"
   ]
  },
  {
   "cell_type": "code",
   "execution_count": 61,
   "id": "e1eb5069",
   "metadata": {},
   "outputs": [
    {
     "data": {
      "text/plain": [
       "[array([0, 1]),\n",
       " array([2, 3, 4]),\n",
       " array([ 5,  6,  7,  8,  9, 10, 11, 12, 13, 14]),\n",
       " array([15, 16, 17, 18, 19, 20, 21, 22, 23])]"
      ]
     },
     "execution_count": 61,
     "metadata": {},
     "output_type": "execute_result"
    }
   ],
   "source": [
    "np.array_split(my_vector, [2,5,15])"
   ]
  },
  {
   "cell_type": "markdown",
   "id": "3429c326",
   "metadata": {},
   "source": [
    "### Splitting Matrix\n",
    "#### By Rows"
   ]
  },
  {
   "cell_type": "code",
   "execution_count": 62,
   "id": "6be518f2",
   "metadata": {},
   "outputs": [
    {
     "data": {
      "text/plain": [
       "[array([[ 0,  1,  2,  3],\n",
       "        [ 4,  5,  6,  7],\n",
       "        [ 8,  9, 10, 11]]),\n",
       " array([[12, 13, 14, 15],\n",
       "        [16, 17, 18, 19],\n",
       "        [20, 21, 22, 23]])]"
      ]
     },
     "execution_count": 62,
     "metadata": {},
     "output_type": "execute_result"
    }
   ],
   "source": [
    "np.split(my_matrix, 2)"
   ]
  },
  {
   "cell_type": "code",
   "execution_count": 63,
   "id": "dd7dd333",
   "metadata": {},
   "outputs": [
    {
     "data": {
      "text/plain": [
       "[array([[0, 1, 2, 3],\n",
       "        [4, 5, 6, 7]]),\n",
       " array([[ 8,  9, 10, 11],\n",
       "        [12, 13, 14, 15]]),\n",
       " array([[16, 17, 18, 19],\n",
       "        [20, 21, 22, 23]])]"
      ]
     },
     "execution_count": 63,
     "metadata": {},
     "output_type": "execute_result"
    }
   ],
   "source": [
    "np.split(my_matrix, 3)"
   ]
  },
  {
   "cell_type": "code",
   "execution_count": 64,
   "id": "d993fd1b",
   "metadata": {},
   "outputs": [
    {
     "data": {
      "text/plain": [
       "[array([[ 0,  1,  2,  3],\n",
       "        [ 4,  5,  6,  7],\n",
       "        [ 8,  9, 10, 11]]),\n",
       " array([[12, 13, 14, 15],\n",
       "        [16, 17, 18, 19],\n",
       "        [20, 21, 22, 23]])]"
      ]
     },
     "execution_count": 64,
     "metadata": {},
     "output_type": "execute_result"
    }
   ],
   "source": [
    "np.vsplit(my_matrix, 2)"
   ]
  },
  {
   "cell_type": "code",
   "execution_count": 65,
   "id": "790bad7b",
   "metadata": {},
   "outputs": [
    {
     "data": {
      "text/plain": [
       "[array([[0, 1, 2, 3],\n",
       "        [4, 5, 6, 7]]),\n",
       " array([[ 8,  9, 10, 11],\n",
       "        [12, 13, 14, 15]]),\n",
       " array([[16, 17, 18, 19],\n",
       "        [20, 21, 22, 23]])]"
      ]
     },
     "execution_count": 65,
     "metadata": {},
     "output_type": "execute_result"
    }
   ],
   "source": [
    "np.vsplit(my_matrix, 3)"
   ]
  },
  {
   "cell_type": "markdown",
   "id": "e8766b16",
   "metadata": {},
   "source": [
    "#### By Columns"
   ]
  },
  {
   "cell_type": "code",
   "execution_count": 66,
   "id": "16788a61",
   "metadata": {},
   "outputs": [
    {
     "data": {
      "text/plain": [
       "[array([[ 0,  1],\n",
       "        [ 4,  5],\n",
       "        [ 8,  9],\n",
       "        [12, 13],\n",
       "        [16, 17],\n",
       "        [20, 21]]),\n",
       " array([[ 2,  3],\n",
       "        [ 6,  7],\n",
       "        [10, 11],\n",
       "        [14, 15],\n",
       "        [18, 19],\n",
       "        [22, 23]])]"
      ]
     },
     "execution_count": 66,
     "metadata": {},
     "output_type": "execute_result"
    }
   ],
   "source": [
    "np.split(my_matrix, 2,axis=1)"
   ]
  },
  {
   "cell_type": "markdown",
   "id": "b04c2be4",
   "metadata": {},
   "source": [
    "Running this code generates an error: <code>codenp.split(my_matrix, 3,axis=1)</code>\n",
    "\n",
    "A work around is <code>np.array_split(,axis=1)</code>"
   ]
  },
  {
   "cell_type": "code",
   "execution_count": 67,
   "id": "cd752386",
   "metadata": {},
   "outputs": [
    {
     "data": {
      "text/plain": [
       "[array([[ 0,  1],\n",
       "        [ 4,  5],\n",
       "        [ 8,  9],\n",
       "        [12, 13],\n",
       "        [16, 17],\n",
       "        [20, 21]]),\n",
       " array([[ 2],\n",
       "        [ 6],\n",
       "        [10],\n",
       "        [14],\n",
       "        [18],\n",
       "        [22]]),\n",
       " array([[ 3],\n",
       "        [ 7],\n",
       "        [11],\n",
       "        [15],\n",
       "        [19],\n",
       "        [23]])]"
      ]
     },
     "execution_count": 67,
     "metadata": {},
     "output_type": "execute_result"
    }
   ],
   "source": [
    "np.array_split(my_matrix, 3,axis=1)"
   ]
  },
  {
   "cell_type": "code",
   "execution_count": 68,
   "id": "6bb4097c",
   "metadata": {},
   "outputs": [
    {
     "data": {
      "text/plain": [
       "[array([[ 0],\n",
       "        [ 4],\n",
       "        [ 8],\n",
       "        [12],\n",
       "        [16],\n",
       "        [20]]),\n",
       " array([[ 1],\n",
       "        [ 5],\n",
       "        [ 9],\n",
       "        [13],\n",
       "        [17],\n",
       "        [21]]),\n",
       " array([[ 2],\n",
       "        [ 6],\n",
       "        [10],\n",
       "        [14],\n",
       "        [18],\n",
       "        [22]]),\n",
       " array([[ 3],\n",
       "        [ 7],\n",
       "        [11],\n",
       "        [15],\n",
       "        [19],\n",
       "        [23]])]"
      ]
     },
     "execution_count": 68,
     "metadata": {},
     "output_type": "execute_result"
    }
   ],
   "source": [
    "np.split(my_matrix, 4,axis=1)"
   ]
  },
  {
   "cell_type": "code",
   "execution_count": 69,
   "id": "26e9cfa7",
   "metadata": {},
   "outputs": [
    {
     "data": {
      "text/plain": [
       "[array([[ 0,  1],\n",
       "        [ 4,  5],\n",
       "        [ 8,  9],\n",
       "        [12, 13],\n",
       "        [16, 17],\n",
       "        [20, 21]]),\n",
       " array([[ 2,  3],\n",
       "        [ 6,  7],\n",
       "        [10, 11],\n",
       "        [14, 15],\n",
       "        [18, 19],\n",
       "        [22, 23]])]"
      ]
     },
     "execution_count": 69,
     "metadata": {},
     "output_type": "execute_result"
    }
   ],
   "source": [
    "np.hsplit(my_matrix, 2)"
   ]
  },
  {
   "cell_type": "markdown",
   "id": "e7a65d17",
   "metadata": {},
   "source": [
    "## Array Broadcasting\n",
    "<p> Brodcasting allows us to assign a value to all elements in a slice</p>"
   ]
  },
  {
   "cell_type": "code",
   "execution_count": 70,
   "id": "b402c41a",
   "metadata": {},
   "outputs": [
    {
     "name": "stdout",
     "output_type": "stream",
     "text": [
      "[ 0  1  2  3  4  5  6  7  8  9 10 11 12 13 14 15 16 17 18 19 20 21 22 23]\n",
      "\n",
      "\n",
      "\n",
      "[[ 0  1  2  3]\n",
      " [ 4  5  6  7]\n",
      " [ 8  9 10 11]\n",
      " [12 13 14 15]\n",
      " [16 17 18 19]\n",
      " [20 21 22 23]]\n"
     ]
    }
   ],
   "source": [
    "my_vector=np.arange(0,24)\n",
    "my_matrix=np.arange(0,24).reshape(6,4)\n",
    "\n",
    "print(my_vector)\n",
    "print('\\n\\n')                          #Generates spaces\n",
    "print(my_matrix)"
   ]
  },
  {
   "cell_type": "code",
   "execution_count": 71,
   "id": "527439bc",
   "metadata": {},
   "outputs": [
    {
     "name": "stdout",
     "output_type": "stream",
     "text": [
      "[ 0  1  2  3  4  5  6  7  8  9 10 11 12 13 14 15 16 17 18 19 20 21 22 23]\n",
      "[ 5  6  7  8  9 10] \n",
      "\n",
      "[ 0  1  2  3  4  7  7  7  7  7  7 11 12 13 14 15 16 17 18 19 20 21 22 23]\n",
      "[7 7 7 7 7 7]\n"
     ]
    }
   ],
   "source": [
    "my_vector=np.arange(0,24)\n",
    "\n",
    "print(my_vector)\n",
    "print(my_vector[5:11],'\\n')\n",
    "\n",
    "my_vector[5:11]=7\n",
    "\n",
    "print(my_vector)\n",
    "print(my_vector[5:11],)"
   ]
  },
  {
   "cell_type": "code",
   "execution_count": 72,
   "id": "8cd49116",
   "metadata": {},
   "outputs": [
    {
     "name": "stdout",
     "output_type": "stream",
     "text": [
      "[ 0  1  2  3  4  8  8  8  8  8  8 11 12 13 14 15 16 17 18 19 20 21 22 23]\n",
      "[8 8 8 8 8 8] \n",
      "\n"
     ]
    }
   ],
   "source": [
    "#Assigning a slice to an object and broadcasting that object will also affect the source array:\n",
    "my_vector=np.arange(0,24)\n",
    "\n",
    "my_vector_slice=my_vector[5:11]\n",
    "my_vector_slice[:]=8\n",
    "\n",
    "print(my_vector)\n",
    "print(my_vector[5:11],'\\n')"
   ]
  },
  {
   "cell_type": "code",
   "execution_count": 73,
   "id": "44024ca8",
   "metadata": {},
   "outputs": [
    {
     "name": "stdout",
     "output_type": "stream",
     "text": [
      "[ 0  1  2  3  4  5  6  7  8  9 10 11 12 13 14 15 16 17 18 19 20 21 22 23]\n",
      "[ 0  1  2  3  4  5  6  7  8  9 10 11 12 13 14 15 16 17 18 19 20 21 22 23] \n",
      "\n",
      "[  0   1   2   3   4   5   6   7 999   9  10 333  12  13  14  15  16  17\n",
      "  18  19  20  21  22  23]\n",
      "[  0   1   2   3   4   5   6   7 999   9  10 333  12  13  14  15  16  17\n",
      "  18  19  20  21  22  23] \n",
      "\n"
     ]
    }
   ],
   "source": [
    "my_vector=np.arange(0,24)\n",
    "my_vector_copy=my_vector\n",
    "\n",
    "print(my_vector)\n",
    "print(my_vector_copy,'\\n')\n",
    "\n",
    "my_vector[8]=999\n",
    "my_vector_copy[11]=333\n",
    "print(my_vector)\n",
    "print(my_vector_copy,'\\n')"
   ]
  },
  {
   "cell_type": "code",
   "execution_count": 74,
   "id": "b3259b88",
   "metadata": {},
   "outputs": [
    {
     "name": "stdout",
     "output_type": "stream",
     "text": [
      "[ 0  1  2  3  4  5  6  7  8  9 10 11 12 13 14 15 16 17 18 19 20 21 22 23]\n",
      "[ 0  1  2  3  4  5  6  7  8  9 10 11 12 13 14 15 16 17 18 19 20 21 22 23] \n",
      "\n",
      "[  0   1   2   3   4   5   6   7 999   9  10  11  12  13  14  15  16  17\n",
      "  18  19  20  21  22  23]\n",
      "[  0   1   2   3   4   5   6   7   8   9  10 333  12  13  14  15  16  17\n",
      "  18  19  20  21  22  23]\n"
     ]
    }
   ],
   "source": [
    "#If we don't want to affect the source array, we will use the '.copy()' function\n",
    "#To copy an array independent from the source:\n",
    "my_vector=np.arange(0,24)\n",
    "my_vector_copy=my_vector.copy()\n",
    "\n",
    "print(my_vector)\n",
    "print(my_vector_copy,'\\n')\n",
    "\n",
    "my_vector[8]=999\n",
    "my_vector_copy[11]=333\n",
    "print(my_vector)\n",
    "print(my_vector_copy)"
   ]
  },
  {
   "cell_type": "code",
   "execution_count": 75,
   "id": "f0d973b3",
   "metadata": {},
   "outputs": [
    {
     "name": "stdout",
     "output_type": "stream",
     "text": [
      "[ 0  1  2  3  4  5  6  7  8  9 10 11 12 13 14 15 16 17 18 19 20 21 22 23]\n",
      "[ 5  6  7  8  9 10] \n",
      "\n",
      "[ 5  6  7  8  9 10] \n",
      "\n",
      "[ 0  1  2  3  4  8  8  8  8  8  8 11 12 13 14 15 16 17 18 19 20 21 22 23]\n",
      "[8 8 8 8 8 8] \n",
      "\n",
      "[3 3 3 3 3 3] \n",
      "\n"
     ]
    }
   ],
   "source": [
    "#To copy a slice independent from the source:\n",
    "my_vector=np.arange(0,24)\n",
    "my_vector_slice=my_vector[5:11].copy()\n",
    "\n",
    "print(my_vector)\n",
    "print(my_vector[5:11],'\\n')\n",
    "print(my_vector_slice,'\\n')\n",
    "\n",
    "my_vector[5:11]=8\n",
    "my_vector_slice[:]=3\n",
    "\n",
    "print(my_vector)\n",
    "print(my_vector[5:11],'\\n')\n",
    "print(my_vector_slice,'\\n')"
   ]
  },
  {
   "cell_type": "code",
   "execution_count": 76,
   "id": "e817f83c",
   "metadata": {},
   "outputs": [
    {
     "name": "stdout",
     "output_type": "stream",
     "text": [
      "[[ 0  1  2  3]\n",
      " [ 4  5  6  7]\n",
      " [ 8  9 10 11]\n",
      " [12 13 14 15]\n",
      " [16 17 18 19]\n",
      " [20 21 22 23]] \n",
      "\n",
      "[[ 5  6  7]\n",
      " [ 9 10 11]] \n",
      " \n",
      "\n",
      "[[ 0  1  2  3]\n",
      " [ 4  8  8  8]\n",
      " [ 8  8  8  8]\n",
      " [12 13 14 15]\n",
      " [16 17 18 19]\n",
      " [20 21 22 23]] \n",
      "\n",
      "[[8 8 8]\n",
      " [8 8 8]] \n",
      " \n",
      "\n"
     ]
    }
   ],
   "source": [
    "my_matrix=np.arange(0,24).reshape(6,4)\n",
    "print(my_matrix, '\\n')\n",
    "print(my_matrix[1:3,1:5], '\\n', '\\n')\n",
    "\n",
    "my_matrix[1:3,1:5]=8\n",
    "\n",
    "print(my_matrix, '\\n')\n",
    "print(my_matrix[1:3,1:5], '\\n', '\\n')"
   ]
  },
  {
   "cell_type": "markdown",
   "id": "5c991776",
   "metadata": {},
   "source": [
    "## Array Boolean Tests & Conditional Selection"
   ]
  },
  {
   "cell_type": "code",
   "execution_count": 77,
   "id": "c15c4ce5",
   "metadata": {},
   "outputs": [
    {
     "name": "stdout",
     "output_type": "stream",
     "text": [
      "[ 0  2  4  6  8 10 12 14 16 18 20 22 24]\n"
     ]
    }
   ],
   "source": [
    "my_vector=np.arange(0,26,2)\n",
    "print(my_vector)"
   ]
  },
  {
   "cell_type": "code",
   "execution_count": 78,
   "id": "3ae1e0fa",
   "metadata": {},
   "outputs": [
    {
     "data": {
      "text/plain": [
       "array([False, False, False, False, False, False,  True,  True,  True,\n",
       "        True,  True,  True,  True])"
      ]
     },
     "execution_count": 78,
     "metadata": {},
     "output_type": "execute_result"
    }
   ],
   "source": [
    "#The code outputs an array indicating which parts of the array generate a 'True' statement\n",
    "#You can also assign it to a variable\n",
    "my_vector>10"
   ]
  },
  {
   "cell_type": "code",
   "execution_count": 79,
   "id": "27a12a13",
   "metadata": {},
   "outputs": [
    {
     "data": {
      "text/plain": [
       "array([12, 14, 16, 18, 20, 22, 24])"
      ]
     },
     "execution_count": 79,
     "metadata": {},
     "output_type": "execute_result"
    }
   ],
   "source": [
    "#The code can be inserted back into the array to generate only the elements that are 'True'\n",
    "my_vector[my_vector>10]"
   ]
  },
  {
   "cell_type": "markdown",
   "id": "7481c02d",
   "metadata": {},
   "source": [
    "## Numpy Operations"
   ]
  },
  {
   "cell_type": "code",
   "execution_count": 80,
   "id": "680fd202",
   "metadata": {},
   "outputs": [
    {
     "name": "stdout",
     "output_type": "stream",
     "text": [
      "[ 0  1  2  3  4  5  6  7  8  9 10 11 12 13 14 15 16 17 18 19 20]\n"
     ]
    }
   ],
   "source": [
    "my_vector=np.arange(0,21)\n",
    "print(my_vector)"
   ]
  },
  {
   "cell_type": "code",
   "execution_count": 81,
   "id": "4a933e94",
   "metadata": {},
   "outputs": [
    {
     "name": "stdout",
     "output_type": "stream",
     "text": [
      "[ 0  2  4  6  8 10 12 14 16 18 20 22 24 26 28 30 32 34 36 38 40]\n",
      "[100 101 102 103 104 105 106 107 108 109 110 111 112 113 114 115 116 117\n",
      " 118 119 120]\n",
      "\n",
      "\n",
      "210\n"
     ]
    }
   ],
   "source": [
    "print(my_vector+my_vector)\n",
    "print(my_vector+100)\n",
    "\n",
    "print('\\n')\n",
    "\n",
    "print(my_vector.sum())                        #'.sum()'Adds up all elements of an array"
   ]
  },
  {
   "cell_type": "code",
   "execution_count": 82,
   "id": "2598a208",
   "metadata": {},
   "outputs": [
    {
     "name": "stdout",
     "output_type": "stream",
     "text": [
      "[0 0 0 0 0 0 0 0 0 0 0 0 0 0 0 0 0 0 0 0 0]\n",
      "[-3 -2 -1  0  1  2  3  4  5  6  7  8  9 10 11 12 13 14 15 16 17]\n"
     ]
    }
   ],
   "source": [
    "print(my_vector-my_vector)\n",
    "print(my_vector-3)"
   ]
  },
  {
   "cell_type": "code",
   "execution_count": 83,
   "id": "042025d9",
   "metadata": {},
   "outputs": [
    {
     "name": "stdout",
     "output_type": "stream",
     "text": [
      "[  0   1   4   9  16  25  36  49  64  81 100 121 144 169 196 225 256 289\n",
      " 324 361 400]\n",
      "[ 0  3  6  9 12 15 18 21 24 27 30 33 36 39 42 45 48 51 54 57 60]\n"
     ]
    }
   ],
   "source": [
    "print(my_vector*my_vector)\n",
    "print(my_vector*3)"
   ]
  },
  {
   "cell_type": "code",
   "execution_count": 84,
   "id": "675b3cd7",
   "metadata": {},
   "outputs": [
    {
     "name": "stdout",
     "output_type": "stream",
     "text": [
      "[nan  1.  1.  1.  1.  1.  1.  1.  1.  1.  1.  1.  1.  1.  1.  1.  1.  1.\n",
      "  1.  1.  1.]\n",
      "[0.         0.33333333 0.66666667 1.         1.33333333 1.66666667\n",
      " 2.         2.33333333 2.66666667 3.         3.33333333 3.66666667\n",
      " 4.         4.33333333 4.66666667 5.         5.33333333 5.66666667\n",
      " 6.         6.33333333 6.66666667]\n",
      "[       inf 3.         1.5        1.         0.75       0.6\n",
      " 0.5        0.42857143 0.375      0.33333333 0.3        0.27272727\n",
      " 0.25       0.23076923 0.21428571 0.2        0.1875     0.17647059\n",
      " 0.16666667 0.15789474 0.15      ]\n"
     ]
    },
    {
     "name": "stderr",
     "output_type": "stream",
     "text": [
      "C:\\Users\\user\\AppData\\Local\\Temp\\ipykernel_15992\\1928371468.py:3: RuntimeWarning: invalid value encountered in true_divide\n",
      "  print(my_vector/my_vector)\n",
      "C:\\Users\\user\\AppData\\Local\\Temp\\ipykernel_15992\\1928371468.py:5: RuntimeWarning: divide by zero encountered in true_divide\n",
      "  print(3/my_vector)\n"
     ]
    }
   ],
   "source": [
    "# Warning on division by zero, but not an error!\n",
    "# Just replaced with nan or inf where applicable\n",
    "print(my_vector/my_vector)\n",
    "print(my_vector/3)\n",
    "print(3/my_vector)"
   ]
  },
  {
   "cell_type": "code",
   "execution_count": 85,
   "id": "adb22dd4",
   "metadata": {},
   "outputs": [
    {
     "name": "stdout",
     "output_type": "stream",
     "text": [
      "[  0   1   4   9  16  25  36  49  64  81 100 121 144 169 196 225 256 289\n",
      " 324 361 400]\n",
      "[   0    1    8   27   64  125  216  343  512  729 1000 1331 1728 2197\n",
      " 2744 3375 4096 4913 5832 6859 8000]\n"
     ]
    }
   ],
   "source": [
    "print(my_vector**2)\n",
    "print(my_vector**3)"
   ]
  },
  {
   "cell_type": "code",
   "execution_count": 86,
   "id": "25599c7e",
   "metadata": {},
   "outputs": [
    {
     "name": "stdout",
     "output_type": "stream",
     "text": [
      "[  0   1   4   9  16  25  36  49  64  81 100 121 144 169 196 225 256 289\n",
      " 324 361 400]\n",
      "[   0    1    8   27   64  125  216  343  512  729 1000 1331 1728 2197\n",
      " 2744 3375 4096 4913 5832 6859 8000]\n"
     ]
    }
   ],
   "source": [
    "print(np.power(my_vector,2))\n",
    "print(np.power(my_vector,3))"
   ]
  },
  {
   "cell_type": "code",
   "execution_count": 87,
   "id": "160fc306",
   "metadata": {},
   "outputs": [
    {
     "name": "stdout",
     "output_type": "stream",
     "text": [
      "[ 0  1  2  3  4  5  6  7  8  9 10 11 12 13 14 15 16 17 18 19 20]\n",
      "[      1       2       4       8      16      32      64     128     256\n",
      "     512    1024    2048    4096    8192   16384   32768   65536  131072\n",
      "  262144  524288 1048576]\n",
      "[         1          3          9         27         81        243\n",
      "        729       2187       6561      19683      59049     177147\n",
      "     531441    1594323    4782969   14348907   43046721  129140163\n",
      "  387420489 1162261467 -808182895]\n"
     ]
    }
   ],
   "source": [
    "print(my_vector)\n",
    "print(2**my_vector)\n",
    "print(3**my_vector)"
   ]
  },
  {
   "cell_type": "code",
   "execution_count": 88,
   "id": "3f038dd1",
   "metadata": {},
   "outputs": [
    {
     "name": "stdout",
     "output_type": "stream",
     "text": [
      "[ 0  1  2  3  4  5  6  7  8  9 10 11 12 13 14 15 16 17 18 19 20]\n",
      "[      1       2       4       8      16      32      64     128     256\n",
      "     512    1024    2048    4096    8192   16384   32768   65536  131072\n",
      "  262144  524288 1048576]\n",
      "[         1          3          9         27         81        243\n",
      "        729       2187       6561      19683      59049     177147\n",
      "     531441    1594323    4782969   14348907   43046721  129140163\n",
      "  387420489 1162261467 -808182895]\n"
     ]
    }
   ],
   "source": [
    "print(my_vector)\n",
    "print(np.power(2,my_vector))\n",
    "print(np.power(3,my_vector))"
   ]
  },
  {
   "cell_type": "markdown",
   "id": "077e1c76",
   "metadata": {},
   "source": [
    "## Universal Array Functions\n",
    "Numpy comes with many [universal array functions](http://docs.scipy.org/doc/numpy/reference/ufuncs.html), which are essentially just mathematical operations you can use to perform the operation across the array.\n"
   ]
  },
  {
   "cell_type": "code",
   "execution_count": 89,
   "id": "a34a9cc0",
   "metadata": {},
   "outputs": [
    {
     "name": "stdout",
     "output_type": "stream",
     "text": [
      "[ 0  1  2  3  4  5  6  7  8  9 10 11 12 13 14 15 16 17 18 19 20]\n"
     ]
    }
   ],
   "source": [
    "my_vector=np.arange(0,21)\n",
    "print(my_vector)"
   ]
  },
  {
   "cell_type": "code",
   "execution_count": 90,
   "id": "d16c6ed3",
   "metadata": {},
   "outputs": [
    {
     "data": {
      "text/plain": [
       "array([0.        , 1.        , 1.41421356, 1.73205081, 2.        ,\n",
       "       2.23606798, 2.44948974, 2.64575131, 2.82842712, 3.        ,\n",
       "       3.16227766, 3.31662479, 3.46410162, 3.60555128, 3.74165739,\n",
       "       3.87298335, 4.        , 4.12310563, 4.24264069, 4.35889894,\n",
       "       4.47213595])"
      ]
     },
     "execution_count": 90,
     "metadata": {},
     "output_type": "execute_result"
    }
   ],
   "source": [
    "np.sqrt(my_vector)       #Square root"
   ]
  },
  {
   "cell_type": "code",
   "execution_count": 91,
   "id": "247023a6",
   "metadata": {},
   "outputs": [
    {
     "data": {
      "text/plain": [
       "array([1.00000000e+00, 2.71828183e+00, 7.38905610e+00, 2.00855369e+01,\n",
       "       5.45981500e+01, 1.48413159e+02, 4.03428793e+02, 1.09663316e+03,\n",
       "       2.98095799e+03, 8.10308393e+03, 2.20264658e+04, 5.98741417e+04,\n",
       "       1.62754791e+05, 4.42413392e+05, 1.20260428e+06, 3.26901737e+06,\n",
       "       8.88611052e+06, 2.41549528e+07, 6.56599691e+07, 1.78482301e+08,\n",
       "       4.85165195e+08])"
      ]
     },
     "execution_count": 91,
     "metadata": {},
     "output_type": "execute_result"
    }
   ],
   "source": [
    "np.exp(my_vector)         #exponential (e^)"
   ]
  },
  {
   "cell_type": "code",
   "execution_count": 92,
   "id": "d115a9e6",
   "metadata": {},
   "outputs": [
    {
     "data": {
      "text/plain": [
       "array([  0,   1,   4,   9,  16,  25,  36,  49,  64,  81, 100, 121, 144,\n",
       "       169, 196, 225, 256, 289, 324, 361, 400], dtype=int32)"
      ]
     },
     "execution_count": 92,
     "metadata": {},
     "output_type": "execute_result"
    }
   ],
   "source": [
    "np.power(my_vector,2)"
   ]
  },
  {
   "cell_type": "code",
   "execution_count": 93,
   "id": "c41a59cd",
   "metadata": {},
   "outputs": [
    {
     "data": {
      "text/plain": [
       "array([      1,       2,       4,       8,      16,      32,      64,\n",
       "           128,     256,     512,    1024,    2048,    4096,    8192,\n",
       "         16384,   32768,   65536,  131072,  262144,  524288, 1048576],\n",
       "      dtype=int32)"
      ]
     },
     "execution_count": 93,
     "metadata": {},
     "output_type": "execute_result"
    }
   ],
   "source": [
    "np.power(2,my_vector)"
   ]
  },
  {
   "cell_type": "code",
   "execution_count": 94,
   "id": "bff455af",
   "metadata": {},
   "outputs": [
    {
     "data": {
      "text/plain": [
       "array([      1,       2,       4,       8,      16,      32,      64,\n",
       "           128,     256,     512,    1024,    2048,    4096,    8192,\n",
       "         16384,   32768,   65536,  131072,  262144,  524288, 1048576],\n",
       "      dtype=int32)"
      ]
     },
     "execution_count": 94,
     "metadata": {},
     "output_type": "execute_result"
    }
   ],
   "source": [
    "2**my_vector"
   ]
  },
  {
   "cell_type": "code",
   "execution_count": 95,
   "id": "e24598bf",
   "metadata": {},
   "outputs": [
    {
     "data": {
      "text/plain": [
       "array([  0,   1,   4,   9,  16,  25,  36,  49,  64,  81, 100, 121, 144,\n",
       "       169, 196, 225, 256, 289, 324, 361, 400], dtype=int32)"
      ]
     },
     "execution_count": 95,
     "metadata": {},
     "output_type": "execute_result"
    }
   ],
   "source": [
    "my_vector**2"
   ]
  },
  {
   "cell_type": "code",
   "execution_count": 96,
   "id": "0708c8ec",
   "metadata": {},
   "outputs": [
    {
     "data": {
      "text/plain": [
       "array([ 0.        ,  0.84147098,  0.90929743,  0.14112001, -0.7568025 ,\n",
       "       -0.95892427, -0.2794155 ,  0.6569866 ,  0.98935825,  0.41211849,\n",
       "       -0.54402111, -0.99999021, -0.53657292,  0.42016704,  0.99060736,\n",
       "        0.65028784, -0.28790332, -0.96139749, -0.75098725,  0.14987721,\n",
       "        0.91294525])"
      ]
     },
     "execution_count": 96,
     "metadata": {},
     "output_type": "execute_result"
    }
   ],
   "source": [
    "np.sin(my_vector)         #sin ()"
   ]
  },
  {
   "cell_type": "code",
   "execution_count": 97,
   "id": "24b48364",
   "metadata": {
    "scrolled": true
   },
   "outputs": [
    {
     "name": "stderr",
     "output_type": "stream",
     "text": [
      "C:\\Users\\user\\AppData\\Local\\Temp\\ipykernel_15992\\3243936342.py:1: RuntimeWarning: divide by zero encountered in log\n",
      "  np.log(my_vector)            #log ()\n"
     ]
    },
    {
     "data": {
      "text/plain": [
       "array([      -inf, 0.        , 0.69314718, 1.09861229, 1.38629436,\n",
       "       1.60943791, 1.79175947, 1.94591015, 2.07944154, 2.19722458,\n",
       "       2.30258509, 2.39789527, 2.48490665, 2.56494936, 2.63905733,\n",
       "       2.7080502 , 2.77258872, 2.83321334, 2.89037176, 2.94443898,\n",
       "       2.99573227])"
      ]
     },
     "execution_count": 97,
     "metadata": {},
     "output_type": "execute_result"
    }
   ],
   "source": [
    "np.log(my_vector)            #log ()"
   ]
  },
  {
   "cell_type": "code",
   "execution_count": 98,
   "id": "eebcace2",
   "metadata": {},
   "outputs": [
    {
     "data": {
      "text/plain": [
       "array([0, 0, 0, 0, 0])"
      ]
     },
     "execution_count": 98,
     "metadata": {},
     "output_type": "execute_result"
    }
   ],
   "source": [
    "a=np.array([0,1,0,1,0])\n",
    "\n",
    "b=np.array([1,0,1,0,1])\n",
    "a*b"
   ]
  },
  {
   "cell_type": "code",
   "execution_count": 99,
   "id": "64b180b4",
   "metadata": {},
   "outputs": [
    {
     "data": {
      "text/plain": [
       "0"
      ]
     },
     "execution_count": 99,
     "metadata": {},
     "output_type": "execute_result"
    }
   ],
   "source": [
    "a=np.array([0,1])\n",
    "\n",
    "b=np.array([1,0])\n",
    "\n",
    "np.dot(a,b)"
   ]
  },
  {
   "cell_type": "code",
   "execution_count": 100,
   "id": "6bf83aad",
   "metadata": {},
   "outputs": [
    {
     "data": {
      "text/plain": [
       "array([11, 11, 11, 11, 11])"
      ]
     },
     "execution_count": 100,
     "metadata": {},
     "output_type": "execute_result"
    }
   ],
   "source": [
    "a=np.array([1,1,1,1,1])\n",
    "\n",
    "a+10"
   ]
  },
  {
   "cell_type": "code",
   "execution_count": 101,
   "id": "312f8bea",
   "metadata": {},
   "outputs": [
    {
     "data": {
      "text/plain": [
       "array([ 1, -1])"
      ]
     },
     "execution_count": 101,
     "metadata": {},
     "output_type": "execute_result"
    }
   ],
   "source": [
    "np.array([1,-1])*np.array([1,1])"
   ]
  },
  {
   "cell_type": "code",
   "execution_count": 102,
   "id": "93585144",
   "metadata": {},
   "outputs": [
    {
     "data": {
      "text/plain": [
       "0"
      ]
     },
     "execution_count": 102,
     "metadata": {},
     "output_type": "execute_result"
    }
   ],
   "source": [
    "np.dot(np.array([1,-1]),np.array([1,1]))"
   ]
  },
  {
   "cell_type": "code",
   "execution_count": 103,
   "id": "dd0a57e0",
   "metadata": {},
   "outputs": [
    {
     "data": {
      "text/plain": [
       "array([[1, 3, 5, 7],\n",
       "       [2, 4, 6, 8]])"
      ]
     },
     "execution_count": 103,
     "metadata": {},
     "output_type": "execute_result"
    }
   ],
   "source": [
    "A=np.array([[1,2],[3,4],[5,6],[7,8]])\n",
    "A.transpose()"
   ]
  }
 ],
 "metadata": {
  "kernelspec": {
   "display_name": "Python 3 (ipykernel)",
   "language": "python",
   "name": "python3"
  },
  "language_info": {
   "codemirror_mode": {
    "name": "ipython",
    "version": 3
   },
   "file_extension": ".py",
   "mimetype": "text/x-python",
   "name": "python",
   "nbconvert_exporter": "python",
   "pygments_lexer": "ipython3",
   "version": "3.10.4"
  }
 },
 "nbformat": 4,
 "nbformat_minor": 5
}
