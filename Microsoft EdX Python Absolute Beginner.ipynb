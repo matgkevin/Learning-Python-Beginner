{
 "cells": [
  {
   "cell_type": "markdown",
   "metadata": {},
   "source": [
    "# Learning Python From Scratch!\n",
    "With Chweya Matagaro"
   ]
  },
  {
   "cell_type": "markdown",
   "metadata": {},
   "source": [
    "## Types of Cells\n",
    "<p>Code cells: Allow you to enter programming commands<ul>\n",
    "</ul>Markdown: Allows you to enter comments</p>"
   ]
  },
  {
   "cell_type": "markdown",
   "metadata": {},
   "source": [
    "Hashtags & HTML Formatting\n",
    "<p>\n",
    "    Use Hashtags for comments and guiding users.<ul>\n",
    "</ul>HTML formatting in Markdown cells makes it easier to read comments</p>"
   ]
  },
  {
   "cell_type": "code",
   "execution_count": null,
   "metadata": {},
   "outputs": [],
   "source": [
    "#This is a comment, zero output but great for guidance"
   ]
  },
  {
   "cell_type": "markdown",
   "metadata": {},
   "source": [
    "## Check the Python Version\n",
    "<p><code>sys</code> is a built-in Python module that contains many system-specific parameters and functions, including the Python version in use.<ul>\n",
    "</ul>Before using it, we must explictly import it.<ul>\n",
    "</ul>Check the code below<p>"
   ]
  },
  {
   "cell_type": "code",
   "execution_count": null,
   "metadata": {},
   "outputs": [],
   "source": [
    "import sys\n",
    "print(sys.version)"
   ]
  },
  {
   "cell_type": "markdown",
   "metadata": {},
   "source": [
    "## Hello World!\n",
    "<p>Printing this string is the most common innitiation into programming.<ul>\n",
    "    </ul>Create a code cell and type:\n",
    "    <ul>\n",
    "    <li><code>print('Hello World!')</code></li>\n",
    "    <li><code>print(\"Hello World\")</code></li>\n",
    "</ul>Straightfoward right?</p>"
   ]
  },
  {
   "cell_type": "code",
   "execution_count": null,
   "metadata": {},
   "outputs": [],
   "source": [
    "print(\"Hello World\")\n",
    "print('Hello World')"
   ]
  },
  {
   "cell_type": "markdown",
   "metadata": {},
   "source": [
    "<p>Take note of capitalisation of <code>print</code> otherwise you will get a name error since python does not know what particular function you are calling<ul>\n",
    "</ul><code>Hello world</code> is a string hence has to be put in either double or single quotation marks.<ul>\n",
    "</ul>The openning quotation marks have to match the closing quotation marks otherwise a Synatax error</p>"
   ]
  },
  {
   "cell_type": "markdown",
   "metadata": {},
   "source": [
    "## Types of Variables\n",
    "<p><ul>\n",
    "    <li>Strings: They are delimitted by quotation marks</li>\n",
    "    <li>Integers: These are positive and negative whole numbers with no deciaml places</li>\n",
    "    <li>Floats: These are any positive or negative real numbers with at least one decimal place</li>\n",
    "    <li>Boolean: These are two states variables:<ul>\n",
    "        <li>True: Can also take up a value of 1 as an interger or a float</li>\n",
    "        <li>False: Can also take up a value of 0 as an interger or a float</li></ul></li>\n",
    "    <li>Lists:Allows us to </li>\n",
    "    <li>Tuples:</li>\n",
    "    <li>Sets:</li>\n",
    "    <li>Dictionaries:</li>\n",
    "    <li>The <code>type()</code> function lets us know the type of object contained in the parenthesis</li>\n",
    "    \n",
    "</ul></p>"
   ]
  },
  {
   "cell_type": "code",
   "execution_count": null,
   "metadata": {
    "scrolled": true
   },
   "outputs": [],
   "source": [
    "print(type(\"2017\"))\n",
    "print(type(\"2017A\"))\n",
    "print(type(\"Lap\"))"
   ]
  },
  {
   "cell_type": "code",
   "execution_count": null,
   "metadata": {},
   "outputs": [],
   "source": [
    "print(type(2017))\n",
    "print(type(-2017))\n",
    "print(type(20.17))"
   ]
  },
  {
   "cell_type": "code",
   "execution_count": null,
   "metadata": {},
   "outputs": [],
   "source": [
    "print(type(True))\n",
    "print(type(False))"
   ]
  },
  {
   "cell_type": "code",
   "execution_count": null,
   "metadata": {},
   "outputs": [],
   "source": [
    "print(type(['a','b','c']))\n",
    "print(type(('a','b','c')))\n",
    "print(type({'a','b','c'}))\n",
    "print(type({'a':1,'b':2,'c':3}))"
   ]
  },
  {
   "cell_type": "markdown",
   "metadata": {},
   "source": [
    "## Type Casting"
   ]
  },
  {
   "cell_type": "code",
   "execution_count": null,
   "metadata": {},
   "outputs": [],
   "source": [
    "#Type casting allows conversion of character types\n",
    "#int(2.5) converts the number 2.5 to an intereger and so on and so forth\n",
    "print(int(2.5))\n",
    "print(float(120))\n",
    "print(int('2'))\n",
    "print(str(1))\n",
    "print(str(2))"
   ]
  },
  {
   "cell_type": "code",
   "execution_count": null,
   "metadata": {},
   "outputs": [],
   "source": [
    "#Boolean states are either True or False (take note of capitalisation)\n",
    "#True and False can be represented as intergers as either 1 or 0 or their corresponding floats\n",
    "#Type casting of boolean states is possible\n",
    "print(bool(1))\n",
    "print(bool(0))\n",
    "print(int(True))\n",
    "print(int(False))\n",
    "print(float(True))\n",
    "print(float(False))"
   ]
  },
  {
   "cell_type": "code",
   "execution_count": null,
   "metadata": {
    "scrolled": true
   },
   "outputs": [],
   "source": [
    "#The double slash allows us to generate the interger part of a division\n",
    "print(250/6)\n",
    "print(250//6)"
   ]
  },
  {
   "cell_type": "code",
   "execution_count": null,
   "metadata": {},
   "outputs": [],
   "source": [
    "#We can assign value to variables as shown below and perform operations on it\n",
    "x=3\n",
    "y=8\n",
    "z=2*x+y+6\n",
    "z"
   ]
  },
  {
   "cell_type": "markdown",
   "metadata": {},
   "source": [
    "<p><ul>\n",
    "</ul></p>"
   ]
  },
  {
   "cell_type": "markdown",
   "metadata": {},
   "source": [
    "## Errors in Python\n",
    "<p>TypeError: combining strings with digits<ul>\n",
    "</ul>SyntaxError: Not putting matching quotes,assigning a variable name that starts with a number, not closing a bracket<ul>\n",
    "</ul>NameError: Calling a variable that has not been defined, calling a function that does not exist in library e.g.capitalising a function code e.g. Print(....)<p>"
   ]
  },
  {
   "cell_type": "markdown",
   "metadata": {},
   "source": [
    "## Escape Sequence\n",
    "<p>Back slashes represent the beginning of escape sequences.<ul>\n",
    "        <li><code>\\n</code>: makes the words after it skip to the next line</li>\n",
    "        <li><code>\\t</code>: introduces a tab</li>\n",
    "        <li><code>\\\\</code>: introduces a single backslash</li>\n",
    "        <li><code>\\'</code>: allows us to use quotes in a sentence without it delimiting parts of a string</li>\n",
    "        <li><code>\\\"</code>: allows us to use quotes in a sentence without it delimiting parts of a string</li>\n",
    "    \n",
    "</ul><code>r</code> before a string allows us to use a backslash <code>\\</code>without innitating an escape squence\n",
    "</p>"
   ]
  },
  {
   "cell_type": "code",
   "execution_count": null,
   "metadata": {},
   "outputs": [],
   "source": [
    "#\\n makes the words after it skip to the next line\n",
    "print(\"Michael Jackson \\n is the best\")\n",
    "\n",
    "#\\t introduces a tab\n",
    "print(\"Michael Jackson \\t is the best\")\n",
    "\n",
    "#\\\\ introduces a single backslash\n",
    "print(\"Michael Jackson \\\\ is the best\")"
   ]
  },
  {
   "cell_type": "code",
   "execution_count": null,
   "metadata": {},
   "outputs": [],
   "source": [
    "#\\' allows us to use quotes in a sentence without it delimiting parts of a string\n",
    "print('Michael Jackson\\'s best album is Thriller')\n",
    "\n",
    "#\\\" allows us to use quotes in a sentence without it delimiting parts of a string\n",
    "print('The presenter said, \\\"Thriller is thee best album ever!\\\"')"
   ]
  },
  {
   "cell_type": "code",
   "execution_count": null,
   "metadata": {},
   "outputs": [],
   "source": [
    "#r at the begining allows us to use the backslash without introducing an escape sqequence\n",
    "print(r\"Michael Jackson \\n is the best\")\n",
    "print(r\"Michael Jackson \\t is the best\")\n",
    "print(r\"Michael Jackson \\ is the best\")\n",
    "print(r\"Michael Jackson \\\\ is the best\")\n",
    "print(r'Michael Jackson\\'s best album is Thriller')\n",
    "print(r'The presenter said, \\\"Thriller is thee best album ever!\\\"')\n",
    "print(\"Michael Jackson\\n\"r\" \\n is the best\")"
   ]
  },
  {
   "cell_type": "code",
   "execution_count": null,
   "metadata": {},
   "outputs": [],
   "source": [
    "#Double tabs can introduce headers\n",
    "print('Name\\t\\tAge')\n",
    "print('Kamau Ochieng','\\t',20)"
   ]
  },
  {
   "cell_type": "markdown",
   "metadata": {},
   "source": [
    "## Indexing\n",
    "<p>Indexing allows Python to specify the positioning of individual elements or subsections of a variable or a string.<ul>\n",
    "</ul>Python has two ways of indexing:<ul>\n",
    "    <li>Positive Indexing:</li>\n",
    "    <li>Negative Indexing:</li>\n",
    "    </ul>\n",
    "</p>\n",
    "\n",
    "### Positive Indexing\n",
    "<p>Lets examine a variable 'A':<ul>\n",
    "    <li>The first character has an index 0</li>\n",
    "    <li>The second character has an index 1</li>\n",
    "    <li>:</li>\n",
    "    <li>:</li>\n",
    "    <li>The 'n'th character has an index 'n-1'</li>\n",
    "    </ul>\n",
    "\n",
    "### Negative Indexing\n",
    "<p>Lets examine a variable 'A' with 'n' characters:<ul>\n",
    "    <li>The last character has an index -1</li>\n",
    "    <li>The second last character has an index -2</li>\n",
    "    <li>:</li>\n",
    "    <li>:</li>\n",
    "    <li>The first character has an index '-n'</li>\n",
    "    </ul>\n",
    "\n",
    "### <code>len()</code> \n",
    "Function allows us to know the number of elements in a variable or string\n",
    "\n",
    "\n",
    "### <code>A[i]</code>\n",
    "This code allows us to determine the element or variable occupying the 'i'th index of avariable 'A'"
   ]
  },
  {
   "cell_type": "code",
   "execution_count": null,
   "metadata": {},
   "outputs": [],
   "source": [
    "#Lets assign the variable \"car\" the string Mercedes Benz\n",
    "car=\"Mercedes Benz\"\n",
    "print(car)\n",
    "\n",
    "#Len() Generates the number of characters in a variable (thats string in nature)\n",
    "print(len(car))"
   ]
  },
  {
   "cell_type": "code",
   "execution_count": null,
   "metadata": {},
   "outputs": [],
   "source": [
    "#car[0] Generates the 1st characters of a variable(index 0)\n",
    "#car[1] Generates the 2nd characters of a variable(index 1)\n",
    "#car[12] Generates the 13th characters of a variable(index 12)\n",
    "car=\"Mercedes Benz\"\n",
    "print(len(car))\n",
    "print(car[0])\n",
    "print(car[1])\n",
    "print(car[12])"
   ]
  },
  {
   "cell_type": "code",
   "execution_count": null,
   "metadata": {},
   "outputs": [],
   "source": [
    "#car[-1] Generates the last characters of a variable\n",
    "#car[-2] Generates the 2nd last characters of a variable\n",
    "#car[-13] Generates the 13th last last characters of a variable (in our case the 1st character)\n",
    "car=\"Mercedes Benz\"\n",
    "print(car[-1])\n",
    "print(car[-2])\n",
    "print(car[-13])"
   ]
  },
  {
   "cell_type": "code",
   "execution_count": null,
   "metadata": {
    "scrolled": true
   },
   "outputs": [],
   "source": [
    "#The function below uses a loop function to print the index and corresponding element\n",
    "#We will learn how to use the loop function later\n",
    "car=\"Mercedes Benz\"\n",
    "for i in range(len(car)):\n",
    "    print(i,car[i])"
   ]
  },
  {
   "cell_type": "code",
   "execution_count": null,
   "metadata": {
    "scrolled": true
   },
   "outputs": [],
   "source": [
    "#The function below uses a loop function to print the index and corresponding element\n",
    "#We will learn how to use the loop function later\n",
    "car=\"Mercedes\"\n",
    "\n",
    "for i in range(len(car)):\n",
    "    print(-len(car)+i,car[-len(car)+i])"
   ]
  },
  {
   "cell_type": "code",
   "execution_count": null,
   "metadata": {},
   "outputs": [],
   "source": [
    "#The function below uses a loop function to print the index and corresponding element\n",
    "#We will learn how to use the loop function later\n",
    "car=\"Mercedes\"\n",
    "\n",
    "for i in range(len(car)):\n",
    "    print(-i-1,car[-i-1])\n"
   ]
  },
  {
   "cell_type": "markdown",
   "metadata": {},
   "source": [
    "## Slicing\n",
    "Slicing allows you to generate a sub-string from a string"
   ]
  },
  {
   "cell_type": "markdown",
   "metadata": {},
   "source": [
    "### <code>car[a:b]</code>\n",
    "<p>\n",
    "    Generates the substring of a varaiable:<ul>\n",
    "        <li>starting with the 'a+1'st character ('a'th index)</li>\n",
    "        <li>to the 'b'the character ('b-1'th index)</li>\n",
    "        </ul>\n",
    "    <p/>"
   ]
  },
  {
   "cell_type": "code",
   "execution_count": null,
   "metadata": {},
   "outputs": [],
   "source": [
    "car=\"Mercedes Benz\"\n",
    "print(car[9:12])\n",
    "print(car[9:13])"
   ]
  },
  {
   "cell_type": "markdown",
   "metadata": {},
   "source": [
    "### <code>car[a:b:k]</code>\n",
    "<p>\n",
    "    The function generates characters from the substring car[a:b] in the following sequence:<ul>\n",
    "        <li>The 'a+1'st character ('a'th index)</li>\n",
    "        <li>The 'a+1+k'st character ('a+k'th index)</li>\n",
    "        <li>The 'a+1+2k'st character ('a+2k'th index)</li>\n",
    "        <li>The 'a+1+3k'st character ('a+3k'th index)</li>\n",
    "        <li>.</li>\n",
    "        <li>.</li>\n",
    "        <li>.</li>\n",
    "        <li>The last output cannot have an index higher than'b-1'th index</li>\n",
    "        </ul>\n",
    "    <p/>"
   ]
  },
  {
   "cell_type": "code",
   "execution_count": null,
   "metadata": {
    "scrolled": true
   },
   "outputs": [],
   "source": [
    "car=\"Mercedes Benz\"\n",
    "print(car[2:10:1])\n",
    "print(car[2:10:2])\n",
    "print(car[2:10:3])"
   ]
  },
  {
   "cell_type": "code",
   "execution_count": null,
   "metadata": {},
   "outputs": [],
   "source": [
    "car=\"Mercedes Benz\"\n",
    "print(car[-3:-13:-1])\n",
    "print(car[-3:-12:-1])\n",
    "print(car[-3:-13:-2])\n",
    "print(car[-3:-13:-3])"
   ]
  },
  {
   "cell_type": "markdown",
   "metadata": {},
   "source": [
    "### <code>car[a:]</code>\n",
    "<p>\n",
    "    Generates the substring of a varaiable:<ul>\n",
    "        <li>starting with the 'a+1'st character ('a'th index)</li>\n",
    "        <li>to the last character(-1th index)</li>\n",
    "        </ul>\n",
    "    <p/>"
   ]
  },
  {
   "cell_type": "code",
   "execution_count": null,
   "metadata": {},
   "outputs": [],
   "source": [
    "car=\"Mercedes Benz\"\n",
    "print(car[9:])\n",
    "print(car[5:])"
   ]
  },
  {
   "cell_type": "markdown",
   "metadata": {},
   "source": [
    "### <code>car[a::k]</code>\n",
    "<p>\n",
    "    The function generates characters from the substring car[a:] in the following sequence:<ul>\n",
    "        <li>The 'a+1'st character ('a'th index)</li>\n",
    "        <li>The 'a+1+k'st character ('a+k'th index)</li>\n",
    "        <li>The 'a+1+2k'st character ('a+2k'th index)</li>\n",
    "        <li>The 'a+1+3k'st character ('a+3k'th index)</li>\n",
    "        <li>.</li>\n",
    "        <li>.</li>\n",
    "        <li>.</li>\n",
    "        <li>The last output cannot have an index higher than the last character</li>\n",
    "        </ul>\n",
    "    <p/>"
   ]
  },
  {
   "cell_type": "code",
   "execution_count": null,
   "metadata": {},
   "outputs": [],
   "source": [
    "car=\"Mercedes Benz\"\n",
    "print(car[2::1])\n",
    "print(car[2::2])\n",
    "print(car[2::3])"
   ]
  },
  {
   "cell_type": "code",
   "execution_count": null,
   "metadata": {},
   "outputs": [],
   "source": [
    "car=\"Mercedes Benz\"\n",
    "print(car[4::-1])\n",
    "print(car[4::-2])\n",
    "print(car[4::-3])"
   ]
  },
  {
   "cell_type": "markdown",
   "metadata": {},
   "source": [
    "### <code>car[:b]</code>\n",
    "<p>\n",
    "    Generates the substring of a varaiable:<ul>\n",
    "        <li>starting with the 1st character ('0'th index)</li>\n",
    "        <li>to the 'b'the character ('b-1'th index)</li>\n",
    "        </ul>\n",
    "    <p/>"
   ]
  },
  {
   "cell_type": "code",
   "execution_count": null,
   "metadata": {},
   "outputs": [],
   "source": [
    "car=\"Mercedes Benz\"\n",
    "print(car[:9])\n",
    "print(car[:4])"
   ]
  },
  {
   "cell_type": "markdown",
   "metadata": {},
   "source": [
    "### <code>car[:b:k]</code>\n",
    "<p>\n",
    "    The function generates characters from the substring car[a:b] in the following sequence:<ul>\n",
    "        <li>The '1'st character ('0'th index)</li>\n",
    "        <li>The '1+k'st character ('k'th index)</li>\n",
    "        <li>The '1+2k'st character ('2k'th index)</li>\n",
    "        <li>The '1+3k'st character ('3k'th index)</li>\n",
    "        <li>.</li>\n",
    "        <li>.</li>\n",
    "        <li>.</li>\n",
    "        <li>The last output cannot have an index higher than'b-1'th index</li>\n",
    "        </ul>\n",
    "    <p/>"
   ]
  },
  {
   "cell_type": "code",
   "execution_count": null,
   "metadata": {},
   "outputs": [],
   "source": [
    "car=\"Mercedes Benz\"\n",
    "print(car[:10:1])\n",
    "print(car[:10:2])\n",
    "print(car[:10:3])"
   ]
  },
  {
   "cell_type": "code",
   "execution_count": null,
   "metadata": {},
   "outputs": [],
   "source": [
    "car=\"Mercedes Benz\"\n",
    "print(car[:-14:-1])\n",
    "print(car[:-14:-3])"
   ]
  },
  {
   "cell_type": "markdown",
   "metadata": {},
   "source": [
    "### <code>car[::]</code>\n",
    "<p>\n",
    "    Generates the entire string\n",
    "    <p/>"
   ]
  },
  {
   "cell_type": "code",
   "execution_count": null,
   "metadata": {},
   "outputs": [],
   "source": [
    "car=\"Mercedes Benz\"\n",
    "print(car[:])"
   ]
  },
  {
   "cell_type": "markdown",
   "metadata": {},
   "source": [
    "### <code>car[::K]</code>\n",
    "<p>\n",
    "    The function generates characters from the substring car[::] in the following sequence:<ul>\n",
    "        <li>The '1'st character ('0'th index)</li>\n",
    "        <li>The '1+k'st character ('k'th index)</li>\n",
    "        <li>The '1+2k'st character ('2k'th index)</li>\n",
    "        <li>The '1+3k'st character ('3k'th index)</li>\n",
    "        <li>.</li>\n",
    "        <li>.</li>\n",
    "        <li>.</li>\n",
    "        <li>The last output cannot have an index higher than the last index</li>\n",
    "        </ul>\n",
    "</p>"
   ]
  },
  {
   "cell_type": "code",
   "execution_count": null,
   "metadata": {},
   "outputs": [],
   "source": [
    "car=\"Mercedes Benz\"\n",
    "print(car[::1])\n",
    "print(car[::2])\n",
    "print(car[::3])"
   ]
  },
  {
   "cell_type": "code",
   "execution_count": null,
   "metadata": {},
   "outputs": [],
   "source": [
    "car=\"Mercedes Benz\"\n",
    "print(car[::-1])\n",
    "print(car[::-2])\n",
    "print(car[::-3])"
   ]
  },
  {
   "cell_type": "markdown",
   "metadata": {},
   "source": [
    "## String Functions\n",
    "<p>\n",
    "    https://www.w3schools.com/python/python_ref_string.asp<ul>\n",
    "</ul>https://www.w3schools.com/python/python_ref_functions.asp<ul>\n",
    "</ul>https://www.w3schools.com/python/python_ref_list.asp<ul>\n",
    "</ul>https://www.w3schools.com/python/python_ref_dictionary.asp<ul>\n",
    "</ul>https://www.w3schools.com/python/python_ref_tuple.asp<ul>\n",
    "</ul>https://www.w3schools.com/python/python_ref_set.asp<ul>\n",
    "</ul>https://www.w3schools.com/python/python_ref_keywords.asp<ul>\n",
    "</ul>https://www.w3schools.com/python/python_operators.asp<ul>\n",
    "</ul><ul>\n",
    "</ul>\n",
    "</ul></p>\n"
   ]
  },
  {
   "cell_type": "code",
   "execution_count": 28,
   "metadata": {},
   "outputs": [
    {
     "data": {
      "text/plain": [
       "'²'"
      ]
     },
     "execution_count": 28,
     "metadata": {},
     "output_type": "execute_result"
    }
   ],
   "source": [
    "\"\\u00B2\""
   ]
  },
  {
   "cell_type": "markdown",
   "metadata": {},
   "source": [
    "## <code>A.replace(x,y)</code>\n",
    "<p>\n",
    "<code>A.replace(x,y)</code> function searches for <code>x</code> in variable <code>A</code>, if it find it it replaces it with <code>y</code> otherwise it leaves <code>A</code> unaffected.<ul>\n",
    "</ul>Sensitive to capitalisation and use quotation marks if substring or variable is undefined\n",
    "</p>"
   ]
  },
  {
   "cell_type": "code",
   "execution_count": null,
   "metadata": {
    "scrolled": true
   },
   "outputs": [],
   "source": [
    "car=\"Mercedes Benz\"\n",
    "print(len(car))\n",
    "print(car.replace(\"cab\", \"Truck\"))\n",
    "print(car.replace(\"Benz\", \"Truck\"))\n",
    "print(car.replace(car[9:13], \"Boat\"))"
   ]
  },
  {
   "cell_type": "markdown",
   "metadata": {},
   "source": [
    "## <code>A.find('x')</code>\n",
    "<p>\n",
    "<code>A.find('x')</code> function generates the index the substring <code>'x'</code> first appears in variable <code>A</code>\n",
    "</p>"
   ]
  },
  {
   "cell_type": "code",
   "execution_count": null,
   "metadata": {},
   "outputs": [],
   "source": [
    "#.find() Generates the index the substring first appears in our variable, (character number=index+1)\n",
    "car=\"Mercedes Benz\"\n",
    "print(len(car))\n",
    "print(car.find(\"Benz\"))\n",
    "print(car.find(\"es\"))"
   ]
  },
  {
   "cell_type": "markdown",
   "metadata": {},
   "source": [
    "## <code>A.count('x')</code>\n",
    "<p>\n",
    "<code>A.count('x')</code> function counts the number of times the substring <code>'x'</code> appears in variable <code>A</code>\n",
    "</p>"
   ]
  },
  {
   "cell_type": "code",
   "execution_count": null,
   "metadata": {},
   "outputs": [],
   "source": [
    "car=\"Mercedes Benz\"\n",
    "print(car.count('e'))\n",
    "print(car.count('a'))"
   ]
  },
  {
   "cell_type": "code",
   "execution_count": null,
   "metadata": {},
   "outputs": [],
   "source": [
    "#n*a multiplies a string 'a' n times\n",
    "car=\"Mercedes Benz\"\n",
    "print(3*car)\n",
    "print(car*3)\n",
    "#Space\n",
    "print(\"\\n\")\n",
    "print(3*(car+\" \"))\n",
    "print((car+\" \")*3)"
   ]
  },
  {
   "cell_type": "markdown",
   "metadata": {},
   "source": [
    "## Formating Case and Replacing parts of a String"
   ]
  },
  {
   "cell_type": "code",
   "execution_count": null,
   "metadata": {},
   "outputs": [],
   "source": [
    "#Change case of a string\n",
    "sentence=student_name+\" are both 20 years old\"\n",
    "print(sentence)\n",
    "print('upper():\\t\\t\\t',sentence.upper())\n",
    "print('lower():\\t\\t\\t',sentence.lower())\n",
    "print('title():\\t\\t\\t',sentence.title(),'\\n')\n",
    "print('swapcase():\\t\\t\\t',sentence.swapcase())\n",
    "print('capitalize():\\t\\t\\t',sentence.capitalize())\n",
    "print('replace Gale with Stephanie:\\t',sentence.replace(\"Gale\", \"Stephanie\"))"
   ]
  },
  {
   "cell_type": "code",
   "execution_count": null,
   "metadata": {},
   "outputs": [],
   "source": [
    "#Combine strings using comma instead of plus sign. Note with commas you do not have to leave spaces between words\n",
    "#With commas you can combine strings with numbers without a type error arising\n",
    "sentence1='Happy birthday to',student_name,'who are both turning 20 years old.'\n",
    "print('Happy birthday to',student_name,'who are both turning 20 years old.')\n",
    "print(sentence1)\n",
    "sentence1"
   ]
  },
  {
   "cell_type": "markdown",
   "metadata": {},
   "source": [
    "## Input Function"
   ]
  },
  {
   "cell_type": "code",
   "execution_count": null,
   "metadata": {},
   "outputs": [],
   "source": [
    "#input() always converts all variables into strings\n",
    "print(\"enter small int\")\n",
    "small_int=input()\n",
    "print(small_int)\n",
    "print(type(small_int))"
   ]
  },
  {
   "cell_type": "code",
   "execution_count": null,
   "metadata": {},
   "outputs": [],
   "source": [
    "small_int1=input(\"enter small int1: \")\n",
    "print(small_int1)\n",
    "print(int(float(small_int1)))"
   ]
  },
  {
   "cell_type": "code",
   "execution_count": null,
   "metadata": {},
   "outputs": [],
   "source": [
    "#input: Florence and Gale\n",
    "student_name=input(\"enter student name \")\n",
    "print(\"Hi \"+student_name)"
   ]
  },
  {
   "cell_type": "markdown",
   "metadata": {},
   "source": [
    "# Comparison Operators\n",
    "#equal: ==\n",
    "#not equal: !=\n",
    "#greater than: >\n",
    "#less than: <\n",
    "#greater than or equal to: >=\n",
    "#less than or equal to: <="
   ]
  },
  {
   "cell_type": "code",
   "execution_count": null,
   "metadata": {},
   "outputs": [],
   "source": [
    "#Boolean string test: only works on strings\n",
    "\n",
    "#Is string Alphabetical characters\n",
    "print(\"Python\".isalpha())"
   ]
  },
  {
   "cell_type": "code",
   "execution_count": null,
   "metadata": {},
   "outputs": [],
   "source": [
    "#is string alphanumeric\n",
    "print(\"Python\".isalnum())\n",
    "print(\"3\".isalnum())\n",
    "print(\"3rd\".isalnum())"
   ]
  },
  {
   "cell_type": "code",
   "execution_count": null,
   "metadata": {},
   "outputs": [],
   "source": [
    "#is string digits\n",
    "print(\"Python\".isdigit())\n",
    "print(\"3\".isdigit())\n",
    "print(\"3rd\".isdigit())"
   ]
  },
  {
   "cell_type": "code",
   "execution_count": null,
   "metadata": {},
   "outputs": [],
   "source": [
    "#Case of string lower case\n",
    "print(\"Python\".islower())\n",
    "print(\"python\".islower())\n",
    "print(\"Python is Great\".istitle())\n",
    "print(\"Python Is Great\".istitle())"
   ]
  },
  {
   "cell_type": "code",
   "execution_count": null,
   "metadata": {},
   "outputs": [],
   "source": [
    "#Starts with (note this is case sensitive)\n",
    "print(\"Python\".startswith(\"p\"))\n",
    "print(\"Python\".startswith(\"P\"))\n",
    "print(\"Python\".startswith(\"Pyt\"))\n",
    "print(\"Python\".startswith(\"Pyo\"))"
   ]
  },
  {
   "cell_type": "code",
   "execution_count": null,
   "metadata": {},
   "outputs": [],
   "source": [
    "#Ends with (note this is case sensitive)\n",
    "print(\"Python\".endswith(\"n\"))\n",
    "print(\"Python\".endswith(\"N\"))\n",
    "print(\"Python\".endswith(\"hon\"))\n",
    "print(\"Python\".endswith(\"HON\"))"
   ]
  },
  {
   "cell_type": "code",
   "execution_count": null,
   "metadata": {},
   "outputs": [],
   "source": [
    "print(sentence)\n",
    "print(sentence1)\n",
    "print(\"gale\".lower() in sentence.lower())"
   ]
  },
  {
   "cell_type": "code",
   "execution_count": null,
   "metadata": {},
   "outputs": [],
   "source": [
    "#input: milk, dairy, peanuts, oysters\n",
    "menu=input(\"What have you eaten in the last 24 Hours?\")\n",
    "print('It is','dairy'.lower() in menu.lower(),'that \"'+menu.lower()+'\" contains dairy')\n",
    "print('It is','nuts'.lower() in menu.lower(),'that \"'+menu.lower()+'\" contains nuts')\n",
    "print('It is','seafood'.lower() in menu.lower(),'that \"'+menu.lower()+'\" contains seafood')\n",
    "print('It is','chocolate'.lower() in menu.lower(),'that \"'+menu.lower()+'\" contains chocolate')"
   ]
  },
  {
   "cell_type": "code",
   "execution_count": null,
   "metadata": {},
   "outputs": [],
   "source": [
    "\"hello\" < \"Hello\""
   ]
  },
  {
   "cell_type": "markdown",
   "metadata": {},
   "source": [
    "Inequality operation is also used to compare the letters/words/symbols according to the ASCII value of letters. The decimal value shown in the following table represents the order of the character:\n",
    "\n",
    "For example, the ASCII code for ! is 21, while the ASCII code for + is 43. Therefore + is larger than ! as 43 is greater than 21.\n",
    "\n",
    "Similarly, the value for A is 101, and the value for B is 102 therefore:\n",
    "\n",
    "When there are multiple letters, the first letter takes precedence in ordering:\n",
    "lower case \"a\" is greater than upper case \"A\""
   ]
  },
  {
   "cell_type": "code",
   "execution_count": null,
   "metadata": {},
   "outputs": [],
   "source": [
    "# Compare characters\n",
    "print('B' > 'A')\n",
    "print('BA' > 'AB')"
   ]
  },
  {
   "cell_type": "markdown",
   "metadata": {},
   "source": [
    "# Tuples"
   ]
  },
  {
   "cell_type": "code",
   "execution_count": null,
   "metadata": {
    "scrolled": true
   },
   "outputs": [],
   "source": [
    "#Tuple are closed by parenthesis(a,b,c,d)\n",
    "#Tuple can conatain strings, floats and intergers\n",
    "exam_marks=(0.7,0.8,0.45,0.25,(0.1,0.5),0.67)\n",
    "\n",
    "#We can access specific indexes of a tuple\n",
    "print(len(exam_marks))\n",
    "print(exam_marks[0])\n",
    "print(exam_marks[1])\n",
    "\n",
    "#Space\n",
    "print(\"\\n\")\n",
    "#We can nestle a tuple within a Tuple for example index four is a tuple within our main tuple\n",
    "print(exam_marks[4])\n",
    "print(exam_marks[4][0])\n",
    "print(exam_marks[4][1])\n",
    "\n",
    "#Space\n",
    "print(\"\\n\")\n",
    "#We sort the elemets within a tuple\n",
    "exam_marks=(0.7,0.8,0.45,0.25,0.1,0.5,0.67)\n",
    "print(sorted(exam_marks))"
   ]
  },
  {
   "cell_type": "code",
   "execution_count": null,
   "metadata": {},
   "outputs": [],
   "source": [
    "#We can slice a tuple using their indexing\n",
    "exam_marks=(0.7,0.8,0.45,0.25,(0.1,0.5),0.67)\n",
    "print(exam_marks[1:3])\n",
    "print(exam_marks[1:4])\n",
    "print(exam_marks[1:5])\n",
    "print(\"\\n\")\n",
    "#Tuples are immutable, i.e. cannot be changed\n",
    "#They may reference the same data but changing one tuple does not affect other tuples referencing the exact same data\n",
    "exam_marks1=exam_marks\n",
    "print(exam_marks1)\n",
    "print(\"\\n\")\n",
    "exam_marks=(0.0,0.8,0.45,0.25,(0.1,0.5),0.67)\n",
    "print(exam_marks)\n",
    "print(exam_marks1)"
   ]
  },
  {
   "cell_type": "markdown",
   "metadata": {},
   "source": [
    "# Lists"
   ]
  },
  {
   "cell_type": "code",
   "execution_count": null,
   "metadata": {},
   "outputs": [],
   "source": [
    "#Lists are enclosed by square brackets [a,b,c,d]\n",
    "#List like tuples can conatain strings, floats and intergers\n",
    "#We can access specific indexes of a List\n",
    "#We can nestle tuples and lists within a list for example index 2 and 4\n",
    "CAT_marks=[0.7,0.8,['english',0.25],0.5,(0.1,0.5),0.67]\n",
    "print(CAT_marks)\n",
    "print(CAT_marks[2])\n",
    "print(CAT_marks[4])\n"
   ]
  },
  {
   "cell_type": "code",
   "execution_count": null,
   "metadata": {},
   "outputs": [],
   "source": [
    "#We can add elements to a list by using the addition function or the .extend(e,f,g)\n",
    "CAT_marks=[0.7,0.8,['english',0.25],0.5,(0.1,0.5),0.67]\n",
    "CAT_marks=CAT_marks+['pop',10]+['corn',11]\n",
    "print(CAT_marks)\n",
    "\n",
    "CAT_marks=[0.7,0.8,['english',0.25],0.5,(0.1,0.5),0.67]\n",
    "CAT_marks.extend(['pop',10])\n",
    "CAT_marks.extend(('corn',11))\n",
    "print(CAT_marks)"
   ]
  },
  {
   "cell_type": "code",
   "execution_count": null,
   "metadata": {},
   "outputs": [],
   "source": [
    "#We can add elements to a list in the form of tuples or list by using the addition function or the .append(e,f,g)\n",
    "CAT_marks=[0.7,0.8,['english',0.25],0.5,(0.1,0.5),0.67]\n",
    "CAT_marks=CAT_marks+[['pop',10]]+[('corn',11)]\n",
    "print(CAT_marks)\n",
    "\n",
    "CAT_marks=[0.7,0.8,['english',0.25],0.5,(0.1,0.5),0.67]\n",
    "CAT_marks.append(['pop',10])\n",
    "CAT_marks.append(('corn',11))\n",
    "print(CAT_marks)"
   ]
  },
  {
   "cell_type": "code",
   "execution_count": 53,
   "metadata": {},
   "outputs": [
    {
     "name": "stdout",
     "output_type": "stream",
     "text": [
      "['pension', 0.8, ['english', 0.25], 0.5, (0.1, 0.5), 0.67]\n",
      "[0.7, 0.8, ['english', 0.25], 0.5, (0.1, 0.5), 0.67]\n",
      "['english', 0.25]\n",
      "[0.7, 0.8, 0.5, (0.1, 0.5), 0.67]\n",
      "[0.7, 'Welding', 0.8, ['english', 0.25], 0.5, (0.1, 0.5), 0.67]\n"
     ]
    }
   ],
   "source": [
    "#We can change the elements of a list\n",
    "CAT_marks=[0.7,0.8,['english',0.25],0.5,(0.1,0.5),0.67]\n",
    "CAT_marks[0]='pension'\n",
    "print(CAT_marks)\n",
    "\n",
    "#We can delete the elements of a list by using their index number\n",
    "CAT_marks=[0.7,0.8,['english',0.25],0.5,(0.1,0.5),0.67]\n",
    "print(CAT_marks)\n",
    "print(CAT_marks[2])\n",
    "del CAT_marks[2]\n",
    "print(CAT_marks)\n",
    "\n",
    "#We can insert an element in a list\n",
    "#The .insert(i,x) function inserts the varaibale 'x' in list 1 and it occupies index i in the list\n",
    "CAT_marks=[0.7,0.8,['english',0.25],0.5,(0.1,0.5),0.67]\n",
    "CAT_marks.insert(1,'Welding')\n",
    "print(CAT_marks)"
   ]
  },
  {
   "cell_type": "code",
   "execution_count": null,
   "metadata": {},
   "outputs": [],
   "source": [
    "#We can convert a string into a list by using a the .split() function\n",
    "#The split function searches for the delimeter we have specified and breaks every element of the string  in between the delimeters into memebrs of a list\n",
    "#The split function below uses the comma as a delimeter\n",
    "\"A,B,C,D\".split(\",\")"
   ]
  },
  {
   "cell_type": "markdown",
   "metadata": {},
   "source": [
    "# Aliasing Lists"
   ]
  },
  {
   "cell_type": "code",
   "execution_count": null,
   "metadata": {},
   "outputs": [],
   "source": [
    "#Aliasing: When we set a list B=A, then both A & B are referrencing the same list.\n",
    "#When there is aliasing, changing an element in A will affect list B as well and vice versa\n",
    "A=['English', 'P.E', 'Science', 'Mathematics']\n",
    "B=A\n",
    "print(A)\n",
    "print(B)\n",
    "A[2]='Kung FU'\n",
    "print(A)\n",
    "print(B)\n",
    "B[2]='Taekwondo'\n",
    "print(A)\n",
    "print(B)"
   ]
  },
  {
   "cell_type": "markdown",
   "metadata": {},
   "source": [
    "# Cloning Lists"
   ]
  },
  {
   "cell_type": "code",
   "execution_count": null,
   "metadata": {
    "scrolled": true
   },
   "outputs": [],
   "source": [
    "#Cloning: When we set a list B=A[:], B will create a separate list that is exactly the same with list A\n",
    "#Variable A & B are now referecing separate lists. We can therfore change an element in A withiut affecting B and vice versa\n",
    "A=['English', 'P.E', 'Science', 'Mathematics']\n",
    "B=A[:]\n",
    "print(A)\n",
    "print(B)\n",
    "A[2]='Kung FU'\n",
    "print(A)\n",
    "print(B)\n",
    "B[2]='Taekwondo'\n",
    "print(A)\n",
    "print(B)"
   ]
  },
  {
   "cell_type": "markdown",
   "metadata": {},
   "source": [
    "# Sorting Lists: Sorted()\n",
    "Sorted() creates a new list that is ordered in either ascending or descending order"
   ]
  },
  {
   "cell_type": "code",
   "execution_count": null,
   "metadata": {},
   "outputs": [],
   "source": [
    "Exam_Marks=[80,85,55,60,25,75]\n",
    "ascending_exam_marks=sorted(Exam_Marks)\n",
    "descending_exam_marks=sorted(Exam_Marks,reverse=True)\n",
    "\n",
    "print('ascending:',ascending_exam_marks)\n",
    "print('descending:',descending_exam_marks)"
   ]
  },
  {
   "cell_type": "markdown",
   "metadata": {},
   "source": [
    "# Sorting Lists: Sort()\n",
    "Sort() rearranges the elements of the existing list in either ascending or descending order"
   ]
  },
  {
   "cell_type": "code",
   "execution_count": null,
   "metadata": {},
   "outputs": [],
   "source": [
    "Exam_marks=[80,85,55,60,25,75]\n",
    "Exam_marks.sort()\n",
    "\n",
    "print('Ascending:',Exam_marks)"
   ]
  },
  {
   "cell_type": "code",
   "execution_count": null,
   "metadata": {},
   "outputs": [],
   "source": [
    "Exam_marks=[80,85,55,60,25,75]\n",
    "Exam_marks.sort(reverse=True)\n",
    "\n",
    "print('Descending:',Exam_marks)"
   ]
  },
  {
   "cell_type": "code",
   "execution_count": null,
   "metadata": {},
   "outputs": [],
   "source": [
    "Exam_marks=[80,85,55,60,25,75]\n",
    "Exam_marks.reverse()\n",
    "\n",
    "print('reverse order of elements:',Exam_marks)"
   ]
  },
  {
   "cell_type": "markdown",
   "metadata": {},
   "source": [
    "# Summming Elements of a list\n"
   ]
  },
  {
   "cell_type": "code",
   "execution_count": null,
   "metadata": {},
   "outputs": [],
   "source": [
    "Exam_marks=[80,85,55,60,25,75]\n",
    "sum(Exam_marks)"
   ]
  },
  {
   "cell_type": "markdown",
   "metadata": {},
   "source": [
    "# Sets"
   ]
  },
  {
   "cell_type": "code",
   "execution_count": null,
   "metadata": {},
   "outputs": [],
   "source": [
    "#Sets are created by enclosing elements in curly brackets\n",
    "#They only contain unique elelments hence they automatically remove duplicates\n",
    "#Unlike tuples & lists, they are unordered i.e. elements are not indexed\n",
    "cartoons_list=['Tom & Jerry', \"Penguins\", 'Dora', 'Tom & Jerry']\n",
    "#We can convert the above list into a set by using type casting\n",
    "cartoons_set=set(cartoons_list)\n",
    "print(cartoons_set)"
   ]
  },
  {
   "cell_type": "code",
   "execution_count": null,
   "metadata": {},
   "outputs": [],
   "source": [
    "#Set Operations\n",
    "#Adding elemets in a set \n",
    "cartoons_set=set(cartoons_list)\n",
    "print(cartoons_set)\n",
    "cartoons_set.add('Batman')\n",
    "print(cartoons_set)\n",
    "print('\\n')\n",
    "#Delete elements of a set\n",
    "cartoons_set.remove('Dora')\n",
    "print(cartoons_set)\n",
    "#Check whether an element is in a set\n",
    "print('Dora'in cartoons_set)\n",
    "print('Batman'in cartoons_set)"
   ]
  },
  {
   "cell_type": "code",
   "execution_count": null,
   "metadata": {},
   "outputs": [],
   "source": [
    "#Intersection of 2 sets can be obtained by using '&'\n",
    "cartoons_A={'Tom & Jerry', \"Penguins\", 'Dora', 'Spider Man'}\n",
    "cartoons_B={'Tom & Jerry', \"Penguins\", 'Batman', 'Flash'}\n",
    "print(cartoons_A&cartoons_B)\n",
    "cartoons_C=cartoons_A&cartoons_B\n",
    "print(cartoons_C)\n",
    "print('\\n')\n",
    "\n",
    "#Union of 2 sets can be obtained by using '.union'\n",
    "print(cartoons_A.union(cartoons_B))\n",
    "print(cartoons_A.union(cartoons_B).union(cartoons_C))\n",
    "print('\\n')\n",
    "\n",
    "#We can test if a set is a subset of another\n",
    "cartoons_universe=cartoons_A.union(cartoons_B)\n",
    "print(cartoons_universe.issubset(cartoons_A))\n",
    "print(cartoons_A.issubset(cartoons_universe))"
   ]
  },
  {
   "cell_type": "markdown",
   "metadata": {},
   "source": [
    "# Dictionaries"
   ]
  },
  {
   "cell_type": "code",
   "execution_count": null,
   "metadata": {},
   "outputs": [],
   "source": [
    "#Dictionaries: Each entry contains 2 elements: A key and a value. The key & value pairs are enclosed in curly brackets\n",
    "#Keys and their values are spearated by a collon ':'\n",
    "#Keys are unique, and immutable. They behave like indexes in lists and tuples hence we can access a value based on its key\n",
    "#Values are mutable and are not necessarily unique\n",
    "#Key & value pairs are separated by a comma\n",
    "\n",
    "topic_marks={'kis':85,'eng':80, 'math':95, 'sci':87}\n",
    "print(topic_marks)\n",
    "print('\\n')\n",
    "\n",
    "#Using the keys as indexes\n",
    "print('english score is ', topic_marks['eng'])\n",
    "\n",
    "#Checking for existence of keys\n",
    "print('geog'in topic_marks)\n",
    "print('math'in topic_marks)\n",
    "\n",
    "#Generating a list of all keys in a dictionary\n",
    "print(topic_marks.keys())\n",
    "\n",
    "#Generating a list of all values in a dictionary\n",
    "print(topic_marks.values())"
   ]
  },
  {
   "cell_type": "code",
   "execution_count": null,
   "metadata": {},
   "outputs": [],
   "source": [
    "#Adding entries into Dictionaries\n",
    "topic_marks={'kis':85,'eng':80, 'math':95, 'sci':87}\n",
    "topic_marks['agric']=75\n",
    "print(topic_marks)\n",
    "\n",
    "#Deleting entries into Dictionaries\n",
    "del(topic_marks['eng'])\n",
    "print(topic_marks)"
   ]
  },
  {
   "cell_type": "markdown",
   "metadata": {},
   "source": [
    "# If, Else, Elif, Pass"
   ]
  },
  {
   "cell_type": "code",
   "execution_count": null,
   "metadata": {},
   "outputs": [],
   "source": [
    "release_year=1950\n",
    "if release_year<1980:\n",
    "    print(release_year)\n",
    "elif release_year==1991:\n",
    "    print(release_year)\n",
    "elif release_year==1993:\n",
    "    print(release_year)\n",
    "else:\n",
    "    pass"
   ]
  },
  {
   "cell_type": "code",
   "execution_count": null,
   "metadata": {},
   "outputs": [],
   "source": [
    "answer=input(\"Motor cycles have 2 wheels, True or False? \")\n",
    "if answer.lower()=='true' or answer.lower()=='false':\n",
    "    if answer.lower()=='true':\n",
    "        print(\"You are Correct\")\n",
    "    else:\n",
    "        print(\"You are Wrong\")\n",
    "else:\n",
    "    print(\"Try and again, input either 'True' or 'False'\")\n",
    "    \n"
   ]
  },
  {
   "cell_type": "code",
   "execution_count": null,
   "metadata": {},
   "outputs": [],
   "source": [
    "x = 3\n",
    "y = \"6\" \n",
    "\n",
    "# get_diff takes an int and a str\n",
    "def get_diff(xint, ystr):\n",
    "    return int(ystr)-xint\n",
    "    \n",
    "\n",
    "if y.isdigit() == False:\n",
    "    print('\"y\" is not an integer string')\n",
    "elif get_diff(x,y) == 0:\n",
    "    print('x equal to y')\n",
    "else:\n",
    "    print('x is NOT equal to y')\n"
   ]
  },
  {
   "cell_type": "code",
   "execution_count": null,
   "metadata": {},
   "outputs": [],
   "source": [
    "size_num = \"8 9 10\"\n",
    "\n",
    "size = \"8\" # user input\n",
    "\n",
    "if size.isdigit() == False:\n",
    "    print(\"Invalid: size should only use digits\")\n",
    "elif int(size) < 8:\n",
    "    print(\"size is too low\")\n",
    "elif size in size_num:\n",
    "    print(\"size is recorded\")\n",
    "else:\n",
    "    print(\"size is too high\")"
   ]
  },
  {
   "cell_type": "code",
   "execution_count": null,
   "metadata": {},
   "outputs": [],
   "source": [
    "price_per_kg=20.0\n",
    "purchase=input('Enter weight of desired purchase in kgs ')\n",
    "\n",
    "if type(float(purchase))!=float:\n",
    "    print(\"Enter weight of desired purchase in digits only\")\n",
    "elif float(purchase)<1:\n",
    "    print('Sorry, your desired purchase of', purchase, 'kgs of cheese is below our minimum order of 1kg.\\nWould you like to change your order tom more than 1kg?')\n",
    "elif float(purchase)>100:\n",
    "    print('Sorry, your desired purchase of', purchase, 'kgs of cheese is more than our current stock of 100kgs.\\nWould you like to change your order to 100kgs?')\n",
    "else:\n",
    "    print('The cost of',purchase,'kgs of cheese is $', float(purchase)*price_per_kg)"
   ]
  },
  {
   "cell_type": "code",
   "execution_count": null,
   "metadata": {},
   "outputs": [],
   "source": [
    "price_per_kg=20.0\n",
    "purchase=input('Enter weight of desired purchase in kgs in digits only ')\n",
    "\n",
    "if float(purchase)<1:\n",
    "    print('Sorry, your desired purchase of', purchase, 'kgs of cheese is below our minimum order of 1kg.\\nWould you like to change your order tom more than 1kg?')\n",
    "elif float(purchase)>100:\n",
    "          print('Sorry, your desired purchase of', purchase, 'kgs of cheese is more than our current stock of 100kgs.\\nWould you like to change your order to 100kgs?')\n",
    "elif float(purchase)>1 and float(purchase)<100:\n",
    "    print('The cost of',purchase,'kgs of cheese is $', float(purchase)*price_per_kg)\n",
    "else:\n",
    "    print(\"Enter weight of desired purchase in digits only\")"
   ]
  },
  {
   "cell_type": "code",
   "execution_count": null,
   "metadata": {},
   "outputs": [],
   "source": [
    "print('\\\"What\\'s that?\\\" isn\\'t a specific question')"
   ]
  },
  {
   "cell_type": "markdown",
   "metadata": {},
   "source": [
    "# Range"
   ]
  },
  {
   "cell_type": "code",
   "execution_count": null,
   "metadata": {},
   "outputs": [],
   "source": [
    "#range(n) if n is a +ve interger the function outputs a list containig n intergers starting from zero upto interger n-1\n",
    "numbers=range(5)\n",
    "print(numbers[0], numbers[1], numbers[2], numbers[3], numbers[4])\n"
   ]
  },
  {
   "cell_type": "code",
   "execution_count": null,
   "metadata": {},
   "outputs": [],
   "source": [
    "#range(a,b) if a & b is a +ve intergers and a<b, the function outputs a list containig b-a intergers starting from a upto b-1\n",
    "numbers=range(10,15)\n",
    "print(numbers[0], numbers[1], numbers[2], numbers[3], numbers[4])"
   ]
  },
  {
   "cell_type": "markdown",
   "metadata": {},
   "source": [
    "# For Loops\n",
    "They run a sequence of operations a set number of times"
   ]
  },
  {
   "cell_type": "code",
   "execution_count": null,
   "metadata": {},
   "outputs": [],
   "source": [
    "#Prints elements in the list\n",
    "#Uses range function to determine number of iterations needed to accomplish\n",
    "A=[1,2,3,4,5]\n",
    "for i in range(len(A)):\n",
    "    print(A[i])"
   ]
  },
  {
   "cell_type": "code",
   "execution_count": null,
   "metadata": {},
   "outputs": [],
   "source": [
    "#Prints elements in the list\n",
    "A=[1,2,3,4,5]\n",
    "for a in A:\n",
    "    print(a)"
   ]
  },
  {
   "cell_type": "code",
   "execution_count": null,
   "metadata": {},
   "outputs": [],
   "source": [
    "#Prints index and corresponding element\n",
    "A=[1,2,3,4,5]\n",
    "for i, a in enumerate(A):\n",
    "    print(i, a)"
   ]
  },
  {
   "cell_type": "code",
   "execution_count": null,
   "metadata": {},
   "outputs": [],
   "source": [
    "#Prints index and corresponding element in tuples\n",
    "A=[1,2,3,4,5]\n",
    "for i in enumerate(A):\n",
    "    print(i)"
   ]
  },
  {
   "cell_type": "code",
   "execution_count": null,
   "metadata": {},
   "outputs": [],
   "source": [
    "#For loops\n",
    "old_car_fuel_level=[0.0,0.5,0.75,0.25,0.1,0.2]\n",
    "\n",
    "#printing the tuples in object directly\n",
    "for levels in enumerate(old_car_fuel_level):\n",
    "    print(levels)\n",
    "print('\\n')\n",
    "\n",
    "#changing index and printing separately\n",
    "for count, levels in enumerate(old_car_fuel_level,10):\n",
    "    print(count,levels)"
   ]
  },
  {
   "cell_type": "code",
   "execution_count": null,
   "metadata": {},
   "outputs": [],
   "source": [
    "#For loops\n",
    "#We have a pool of cars and the list below indicates the tank levels\n",
    "\n",
    "old_car_fuel_level=[0.00,0.50,0.75,0.25,0.10,0.20]\n",
    "\n",
    "#We are refuelling all vehicles to a level of 1\n",
    "#We first create two empty lists for new fuel levels and refuelling requirement\n",
    "\n",
    "new_car_fuel_level=[]\n",
    "car_refuelling_Level=[]\n",
    "\n",
    "#We then use the extend() function to add elements to our empty lists\n",
    "\n",
    "for i in range(len(old_car_fuel_level)):\n",
    "    new_car_fuel_level.extend([1.0])\n",
    "    car_refuelling_Level.extend([new_car_fuel_level[i]-old_car_fuel_level[i]])\n",
    "\n",
    "\n",
    "print('Initial fuel levels:\\t',old_car_fuel_level)\n",
    "print('Re-fueling requirement:\\t',car_refuelling_Level)\n",
    "print('New fuel levels:\\t',new_car_fuel_level)"
   ]
  },
  {
   "cell_type": "markdown",
   "metadata": {},
   "source": [
    "# While Loops\n",
    "The loop runs as long us a condition is met. Because of this they are capable of running for perpetuity.\n",
    "Such a loop can only be broken by the condition not being met or by including a break function in the code"
   ]
  },
  {
   "cell_type": "code",
   "execution_count": null,
   "metadata": {},
   "outputs": [],
   "source": [
    "while True:\n",
    "    print('write forever, unless there is a \"break\"')\n",
    "    break"
   ]
  },
  {
   "cell_type": "code",
   "execution_count": null,
   "metadata": {},
   "outputs": [],
   "source": [
    "#While loops\n",
    "old_car_fuel_level=[0.0,0.5,0.75,0.25,0.05,0.2]\n",
    "old_car_fuel_level.sort()\n",
    "\n",
    "desired_car_fuel_level=[]\n",
    "fueling_requirement=[]\n",
    "total_fuel_requirement=0\n",
    "fuel_reserves=4.5\n",
    "\n",
    "new_car_fuel_level=old_car_fuel_level[:]\n",
    "\n",
    "\n",
    "for i in range(len(old_car_fuel_level)):\n",
    "    desired_car_fuel_level.extend([1.00])\n",
    "    fueling_requirement.extend([0.00])\n",
    "    fueling_requirement[i]= desired_car_fuel_level[i]-old_car_fuel_level[i]\n",
    "    total_fuel_requirement=fueling_requirement[i]+total_fuel_requirement\n",
    "\n",
    "print('Cumulative fuel requirement:\\t',total_fuel_requirement,'ltrs')\n",
    "#We want to top up the vehicles but our reserves holds only 3.5litres\n",
    "#Once we exhaust the 3.5 litres we stop refuelling\n",
    "\n",
    "i=0\n",
    "while fuel_reserves>0 and i<=len(old_car_fuel_level)-1:\n",
    "    new_car_fuel_level[i]=old_car_fuel_level[i]+min(fueling_requirement[i],fuel_reserves)\n",
    "    fuel_reserves=fuel_reserves-min(fueling_requirement[i],fuel_reserves)\n",
    "    \n",
    "    i=i+1\n",
    "    \n",
    "\n",
    "print('Initial fuel levels:\\t',old_car_fuel_level)\n",
    "print('Desired fuel levels:\\t',desired_car_fuel_level)\n",
    "print('Fueling requirement:\\t',fueling_requirement)\n",
    "print('New fuel levels:\\t',new_car_fuel_level)\n",
    "print(fuel_reserves)"
   ]
  },
  {
   "cell_type": "markdown",
   "metadata": {},
   "source": [
    "## Incrementing a Variable"
   ]
  },
  {
   "cell_type": "code",
   "execution_count": null,
   "metadata": {},
   "outputs": [],
   "source": [
    "#increment i by n=1 to a max of 5\n",
    "n=1\n",
    "i=0\n",
    "max_i=5\n",
    "while i<=max_i-n:\n",
    "    print(i)\n",
    "    i=i+n\n",
    "    \n",
    "    if i>=max_i:\n",
    "        print(i)\n",
    "        print('We cannot increment past', max_i)\n",
    "        break"
   ]
  },
  {
   "cell_type": "code",
   "execution_count": null,
   "metadata": {},
   "outputs": [],
   "source": [
    "#increment i by n=1 to a max of 5\n",
    "n=1\n",
    "i=0\n",
    "max_i=5\n",
    "\n",
    "while i<=max_i-n:\n",
    "    print(i)\n",
    "    i+=n\n",
    "    \n",
    "    if i>=max_i:\n",
    "        print(i)\n",
    "        print('We cannot increment past', max_i)\n",
    "        break"
   ]
  },
  {
   "cell_type": "code",
   "execution_count": null,
   "metadata": {},
   "outputs": [],
   "source": [
    "#increment i by n=5 to a max of 20\n",
    "n=5\n",
    "i=0\n",
    "max_i=20\n",
    "while i<=max_i-n:\n",
    "    print(i)\n",
    "    i=i+n\n",
    "    \n",
    "    if i>=max_i:\n",
    "        print(i)\n",
    "        print('We cannot increment past', max_i)\n",
    "        break"
   ]
  },
  {
   "cell_type": "code",
   "execution_count": null,
   "metadata": {},
   "outputs": [],
   "source": [
    "#increment i by n=5 to a max of 20\n",
    "n=5\n",
    "i=0\n",
    "max_i=20\n",
    "while i<=max_i-n:\n",
    "    print(i)\n",
    "    i+=n\n",
    "    \n",
    "    if i>=max_i:\n",
    "        print(i)\n",
    "        print('We cannot increment past', max_i)\n",
    "        break"
   ]
  },
  {
   "cell_type": "code",
   "execution_count": null,
   "metadata": {},
   "outputs": [],
   "source": [
    "#Using breaks\n",
    "#increment of n\n",
    "n=2\n",
    "i=0\n",
    "max_i=15\n",
    "\n",
    "while True:\n",
    "    print(i)\n",
    "    i+=n\n",
    "    \n",
    "    if i>=max_i-n:\n",
    "        print(i)\n",
    "        print('We cannot increment past', max_i)\n",
    "        break\n"
   ]
  },
  {
   "cell_type": "markdown",
   "metadata": {},
   "source": [
    "## Deacrements"
   ]
  },
  {
   "cell_type": "code",
   "execution_count": null,
   "metadata": {},
   "outputs": [],
   "source": [
    "#Deacrement i by n=1 to a min of 0\n",
    "n=2\n",
    "i=10\n",
    "min_i=0\n",
    "\n",
    "while i>=min_i+n:\n",
    "    print(i)\n",
    "    i=i-n\n",
    "    \n",
    "    if i<=min_i:\n",
    "        print(i)\n",
    "        print('We cannot deacrement below', min_i)\n",
    "        break"
   ]
  },
  {
   "cell_type": "code",
   "execution_count": null,
   "metadata": {},
   "outputs": [],
   "source": [
    "#Deacrements of n\n",
    "#Using breaks\n",
    "n=2\n",
    "i=10\n",
    "min_i=0\n",
    "\n",
    "while True:\n",
    "    print(i)\n",
    "    i-=n\n",
    "    \n",
    "    if i<=min_i:\n",
    "        print(i)\n",
    "        print('We cannot dearement below', min_i)\n",
    "        break\n"
   ]
  },
  {
   "cell_type": "markdown",
   "metadata": {},
   "source": [
    "# Creating Functions\n",
    "We use 'def' to create functions. Once we have created a function. We set the inputs of the function.\n",
    "The function cannot start with a number\n",
    "You can document/add comments to a function by using tripple quotes\n",
    "To display function documentation use the help() function"
   ]
  },
  {
   "cell_type": "code",
   "execution_count": null,
   "metadata": {},
   "outputs": [],
   "source": [
    "#Lets create a function with y as the output and x as the input. f(x) is the function\n",
    "# y=f(x)=x+5\n",
    "\n",
    "def f(x):\n",
    "    \"\"\"y=f(x)=x+5\"\"\"\n",
    "    y=x+5\n",
    "    print('x=',x,',y=x+5=',y)\n",
    "    return y\n",
    "\n",
    "y_1=f(5)\n",
    "y_2=f(10)\n",
    "y_3=f(15)\n",
    "\n",
    "help(f)"
   ]
  },
  {
   "cell_type": "code",
   "execution_count": null,
   "metadata": {},
   "outputs": [],
   "source": [
    "#The dunctions can take up multiple inputs\n",
    "# z=f(x,y)=a+b*x+c*y\n",
    "\n",
    "def f(x,y):\n",
    "    '''z=f(x,y)=a+b*x+c*y'''\n",
    "    z=5+3*x+2.5*y\n",
    "    print('x=',x,',y=',y,',z=5+3*x+2.5*y=',z)\n",
    "    return z\n",
    "\n",
    "z_0=f(0,0)\n",
    "z_1=f(1,0)\n",
    "z_2=f(0,1)\n",
    "z_2=f(3,5)\n",
    "\n",
    "help(f)"
   ]
  },
  {
   "cell_type": "code",
   "execution_count": null,
   "metadata": {},
   "outputs": [],
   "source": [
    "#The function below does not take in any input, hence does not require the 'return' function\n",
    "\n",
    "def birthday_diet():\n",
    "    print('Happy birthday to Florence and Gale, the birthday menu includes: '+menu+'.')\n",
    "birthday_diet()"
   ]
  },
  {
   "cell_type": "code",
   "execution_count": null,
   "metadata": {},
   "outputs": [],
   "source": [
    "#The input is provided within the function thus return function is not needed\n",
    "def add_num(x = 11):\n",
    "    print(x + x)\n",
    "add_num()"
   ]
  },
  {
   "cell_type": "code",
   "execution_count": null,
   "metadata": {},
   "outputs": [],
   "source": [
    "def add_num(x = 10):\n",
    "    print(x, x)\n",
    "    \n",
    "add_num()"
   ]
  },
  {
   "cell_type": "code",
   "execution_count": null,
   "metadata": {},
   "outputs": [],
   "source": [
    "def amplify(message):\n",
    "    tripple=3*message \n",
    "    return \n",
    "\n",
    "full_instruction=amplify(\"Run! \")\n",
    "print(full_instruction)"
   ]
  },
  {
   "cell_type": "code",
   "execution_count": null,
   "metadata": {},
   "outputs": [],
   "source": [
    "def half_value(value):\n",
    "    half=value/2\n",
    "    print('half of',value, 'is', half)\n",
    "    return half\n",
    "\n",
    "half_1=half_value(42.0)"
   ]
  },
  {
   "cell_type": "code",
   "execution_count": null,
   "metadata": {},
   "outputs": [],
   "source": [
    "def make_schedule(period1, period2):\n",
    "    schedule = (\"[1st] \" + period1.title() + \", [2nd] \" + period2.title())\n",
    "    return schedule\n",
    "\n",
    "schedule_1= make_schedule(\"mathematics\", \"history\")\n",
    "print(\"SCHEDULE:\", schedule_1)"
   ]
  },
  {
   "cell_type": "code",
   "execution_count": null,
   "metadata": {},
   "outputs": [],
   "source": [
    "def fish_store(fish):\n",
    "    price=price_list[fish.lower()]\n",
    "    return price\n",
    "\n",
    "price_list={'tuna':80, 'nile perch':10, 'sardine':50}\n",
    "fish=input('Enter fish name ')\n",
    "fish_price=fish_store(fish.lower())\n",
    "print('The price of '+ fish.lower()+ ' is $'+str(fish_price))\n",
    "\n",
    "print('nile' in price_list.keys())"
   ]
  },
  {
   "cell_type": "code",
   "execution_count": null,
   "metadata": {},
   "outputs": [],
   "source": [
    "report=[]\n",
    "\n",
    "def add_report(report):\n",
    "    if sales.lower()=='quit':\n",
    "        total=sum(report)\n",
    "        return total\n",
    "    else:\n",
    "        pass\n",
    "\n",
    "while True:\n",
    "    sales=input('enter purchase')\n",
    "    \n",
    "    if sales.isdigit()==True:\n",
    "        report+=[int(sales)]\n",
    "    \n",
    "    elif sales.lower()=='quit':\n",
    "        client_total=add_report(report)\n",
    "        print(report)\n",
    "        print(client_total)\n",
    "        break\n",
    "    \n",
    "    else:\n",
    "        pass"
   ]
  },
  {
   "cell_type": "code",
   "execution_count": null,
   "metadata": {},
   "outputs": [],
   "source": [
    "report=[]\n",
    "\n",
    "def add_report(report):\n",
    "    if sales.lower()=='quit':\n",
    "        total=sum(report)\n",
    "        return total\n",
    "    else:\n",
    "        pass\n",
    "\n",
    "while True:\n",
    "    sales=input('enter purchase')\n",
    "    \n",
    "    if sales.isdigit()==True:\n",
    "        report+=[int(sales)]\n",
    "    \n",
    "    elif sales.lower()=='quit':\n",
    "        while True:\n",
    "            invoice_type=input('Enter either \\'All\\' or \\'Total\\'' )\n",
    "            if invoice_type.lower()=='all':\n",
    "                print(\"Items\")\n",
    "                for i in report:\n",
    "                    print(i)\n",
    "                break\n",
    "            elif invoice_type.lower()=='total':\n",
    "                break\n",
    "            else:\n",
    "                pass\n",
    "                \n",
    "        client_total=add_report(report)\n",
    "        print('Total Purchase: ',client_total)\n",
    "        break\n",
    "    \n",
    "    else:\n",
    "        pass"
   ]
  },
  {
   "cell_type": "code",
   "execution_count": null,
   "metadata": {},
   "outputs": [],
   "source": [
    "def str_analysis(str):\n",
    "    if str.isalnum()==False:\n",
    "        print('You have inputed','multiple character types')\n",
    "    elif str.isalpha()==True:\n",
    "        print('Your input', 'is all alphabetical')\n",
    "    elif str.isdigit()==True:\n",
    "        str=int(str)\n",
    "        if str>100:\n",
    "            print('Your input is a', 'big number')\n",
    "        else:\n",
    "            print('Your input is a', 'small number')\n",
    "    else:\n",
    "        pass\n",
    "\n",
    "while True:\n",
    "    str=input('Enter either a word or an interger: ')\n",
    "    if str==\"\":\n",
    "        str=input('Enter either a word or an interger: ')\n",
    "    else:\n",
    "        str_1=str_analysis(str)\n",
    "        break"
   ]
  },
  {
   "cell_type": "code",
   "execution_count": null,
   "metadata": {},
   "outputs": [],
   "source": [
    "a=1\n",
    "\n",
    "def add(b):\n",
    "    return a+b\n",
    "\n",
    "c=add(10)\n",
    "print(c)"
   ]
  },
  {
   "cell_type": "code",
   "execution_count": null,
   "metadata": {},
   "outputs": [],
   "source": [
    "# Function example\n",
    "\n",
    "def type_of_album(artist, album, year_released):\n",
    "    \n",
    "    print(artist, album, year_released)\n",
    "    if year_released > 1980:\n",
    "        return \"Modern\"\n",
    "    else:\n",
    "        return \"Oldie\"\n",
    "    \n",
    "x = type_of_album(\"Michael Jackson\", \"Thriller\", 1980)\n",
    "print(x)"
   ]
  },
  {
   "cell_type": "markdown",
   "metadata": {},
   "source": [
    "A variable defined within a function is not accessible outside of the function\n",
    "'global' allows us to convert a variable defined in the scope of a function from a local scope to a global scope i.e. accessibel outside of the function"
   ]
  },
  {
   "cell_type": "code",
   "execution_count": null,
   "metadata": {},
   "outputs": [],
   "source": [
    "artist = \"Michael Jackson\"\n",
    "\n",
    "def printer(artist):\n",
    "    global internal_var \n",
    "    internal_var= \"Whitney Houston\"\n",
    "    print(artist,\"is an artist\")\n",
    "\n",
    "printer(artist) \n",
    "printer(internal_var)"
   ]
  },
  {
   "cell_type": "markdown",
   "metadata": {},
   "source": [
    "## Classes & Objects"
   ]
  },
  {
   "cell_type": "code",
   "execution_count": null,
   "metadata": {},
   "outputs": [],
   "source": [
    "class car(object):\n",
    "    def __init__(self,make,model,colour):\n",
    "        self.make=make;\n",
    "        self.model=model;\n",
    "        self.colour=colour;\n",
    "        self.owner_number=0 \n",
    "    def car_info(self):\n",
    "        print(\"make: \",self.make)\n",
    "        print(\"model:\", self.model)\n",
    "        print(\"colour:\",self.colour)\n",
    "        print(\"number of owners:\",self.owner_number)\n",
    "    def sell(self):\n",
    "        self.owner_number=self.owner_number+1\n",
    "\n",
    "dir(car)"
   ]
  },
  {
   "cell_type": "code",
   "execution_count": null,
   "metadata": {},
   "outputs": [],
   "source": [
    "#The order matters unless we specify the variable being entered\n",
    "car1=car('vw', 'Passat', 'blue')\n",
    "print(car1.car_info(),'\\n')\n",
    "\n",
    "car2=car(colour=\"pink\",make=\"BMW\",model=\"3Series\")\n",
    "print(car2.car_info())"
   ]
  },
  {
   "cell_type": "code",
   "execution_count": null,
   "metadata": {},
   "outputs": [],
   "source": [
    "#You can change attributes\n",
    "print(car1.model)\n",
    "car1.model='Beetle'\n",
    "print(car1.car_info())"
   ]
  },
  {
   "cell_type": "code",
   "execution_count": null,
   "metadata": {},
   "outputs": [],
   "source": [
    "#Apply a function defined in the class() function\n",
    "car1.sell()\n",
    "print(car1.car_info())\n",
    "\n",
    "car1.sell()\n",
    "print(car1.car_info())"
   ]
  },
  {
   "cell_type": "code",
   "execution_count": null,
   "metadata": {},
   "outputs": [],
   "source": [
    "import matplotlib.pyplot as plt\n",
    "%matplotlib inline\n",
    "\n",
    "class circle(object):\n",
    "    def __init__(self, radius, colour):\n",
    "        self.radius=radius;\n",
    "        self.colour=colour;\n",
    "    def add_radius(self, r):\n",
    "        self.radius = self.radius + r\n",
    "        return(self.radius)\n",
    "    def drawcircle(self):\n",
    "        plt.gca().add_patch(plt.Circle((0, 0), radius=self.radius, fc=self.colour))\n",
    "        plt.axis('scaled')\n",
    "        plt.show()  \n",
    "\n",
    "circle1=circle(10,'maroon')\n",
    "circle1.drawcircle()"
   ]
  },
  {
   "cell_type": "code",
   "execution_count": null,
   "metadata": {},
   "outputs": [],
   "source": [
    "class Rectangle(object):\n",
    "    # Constructor\n",
    "    def __init__(self, width=2, height=3, color='r'):\n",
    "        self.height=height\n",
    "        self.width=width\n",
    "        self.color=color\n",
    "    \n",
    "    # Method\n",
    "    def drawRectangle(self):\n",
    "        plt.gca().add_patch(plt.Rectangle((0, 0), self.width, self.height ,fc=self.color))\n",
    "        plt.axis('scaled')\n",
    "        plt.show()"
   ]
  },
  {
   "cell_type": "code",
   "execution_count": null,
   "metadata": {},
   "outputs": [],
   "source": [
    "SkinnyBlueRectangle = Rectangle(5, 10, 'blue')\n",
    "SkinnyBlueRectangle.drawRectangle()"
   ]
  },
  {
   "cell_type": "code",
   "execution_count": null,
   "metadata": {},
   "outputs": [],
   "source": [
    "FatYellowRectangle = Rectangle(20, 5, 'yellow')\n",
    "FatYellowRectangle.drawRectangle()"
   ]
  },
  {
   "cell_type": "code",
   "execution_count": 26,
   "metadata": {},
   "outputs": [
    {
     "name": "stdout",
     "output_type": "stream",
     "text": [
      "['wheresoever', 'you', 'go,', 'go', 'with', 'all', 'your', 'heart']\n",
      "['wheresoever', 'you', 'with', 'your', 'heart']\n"
     ]
    }
   ],
   "source": [
    "#Retain all words that start after g\n",
    "phrase='Wheresoever you go, go with all your heart'\n",
    "phrase=phrase.lower()\n",
    "\n",
    "words=phrase.split(' ')\n",
    "print(words)\n",
    "\n",
    "words_retained=[]\n",
    "\n",
    "for i in range(len(words)):\n",
    "    if words[i]>'gz':\n",
    "        words_retained+=[words[i]]\n",
    "    \n",
    "    else:\n",
    "        pass\n",
    "print(words_retained)"
   ]
  },
  {
   "cell_type": "markdown",
   "metadata": {},
   "source": [
    "## Manipulating Files\n",
    "<p>\n",
    "    We use the <code>open()</code> function to:<ul>\n",
    "        <li>Create new files;</li>\n",
    "        <li>Overwrite(existing files);</li>\n",
    "        <li>read existing files; and</li>\n",
    "        <li>write (edit) existing files</li>.\n",
    "</ul>The code works by creating a file object. Once a fileobject has been created, it can be called and the file corresponding to it can be utilised in Python.<ul>\n",
    "    </ul><code>file_object=open(file_path,mode)</code><ul>\n",
    "</ul>To use the <code>open(file_path,mode)</code>, we need to specify the file path and the mode:<ul>\n",
    "        <li>File path: Consists of two parts:<ul>\n",
    "            <li>file directory:Lets us know the location of the file</li>\n",
    "            <li>file name: This is the name of the file</li>\n",
    "            </ul><ul>\n",
    "            </ul><ul>\n",
    "            </ul><li>mode: The mode determines what the open function does to the file</li><ul>\n",
    "    <li><b>w</b>: Allows python you to create a new file or write over an existing file</li><ul>\n",
    "    <code>file_object=open(file_path,'w')</code>\n",
    "    </ul><li><b>r</b>: Allows python to read contents of a file</li><ul>\n",
    "    <code>file_object=open(file_path,'r')</code>\n",
    "    </ul><li><b>a</b>: Allows python to add information to a file</li><ul>\n",
    "    <code>file_object=open(file_path,'a')</code>\n",
    "    </ul></ul></ul></p>\n",
    "\n",
    "<img src=\"https://s3-api.us-geo.objectstorage.softlayer.net/cf-courses-data/CognitiveClass/PY0101EN/Chapter%204/Images/ReadOpen.png\" width=\"500\" />            \n",
    "\n",
    "<p>\n",
    "    Once we have created a file object and the file is in read mode, we easily check its attributes:<ul>\n",
    "    <li><code>file_object.name</code>: Outputs the file path</li>\n",
    "    <li><code>file_object.mode</code>: Outputs the mode of the <code>open()</code> function</li>\n",
    "</ul></p>\n",
    "<p>We can also:<ul>\n",
    "    <li>Read file contents by using the <code>.read()</code> function. This function will output the entire files contents.<li/>\n",
    "    \n",
    "        \n",
    "        <code>file_object.read()</code>\n",
    "    \n",
    "    </p>\n",
    "        \n",
    "\n",
    "<p>\n",
    "    After using the <code>open()</code> function to manipulate a file we close the  file by using the <code>.close()</code> function as shown below:<ul>\n",
    "        <ul>\n",
    "        <code>file_object.close()</code>\n",
    "            </ul>We can also check if a file has been closed by using the Boolean file function:<ul>\n",
    "    <code>file_object.closed</code>\n",
    "</ul>Its tedious to continously do this, thus its preferable to incorporate an "
   ]
  },
  {
   "cell_type": "markdown",
   "metadata": {},
   "source": [
    "### Reading Files\n",
    "<p>\n",
    "    We can output file content by using the <code>.read()</code> function:<ul>\n",
    "        <code>file_object.read()</code>\n",
    "        </ul>We can also assign this output to a variable:<ul>\n",
    "    <code>file_content=file_object.read()</code><ul>\n",
    "    </ul><ul>\n",
    "</p>"
   ]
  },
  {
   "cell_type": "code",
   "execution_count": 50,
   "metadata": {},
   "outputs": [
    {
     "data": {
      "text/plain": [
       "'This is line 1\\nThis is line 2\\nThis is line 3\\nfjas'"
      ]
     },
     "execution_count": 50,
     "metadata": {},
     "output_type": "execute_result"
    }
   ],
   "source": [
    "example1 = r\"C:\\Users\\Kevin Matagaro\\Documents\\test.txt\"\n",
    "file1 = open(example1, \"r\")\n",
    "file1.read()\n"
   ]
  },
  {
   "cell_type": "code",
   "execution_count": 49,
   "metadata": {},
   "outputs": [
    {
     "name": "stdout",
     "output_type": "stream",
     "text": [
      "C:\\Users\\Kevin Matagaro\\Documents\\test.txt\n",
      "r\n"
     ]
    }
   ],
   "source": [
    "print(file1.name)\n",
    "print(file1.mode)"
   ]
  },
  {
   "cell_type": "code",
   "execution_count": 46,
   "metadata": {},
   "outputs": [
    {
     "data": {
      "text/plain": [
       "<function TextIOWrapper.close()>"
      ]
     },
     "execution_count": 46,
     "metadata": {},
     "output_type": "execute_result"
    }
   ],
   "source": [
    "file1.close"
   ]
  },
  {
   "cell_type": "markdown",
   "metadata": {},
   "source": [
    "<hr>"
   ]
  }
 ],
 "metadata": {
  "kernelspec": {
   "display_name": "Python 3",
   "language": "python",
   "name": "python3"
  },
  "language_info": {
   "codemirror_mode": {
    "name": "ipython",
    "version": 3
   },
   "file_extension": ".py",
   "mimetype": "text/x-python",
   "name": "python",
   "nbconvert_exporter": "python",
   "pygments_lexer": "ipython3",
   "version": "3.7.1"
  }
 },
 "nbformat": 4,
 "nbformat_minor": 2
}
